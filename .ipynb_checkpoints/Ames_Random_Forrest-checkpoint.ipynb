{
 "cells": [
  {
   "cell_type": "markdown",
   "metadata": {},
   "source": [
    "Project 3 House Dataset"
   ]
  },
  {
   "cell_type": "markdown",
   "metadata": {},
   "source": [
    "Goals of this project:\n",
    "Use machine learning\n",
    "Gain insight into the data that can be useful\n",
    "Not trying to develop the best overall model, but a good specific model that is useable\n",
    "Market Audience:\n",
    "Home appraiser\n",
    "House Flipper (looking on insights for purchasing or what to add improve for sell)\n",
    "Real Estate agent looking for a quick model for helping owners improve sellability\n",
    "Tools:\n",
    "Python\n",
    "?????\n",
    "packages (see below in import statements)"
   ]
  },
  {
   "cell_type": "markdown",
   "metadata": {},
   "source": [
    "## Descriptive Modeling\n",
    "Step 1:\n",
    "Approaching from a house flipper:\n",
    "Do certain neighborhoods have better opportunity for flipping?\n",
    "- low to high price in neighborhood?\n",
    "- easy remedy to increase price (i.e. pave driveway? convert basement to bedroom, etc...?\n",
    "- difference between well maintained and poor maintained house?\n",
    "- remodel kitchen?"
   ]
  },
  {
   "cell_type": "markdown",
   "metadata": {},
   "source": [
    "## Step 2: Get the Data\n",
    "- do I need more data? like -\n",
    "- - Housing index\n",
    "- - Mortgage rates\n",
    "- - Length of time to sell\n",
    "- - Schools\n",
    "- - Tax rate (assuming all rates are the same for year of sell because all are within Ames City Limits"
   ]
  },
  {
   "cell_type": "code",
   "execution_count": 3,
   "metadata": {
    "ExecuteTime": {
     "end_time": "2020-12-07T20:39:54.832939Z",
     "start_time": "2020-12-07T20:39:54.810701Z"
    }
   },
   "outputs": [],
   "source": [
    "# Import Statements\n",
    "import pandas as pd\n",
    "import numpy as np\n",
    "import matplotlib.pyplot as plt\n",
    "from sklearn.linear_model import LinearRegression\n",
    "from sklearn.model_selection import train_test_split\n",
    "from sklearn.preprocessing import OrdinalEncoder\n",
    "from sklearn.neighbors import NearestNeighbors\n",
    "from sklearn import preprocessing\n",
    "from sklearn.impute import KNNImputer\n",
    "from scipy import stats\n",
    "from sklearn.ensemble import RandomForestRegressor\n",
    "from sklearn.metrics import accuracy_score, confusion_matrix, precision_score, \\\n",
    "    recall_score, roc_auc_score, roc_curve, f1_score\n",
    "from sklearn.preprocessing import OneHotEncoder\n",
    "from sklearn.compose import make_column_transformer\n",
    "from sklearn.ensemble import RandomForestClassifier\n",
    "from sklearn.model_selection import RandomizedSearchCV\n",
    "from pprint import pprint\n",
    "from sklearn.pipeline import make_pipeline\n",
    "\n",
    "# set display options\n",
    "pd.set_option('display.max_columns', None)\n",
    "%matplotlib inline"
   ]
  },
  {
   "cell_type": "code",
   "execution_count": null,
   "metadata": {
    "ExecuteTime": {
     "end_time": "2020-12-02T00:24:44.901820Z",
     "start_time": "2020-12-02T00:24:44.863742Z"
    }
   },
   "outputs": [],
   "source": [
    "# load data\n",
    "\n",
    "train=pd.read_csv('train.csv')\n",
    "test = pd.read_csv('test.csv')\n",
    "sample = pd.read_csv('sample_submission.csv')\n",
    "\n",
    "data_list = [train, test, sample]"
   ]
  },
  {
   "cell_type": "markdown",
   "metadata": {},
   "source": [
    "## Step 3: Missing Data"
   ]
  },
  {
   "cell_type": "code",
   "execution_count": null,
   "metadata": {
    "ExecuteTime": {
     "end_time": "2020-12-02T00:24:46.382723Z",
     "start_time": "2020-12-02T00:24:46.314338Z"
    }
   },
   "outputs": [],
   "source": [
    "# Quick look at the missing\n",
    "for lst in data_list:\n",
    "    print('*' * 80)\n",
    "    print('Data Head - ')\n",
    "    print(lst.head()) \n",
    "    missing_values_col = lst.isna().sum()\n",
    "    print(\"Columns with missing data counts\")\n",
    "    print(missing_values_col.sort_values(ascending=False))\n",
    "    missing_values = lst.isna().sum().sum()\n",
    "    print(\"Shape: \", lst.shape)\n",
    "    print(\"Total Missing: \", missing_values)\n",
    "    print(\"Percent Missing: \", missing_values / (lst.shape[0]*lst.shape[1]) * 100)\n",
    "    print('*' * 80)"
   ]
  },
  {
   "cell_type": "markdown",
   "metadata": {},
   "source": [
    "From above, both test and learning data have some missing data that needs to be addressed. Based on the data documentation, it looks like most of the missing can be attributed to no value.\n",
    "\n"
   ]
  },
  {
   "cell_type": "code",
   "execution_count": null,
   "metadata": {
    "ExecuteTime": {
     "end_time": "2020-12-02T00:24:48.642966Z",
     "start_time": "2020-12-02T00:24:48.638700Z"
    }
   },
   "outputs": [],
   "source": [
    "'''I notice above that we have 81 columns in train vs 80 in test, \n",
    "I assume that is the salesprice column, but will double check.'''\n",
    "\n",
    "set(train.columns) - set(test.columns)"
   ]
  },
  {
   "cell_type": "code",
   "execution_count": null,
   "metadata": {
    "ExecuteTime": {
     "end_time": "2020-12-02T00:24:49.541894Z",
     "start_time": "2020-12-02T00:24:49.539382Z"
    }
   },
   "outputs": [],
   "source": [
    "# A function for finding missing value counts\n",
    "def find_missing (df):\n",
    "    missing_values_col = df.isna().sum()\n",
    "    print(missing_values_col.sort_values(ascending=False))\n",
    "    return missing_values_col"
   ]
  },
  {
   "cell_type": "code",
   "execution_count": null,
   "metadata": {
    "ExecuteTime": {
     "end_time": "2020-12-02T01:06:00.636568Z",
     "start_time": "2020-12-02T01:06:00.619517Z"
    }
   },
   "outputs": [],
   "source": [
    "# setup the data for train x,y and test\n",
    "train_x = train.iloc[:,:-1]\n",
    "test_x = test\n",
    "test_y = sample\n",
    "train_y = train.iloc[:,-1]\n",
    "\n",
    "find_missing(train_x)\n",
    "find_missing(test_x)"
   ]
  },
  {
   "cell_type": "code",
   "execution_count": null,
   "metadata": {
    "ExecuteTime": {
     "end_time": "2020-12-02T01:06:01.672764Z",
     "start_time": "2020-12-02T01:06:01.669463Z"
    }
   },
   "outputs": [],
   "source": [
    "#From looking at above and the dataset description, these features with missing data can \n",
    "# be changed to 'NA'\n",
    "replace_na_col = ['PoolQC', 'MiscFeature', 'Alley', 'Fence', 'FireplaceQu', 'LotFrontage',\n",
    "                  'GarageQual', 'GarageCond', 'GarageType', 'GarageFinish', 'GarageYrBlt',\n",
    "                  'GarageQual', 'BsmtExposure', 'BsmtQual', 'BsmtCond', 'BsmtFinType1',\n",
    "                  'BsmtFinType2'\n",
    "                 ]\n",
    "def change_missing(df, col_=replace_na_col, val='NA'):\n",
    "    df[col_] = df[col_].replace({np.nan: val})\n",
    "    return df\n",
    "    "
   ]
  },
  {
   "cell_type": "code",
   "execution_count": null,
   "metadata": {
    "ExecuteTime": {
     "end_time": "2020-12-02T01:06:02.992135Z",
     "start_time": "2020-12-02T01:06:02.968581Z"
    }
   },
   "outputs": [],
   "source": [
    "train_x = change_missing(train_x)\n",
    "test_x = change_missing(test_x)"
   ]
  },
  {
   "cell_type": "code",
   "execution_count": null,
   "metadata": {
    "ExecuteTime": {
     "end_time": "2020-12-02T01:06:04.456772Z",
     "start_time": "2020-12-02T01:06:04.443642Z"
    }
   },
   "outputs": [],
   "source": [
    "find_missing(train_x)\n",
    "find_missing(test_x)"
   ]
  },
  {
   "cell_type": "markdown",
   "metadata": {},
   "source": [
    "## Changing from object to category type"
   ]
  },
  {
   "cell_type": "code",
   "execution_count": null,
   "metadata": {
    "ExecuteTime": {
     "end_time": "2020-12-02T01:06:14.146055Z",
     "start_time": "2020-12-02T01:06:14.143036Z"
    }
   },
   "outputs": [],
   "source": [
    "# function to make change and return dataframe\n",
    "def make_the_change(df, type_from, type_to='category'):\n",
    "    for col_ in df.drop(['Id'], axis=1):\n",
    "        if df[col_].dtype in type_from:\n",
    "            df[col_] = df[col_].astype(type_to)\n",
    "    return df\n"
   ]
  },
  {
   "cell_type": "code",
   "execution_count": null,
   "metadata": {
    "ExecuteTime": {
     "end_time": "2020-12-02T01:06:14.998429Z",
     "start_time": "2020-12-02T01:06:14.944413Z"
    }
   },
   "outputs": [],
   "source": [
    "train_x = make_the_change(train_x, ['object', 'int64', 'float64'])\n",
    "test_x =  make_the_change(train_x, ['object', 'int64', 'float64'])"
   ]
  },
  {
   "cell_type": "code",
   "execution_count": null,
   "metadata": {
    "ExecuteTime": {
     "end_time": "2020-12-02T01:06:15.822220Z",
     "start_time": "2020-12-02T01:06:15.817946Z"
    }
   },
   "outputs": [],
   "source": [
    "train_x.dtypes"
   ]
  },
  {
   "cell_type": "markdown",
   "metadata": {},
   "source": [
    "## Bin the sales price"
   ]
  },
  {
   "cell_type": "code",
   "execution_count": null,
   "metadata": {
    "ExecuteTime": {
     "end_time": "2020-12-02T01:06:24.373251Z",
     "start_time": "2020-12-02T01:06:24.368641Z"
    }
   },
   "outputs": [],
   "source": [
    "bin_1 = np.linspace(25000, 450000, 18) \n",
    "bin_2 = np.array([500000, 550000, 600000, 800000])\n",
    "bin_ = np.concatenate((bin_1, bin_2))\n",
    "bin_"
   ]
  },
  {
   "cell_type": "code",
   "execution_count": null,
   "metadata": {
    "ExecuteTime": {
     "end_time": "2020-12-02T01:06:25.398744Z",
     "start_time": "2020-12-02T01:06:25.394162Z"
    }
   },
   "outputs": [],
   "source": [
    "train_y"
   ]
  },
  {
   "cell_type": "code",
   "execution_count": null,
   "metadata": {
    "ExecuteTime": {
     "end_time": "2020-12-02T01:06:29.177543Z",
     "start_time": "2020-12-02T01:06:29.169170Z"
    }
   },
   "outputs": [],
   "source": [
    "train_y_cut = pd.cut(train_y, bins=bin_).astype('category')#np.linspace(25000, 775000, 31))#, right=False)#[col+'_low', col+'_mid', col+'_high', col+'_very_high'])\n",
    "test_y_cut = pd.cut(test_y['SalePrice'], bins=bin_).astype('category')\n",
    "\n",
    "#train_y['SalePrice_cut'] # = train_x['SalePrice_cut'].astype('category')"
   ]
  },
  {
   "cell_type": "code",
   "execution_count": null,
   "metadata": {
    "ExecuteTime": {
     "end_time": "2020-12-02T01:06:30.478032Z",
     "start_time": "2020-12-02T01:06:30.470117Z"
    }
   },
   "outputs": [],
   "source": [
    "train_y_cut\n",
    "test_y_cut"
   ]
  },
  {
   "cell_type": "code",
   "execution_count": null,
   "metadata": {
    "ExecuteTime": {
     "end_time": "2020-12-02T16:26:55.162814Z",
     "start_time": "2020-12-02T16:26:55.150203Z"
    }
   },
   "outputs": [],
   "source": [
    "# taking care of missing values\n",
    "fields_ = ['MasVnrArea', 'Electrical', 'MSZoning', 'Functional', 'Utilities']\n",
    "val_ = []\n",
    "for f in (fields_):\n",
    "    #val_.append([train_x[f].mode()[0]])\n",
    "    train_x[f] = train_x[f].fillna(train_x[f].mode()[0])\n",
    "    test_x[f] = test_x[f].fillna(test_x[f].mode()[0])\n",
    "    print(f, train_x[f].mode()[0])\n",
    "\n"
   ]
  },
  {
   "cell_type": "code",
   "execution_count": null,
   "metadata": {
    "ExecuteTime": {
     "end_time": "2020-12-02T18:06:19.545289Z",
     "start_time": "2020-12-02T18:06:19.478834Z"
    }
   },
   "outputs": [],
   "source": [
    "for col_ in train_x.columns:\n",
    "    train_x[col_]=train_x[col_].astype('str')\n",
    "for col_ in test_x.columns:\n",
    "    test_x[col_]=test_x[col_].astype('str')\n",
    "\n",
    "train_x['MasVnrArea']=train_x['MasVnrArea'].astype('str')\n",
    "test_x['MasVnrArea']=test_x['MasVnrArea'].astype('str')"
   ]
  },
  {
   "cell_type": "code",
   "execution_count": null,
   "metadata": {
    "ExecuteTime": {
     "end_time": "2020-12-02T21:00:21.060011Z",
     "start_time": "2020-12-02T21:00:21.048117Z"
    }
   },
   "outputs": [],
   "source": [
    "find_missing(test_x)"
   ]
  },
  {
   "cell_type": "markdown",
   "metadata": {
    "ExecuteTime": {
     "end_time": "2020-12-02T00:59:42.998159Z",
     "start_time": "2020-12-02T00:59:42.993825Z"
    }
   },
   "source": [
    "## Some Aggregate Data       "
   ]
  },
  {
   "cell_type": "code",
   "execution_count": null,
   "metadata": {
    "ExecuteTime": {
     "end_time": "2020-12-02T01:42:28.671357Z",
     "start_time": "2020-12-02T01:42:28.654159Z"
    }
   },
   "outputs": [],
   "source": [
    "neigh = test_x['Neighborhood'].unique()\n",
    "neigh\n",
    "\n",
    "agg_data_by_Neighborhood = train.groupby('Neighborhood')['SalePrice'] \\\n",
    "    .agg(['mean', 'median', 'max', 'min', 'count']).sort_values('mean')\n",
    "\n",
    "agg_data_by_Neighborhood['dif']= agg_data_by_Neighborhood['max']-agg_data_by_Neighborhood['min']\n",
    "agg_data_by_Neighborhood"
   ]
  },
  {
   "cell_type": "code",
   "execution_count": null,
   "metadata": {},
   "outputs": [],
   "source": []
  },
  {
   "cell_type": "code",
   "execution_count": null,
   "metadata": {
    "ExecuteTime": {
     "end_time": "2020-12-02T01:38:49.349050Z",
     "start_time": "2020-12-02T01:38:48.411030Z"
    }
   },
   "outputs": [],
   "source": [
    "\n",
    "\n",
    "\n",
    "train_x.groupby(['Neighborhood']).agg(lambda x: stats.mode(x)[0])#.mode()"
   ]
  },
  {
   "cell_type": "markdown",
   "metadata": {},
   "source": [
    "## Lets give it a go! some forest time"
   ]
  },
  {
   "cell_type": "code",
   "execution_count": null,
   "metadata": {
    "ExecuteTime": {
     "end_time": "2020-12-02T21:49:35.608855Z",
     "start_time": "2020-12-02T21:49:35.606384Z"
    }
   },
   "outputs": [],
   "source": [
    "train_x = a\n",
    "train_y = c\n",
    "test_x = b\n",
    "test_y = d"
   ]
  },
  {
   "cell_type": "code",
   "execution_count": null,
   "metadata": {
    "ExecuteTime": {
     "end_time": "2020-12-02T21:49:37.417110Z",
     "start_time": "2020-12-02T21:49:37.414455Z"
    }
   },
   "outputs": [],
   "source": [
    "\n",
    "col_trans = make_column_transformer(\n",
    "                        (OneHotEncoder(),train_x.columns.tolist()),\n",
    "                        remainder = \"passthrough\"\n",
    "                        )"
   ]
  },
  {
   "cell_type": "code",
   "execution_count": null,
   "metadata": {
    "ExecuteTime": {
     "end_time": "2020-12-02T21:49:38.920943Z",
     "start_time": "2020-12-02T21:49:38.917394Z"
    }
   },
   "outputs": [],
   "source": []
  },
  {
   "cell_type": "code",
   "execution_count": null,
   "metadata": {
    "ExecuteTime": {
     "end_time": "2020-12-02T21:49:40.427340Z",
     "start_time": "2020-12-02T21:49:40.423591Z"
    }
   },
   "outputs": [],
   "source": [
    "set(train_x.columns) - set(test_x.columns)"
   ]
  },
  {
   "cell_type": "code",
   "execution_count": null,
   "metadata": {
    "ExecuteTime": {
     "end_time": "2020-12-02T21:49:42.426142Z",
     "start_time": "2020-12-02T21:49:42.423864Z"
    }
   },
   "outputs": [],
   "source": []
  },
  {
   "cell_type": "code",
   "execution_count": null,
   "metadata": {
    "ExecuteTime": {
     "end_time": "2020-12-02T21:49:44.172605Z",
     "start_time": "2020-12-02T21:49:44.169510Z"
    }
   },
   "outputs": [],
   "source": [
    "rf_classifier = RandomForestClassifier(\n",
    "                      min_samples_leaf=10,\n",
    "                      n_estimators=5000,\n",
    "                      bootstrap=True,\n",
    "                      oob_score=True,\n",
    "                      n_jobs=-1,\n",
    "                      random_state=22,\n",
    "                      max_features=5)"
   ]
  },
  {
   "cell_type": "code",
   "execution_count": null,
   "metadata": {
    "ExecuteTime": {
     "end_time": "2020-12-02T21:49:57.282854Z",
     "start_time": "2020-12-02T21:49:47.845855Z"
    }
   },
   "outputs": [],
   "source": [
    "#train_x=train_x.drop(['index'])\n",
    "\n",
    "pipe = make_pipeline(col_trans, rf_classifier)\n",
    "pipe.fit(train_x, train_y)"
   ]
  },
  {
   "cell_type": "code",
   "execution_count": null,
   "metadata": {
    "ExecuteTime": {
     "end_time": "2020-12-02T21:46:14.101813Z",
     "start_time": "2020-12-02T21:46:14.092159Z"
    }
   },
   "outputs": [],
   "source": [
    "find_missing(b)"
   ]
  },
  {
   "cell_type": "code",
   "execution_count": null,
   "metadata": {
    "ExecuteTime": {
     "end_time": "2020-12-02T21:46:16.381375Z",
     "start_time": "2020-12-02T21:46:16.344243Z"
    }
   },
   "outputs": [],
   "source": [
    "unique_counts(train_x)"
   ]
  },
  {
   "cell_type": "code",
   "execution_count": null,
   "metadata": {
    "ExecuteTime": {
     "end_time": "2020-12-02T21:46:20.133793Z",
     "start_time": "2020-12-02T21:46:20.103212Z"
    }
   },
   "outputs": [],
   "source": [
    "ff = unique_counts(test_x)"
   ]
  },
  {
   "cell_type": "code",
   "execution_count": null,
   "metadata": {
    "ExecuteTime": {
     "end_time": "2020-12-02T21:46:21.893570Z",
     "start_time": "2020-12-02T21:46:21.889110Z"
    }
   },
   "outputs": [],
   "source": [
    "print(ff)"
   ]
  },
  {
   "cell_type": "code",
   "execution_count": null,
   "metadata": {
    "ExecuteTime": {
     "end_time": "2020-12-02T21:27:34.812268Z",
     "start_time": "2020-12-02T21:27:34.734705Z"
    }
   },
   "outputs": [],
   "source": []
  },
  {
   "cell_type": "code",
   "execution_count": null,
   "metadata": {},
   "outputs": [],
   "source": []
  },
  {
   "cell_type": "code",
   "execution_count": null,
   "metadata": {
    "ExecuteTime": {
     "end_time": "2020-12-02T21:46:33.360139Z",
     "start_time": "2020-12-02T21:46:33.354647Z"
    }
   },
   "outputs": [],
   "source": [
    "test_x['MSZoning'].unique"
   ]
  },
  {
   "cell_type": "code",
   "execution_count": null,
   "metadata": {
    "ExecuteTime": {
     "end_time": "2020-12-02T21:50:14.755568Z",
     "start_time": "2020-12-02T21:50:14.705163Z"
    }
   },
   "outputs": [],
   "source": [
    "y_pred = pipe.predict(test_x)"
   ]
  },
  {
   "cell_type": "code",
   "execution_count": null,
   "metadata": {
    "ExecuteTime": {
     "end_time": "2020-12-02T20:59:50.733461Z",
     "start_time": "2020-12-02T20:59:50.721488Z"
    }
   },
   "outputs": [],
   "source": [
    "accuracy_score(test_y['SalePrice'].astype('str'), y_pred)"
   ]
  },
  {
   "cell_type": "code",
   "execution_count": null,
   "metadata": {
    "ExecuteTime": {
     "end_time": "2020-12-02T17:25:30.654175Z",
     "start_time": "2020-12-02T17:25:30.650402Z"
    }
   },
   "outputs": [],
   "source": [
    "y_pred"
   ]
  },
  {
   "cell_type": "code",
   "execution_count": null,
   "metadata": {
    "ExecuteTime": {
     "end_time": "2020-12-02T21:00:05.987021Z",
     "start_time": "2020-12-02T21:00:05.975849Z"
    }
   },
   "outputs": [],
   "source": [
    "confusion_matrix(test_y['SalePrice'].astype('int'), y_pred)"
   ]
  },
  {
   "cell_type": "code",
   "execution_count": null,
   "metadata": {
    "ExecuteTime": {
     "end_time": "2020-12-02T17:25:44.175530Z",
     "start_time": "2020-12-02T17:25:43.664306Z"
    }
   },
   "outputs": [],
   "source": [
    "print(rf_classifier.feature_importances_)\n",
    "print(f\" There are {len(rf_classifier.feature_importances_)} features in total\")"
   ]
  },
  {
   "cell_type": "code",
   "execution_count": null,
   "metadata": {
    "ExecuteTime": {
     "end_time": "2020-12-02T17:25:48.379381Z",
     "start_time": "2020-12-02T17:25:48.320456Z"
    }
   },
   "outputs": [],
   "source": [
    "print(col_trans.fit_transform(train_x)[0,:])"
   ]
  },
  {
   "cell_type": "code",
   "execution_count": null,
   "metadata": {
    "ExecuteTime": {
     "end_time": "2020-12-02T17:19:39.375830Z",
     "start_time": "2020-12-02T17:19:39.370747Z"
    }
   },
   "outputs": [],
   "source": [
    "train_x.iloc[0,:] "
   ]
  },
  {
   "cell_type": "code",
   "execution_count": null,
   "metadata": {
    "ExecuteTime": {
     "end_time": "2020-12-02T20:36:02.959253Z",
     "start_time": "2020-12-02T20:36:02.869826Z"
    }
   },
   "outputs": [],
   "source": [
    "def encode_and_bind(original_dataframe, features_to_encode):\n",
    "    dummies = pd.get_dummies(original_dataframe[features_to_encode])\n",
    "    res = pd.concat([dummies, original_dataframe], axis=1)\n",
    "    res = res.drop(features_to_encode, axis=1)\n",
    "    return(res)\n",
    "X_train_encoded = encode_and_bind(train_x, train_x.columns.tolist())"
   ]
  },
  {
   "cell_type": "code",
   "execution_count": null,
   "metadata": {
    "ExecuteTime": {
     "end_time": "2020-12-02T17:26:01.702391Z",
     "start_time": "2020-12-02T17:26:00.552075Z"
    }
   },
   "outputs": [],
   "source": [
    "feature_importances = list(zip(X_train_encoded, rf_classifier.feature_importances_))\n",
    "\n",
    "\n",
    "# Then sort the feature importances by most important first\n",
    "feature_importances_ranked = sorted(feature_importances, key = lambda x: x[1], reverse = True)\n",
    "# Print out the feature and importances\n",
    "[print('Feature: {:35} Importance: {}'.format(*pair)) for pair in feature_importances_ranked];\n",
    "\n"
   ]
  },
  {
   "cell_type": "code",
   "execution_count": null,
   "metadata": {
    "ExecuteTime": {
     "end_time": "2020-12-02T17:26:05.412079Z",
     "start_time": "2020-12-02T17:26:05.182823Z"
    }
   },
   "outputs": [],
   "source": [
    "# Plot the top 25 feature importance\n",
    "feature_names_25 = [i[0] for i in feature_importances_ranked[:25]]\n",
    "y_ticks = np.arange(0, len(feature_names_25))\n",
    "x_axis = [i[1] for i in feature_importances_ranked[:25]]\n",
    "plt.figure(figsize = (10, 14))\n",
    "plt.barh(feature_names_25, x_axis)   #horizontal barplot\n",
    "plt.title('Random Forest Feature Importance (Top 25)',\n",
    "          fontdict= {'fontname':'Comic Sans MS','fontsize' : 20})\n",
    "plt.xlabel('Features',fontdict= {'fontsize' : 16})\n",
    "plt.show()"
   ]
  },
  {
   "cell_type": "code",
   "execution_count": null,
   "metadata": {},
   "outputs": [],
   "source": []
  },
  {
   "cell_type": "code",
   "execution_count": null,
   "metadata": {
    "ExecuteTime": {
     "end_time": "2020-12-02T17:30:38.736432Z",
     "start_time": "2020-12-02T17:30:38.732282Z"
    }
   },
   "outputs": [],
   "source": [
    "\n",
    "print('Parameters currently in use:\\n')\n",
    "pprint(rf_classifier.get_params())"
   ]
  },
  {
   "cell_type": "code",
   "execution_count": null,
   "metadata": {
    "ExecuteTime": {
     "end_time": "2020-12-02T22:15:56.971512Z",
     "start_time": "2020-12-02T22:15:56.965680Z"
    }
   },
   "outputs": [],
   "source": [
    "\n",
    "n_estimators = [int(x) for x in np.linspace(start = 2, stop = 1000, num = 200)]\n",
    "max_features = ['auto', 'log2', 3]  # Number of features to consider at every split\n",
    "max_depth = [int(x) for x in np.linspace(2, 10, num = 9)]   # Maximum number of levels in tree\n",
    "max_depth.append(None)\n",
    "min_samples_split = [2, 5, 10]  # Minimum number of samples required to split a node\n",
    "min_samples_leaf = [1, 4, 10]    # Minimum number of samples required at each leaf node\n",
    "bootstrap = [True, False]       # Method of selecting samples for training each tree\n",
    "random_grid = {'n_estimators': n_estimators,\n",
    "               'max_features': max_features,\n",
    "               'max_depth': max_depth,\n",
    "               'min_samples_split': min_samples_split,\n",
    "               'min_samples_leaf': min_samples_leaf,\n",
    "               'max_leaf_nodes': [None] + list(np.linspace(10, 50, 500).astype(int)),\n",
    "               'bootstrap': bootstrap}"
   ]
  },
  {
   "cell_type": "code",
   "execution_count": null,
   "metadata": {
    "ExecuteTime": {
     "end_time": "2020-12-02T22:15:58.813193Z",
     "start_time": "2020-12-02T22:15:58.811368Z"
    }
   },
   "outputs": [],
   "source": [
    "train_x = a\n",
    "test_x = b\n",
    "train_y =c\n",
    "test_y = d"
   ]
  },
  {
   "cell_type": "code",
   "execution_count": null,
   "metadata": {
    "ExecuteTime": {
     "end_time": "2020-12-02T22:17:37.706806Z",
     "start_time": "2020-12-02T22:16:00.725821Z"
    }
   },
   "outputs": [],
   "source": [
    "rf = RandomForestClassifier(oob_score=True, n_jobs=-1)\n",
    "rf_random = RandomizedSearchCV(\n",
    "                estimator = rf,\n",
    "                param_distributions = random_grid,\n",
    "                n_iter = 50, cv = 3,\n",
    "                verbose=1, random_state=22,\n",
    "                scoring='accuracy')\n",
    "pipe_random = make_pipeline(col_trans, rf_random)\n",
    "pipe_random.fit(train_x, train_y)\n",
    "rf_random.best_params_"
   ]
  },
  {
   "cell_type": "code",
   "execution_count": null,
   "metadata": {
    "ExecuteTime": {
     "end_time": "2020-12-02T22:10:17.665886Z",
     "start_time": "2020-12-02T22:10:17.059549Z"
    }
   },
   "outputs": [],
   "source": [
    "best_model = rf_random.best_estimator_\n",
    "pipe_best_model = make_pipeline(col_trans, best_model)\n",
    "pipe_best_model.fit(train_x, train_y)\n",
    "y_pred_best_model = pipe_best_model.predict(test_x)"
   ]
  },
  {
   "cell_type": "code",
   "execution_count": null,
   "metadata": {
    "ExecuteTime": {
     "end_time": "2020-12-02T22:18:51.817264Z",
     "start_time": "2020-12-02T22:18:51.813245Z"
    }
   },
   "outputs": [],
   "source": [
    "best_model"
   ]
  },
  {
   "cell_type": "code",
   "execution_count": null,
   "metadata": {
    "ExecuteTime": {
     "end_time": "2020-12-02T22:18:54.313847Z",
     "start_time": "2020-12-02T22:18:54.198611Z"
    }
   },
   "outputs": [],
   "source": [
    "best_model.feature_importances_"
   ]
  },
  {
   "cell_type": "markdown",
   "metadata": {
    "ExecuteTime": {
     "end_time": "2020-12-02T22:19:03.404202Z",
     "start_time": "2020-12-02T22:19:03.284944Z"
    }
   },
   "source": [
    "feature_importances = list(zip(X_train_encoded, best_model.feature_importances_))\n",
    "# Then sort the feature importances by most important first\n",
    "feature_importances_ranked = sorted(feature_importances, key = lambda x: x[1], reverse = True)\n",
    "# Print out the feature and importances\n",
    "[print('Feature: {:35} Importance: {}'.format(*pair)) for pair in feature_importances_ranked];"
   ]
  },
  {
   "cell_type": "code",
   "execution_count": null,
   "metadata": {
    "ExecuteTime": {
     "end_time": "2020-12-02T18:16:40.487760Z",
     "start_time": "2020-12-02T18:16:40.483337Z"
    }
   },
   "outputs": [],
   "source": [
    "# To look at nodes and depths of trees use on average\n",
    "n_nodes = []\n",
    "max_depths = []\n",
    "for ind_tree in best_model.estimators_:\n",
    "       n_nodes.append(ind_tree.tree_.node_count)\n",
    "       max_depths.append(ind_tree.tree_.max_depth)\n",
    "print(f'Average number of nodes {int(np.mean(n_nodes))}')   \n",
    "print(f'Average maximum depth {int(np.mean(max_depths))}')  \n",
    "\n",
    "\n"
   ]
  },
  {
   "cell_type": "code",
   "execution_count": null,
   "metadata": {
    "ExecuteTime": {
     "end_time": "2020-12-02T19:10:53.268860Z",
     "start_time": "2020-12-02T19:10:49.728404Z"
    },
    "scrolled": true
   },
   "outputs": [],
   "source": [
    "y_test = test_y.astype('str')\n",
    "x_test = test_x\n",
    "\n",
    "train_rf_predictions = pipe_best_model.predict(train_x)\n",
    "train_rf_probs = pipe_best_model.predict_proba(train_x)[:, 1]\n",
    "rf_probs = pipe_best_model.predict_proba(test_x)[:, 1]\n",
    "# Plot ROC curve and check scores\n",
    "evaluate_model(y_pred_best_model, rf_probs, train_rf_predictions, train_rf_probs)"
   ]
  },
  {
   "cell_type": "code",
   "execution_count": null,
   "metadata": {
    "ExecuteTime": {
     "end_time": "2020-12-02T19:11:06.677548Z",
     "start_time": "2020-12-02T19:11:06.672267Z"
    }
   },
   "outputs": [],
   "source": [
    "print(train_rf_predictions)\n",
    "print(train_rf_probs)"
   ]
  },
  {
   "cell_type": "code",
   "execution_count": null,
   "metadata": {
    "ExecuteTime": {
     "end_time": "2020-12-02T18:12:35.080856Z",
     "start_time": "2020-12-02T18:12:35.070628Z"
    }
   },
   "outputs": [],
   "source": [
    "\n",
    "def evaluate_model(y_pred, probs,train_predictions, train_probs):\n",
    "    baseline = {}\n",
    "    baseline['recall']=recall_score(y_test,\n",
    "                    [1 for _ in range(len(y_test))])\n",
    "    baseline['precision'] = precision_score(y_test,\n",
    "                    [1 for _ in range(len(y_test))])\n",
    "    #baseline['accuracy'] = 0.5\n",
    "    results = {}\n",
    "    results['recall'] = recall_score(y_test, y_pred)\n",
    "    results['precision'] = precision_score(y_test, y_pred)\n",
    "    #results['accuracy'] = roc_auc_score(y_test, probs)\n",
    "    train_results = {}\n",
    "    train_results['recall'] = recall_score(y_train,       train_predictions)\n",
    "    train_results['precision'] = precision_score(y_train, train_predictions)\n",
    "    #train_results['accuracy'] = roc_auc_score(y_train, train_probs)\n",
    "    for metric in ['recall', 'precision']:#, 'accuracy']:  \n",
    "          print(f'{metric.capitalize()} \\\n",
    "                 Baseline: {round(baseline[metric], 2)} \\\n",
    "                 Test: {round(results[metric], 2)} \\\n",
    "                 Train: {round(train_results[metric], 2)}')\n",
    "     # Calculate false positive rates and true positive rates\n",
    "    base_fpr, base_tpr, _ = roc_curve(y_test, [1 for _ in range(len(y_test))])\n",
    "    model_fpr, model_tpr, _ = roc_curve(y_test, probs)\n",
    "    plt.figure(figsize = (8, 6))\n",
    "    plt.rcParams['font.size'] = 16\n",
    "    # Plot both curves\n",
    "    plt.plot(base_fpr, base_tpr, 'b', label = 'baseline')\n",
    "    plt.plot(model_fpr, model_tpr, 'r', label = 'model')\n",
    "    plt.legend();\n",
    "    plt.xlabel('False Positive Rate');\n",
    "    plt.ylabel('True Positive Rate'); plt.title('ROC Curves');\n",
    "    plt.show();\n"
   ]
  },
  {
   "cell_type": "code",
   "execution_count": null,
   "metadata": {},
   "outputs": [],
   "source": []
  },
  {
   "cell_type": "code",
   "execution_count": null,
   "metadata": {
    "ExecuteTime": {
     "end_time": "2020-12-01T21:56:59.355097Z",
     "start_time": "2020-12-01T21:56:59.337992Z"
    }
   },
   "outputs": [],
   "source": []
  },
  {
   "cell_type": "code",
   "execution_count": null,
   "metadata": {
    "ExecuteTime": {
     "end_time": "2020-12-02T19:11:16.662077Z",
     "start_time": "2020-12-02T19:11:16.640264Z"
    }
   },
   "outputs": [],
   "source": [
    "import itertools\n",
    "def plot_confusion_matrix(cm, classes, normalize = False,\n",
    "                          title='Confusion matrix',\n",
    "                          cmap=plt.cm.Greens): # can change color \n",
    "    plt.figure(figsize = (10, 10))\n",
    "    plt.imshow(cm, interpolation='nearest', cmap=cmap)\n",
    "    plt.title(title, size = 24)\n",
    "    plt.colorbar(aspect=4)\n",
    "    tick_marks = np.arange(len(classes))\n",
    "    plt.xticks(tick_marks, classes, rotation=45, size = 14)\n",
    "    plt.yticks(tick_marks, classes, size = 14)\n",
    "    fmt = '.2f' if normalize else 'd'\n",
    "    thresh = cm.max() / 2.\n",
    "    # Label the plot\n",
    "    for i, j in itertools.product(range(cm.shape[0]),   range(cm.shape[1])):\n",
    "        plt.text(j, i, format(cm[i, j], fmt), \\\n",
    "             fontsize = 20, \\\n",
    "             horizontalalignment=\"center\", \\\n",
    "             color=\"white\" if cm[i, j] > thresh else \"black\")\n",
    "    plt.grid(None)\n",
    "    plt.tight_layout()\n",
    "    plt.ylabel('True label', size = 18)\n",
    "    plt.xlabel('Predicted label', size = 18)\n",
    "\n",
    "# Let's plot it out\n",
    "cm = confusion_matrix(y_test, y_pred)\n",
    "plot_confusion_matrix(cm, classes = ['0 - Stay', '1 - Exit'],\n",
    "                      title = 'Exit_status Confusion Matrix')"
   ]
  },
  {
   "cell_type": "code",
   "execution_count": 32,
   "metadata": {
    "ExecuteTime": {
     "end_time": "2020-12-03T02:29:37.973009Z",
     "start_time": "2020-12-03T02:29:37.124938Z"
    }
   },
   "outputs": [
    {
     "name": "stdout",
     "output_type": "stream",
     "text": [
      "[0.00000000e+00 1.35588206e-03 1.26187393e-05 8.95845972e-03\n",
      " 1.14622962e-02 0.00000000e+00 0.00000000e+00 0.00000000e+00\n",
      " 0.00000000e+00 5.72572680e-03 1.98454717e-04 0.00000000e+00\n",
      " 7.12380559e-03 3.99496653e-04 3.34032279e-04 1.22970332e-04\n",
      " 1.34807772e-03 6.68097317e-04 3.78114495e-04 2.07637072e-06\n",
      " 3.16043527e-04 0.00000000e+00 9.13874926e-04 6.34617643e-04\n",
      " 1.25509579e-04 4.49890972e-03 7.55409917e-04 2.42402110e-03\n",
      " 6.20270565e-03 5.65797702e-04 4.51426819e-04 8.12742479e-04\n",
      " 6.96803397e-03 0.00000000e+00 2.79520813e-03 2.42623077e-03\n",
      " 3.49254279e-03 4.61928262e-03 1.35211142e-04 3.17027861e-03\n",
      " 4.57971260e-04 2.29820117e-03 1.99456307e-04 2.97530429e-04\n",
      " 0.00000000e+00 6.08565502e-03 8.27559728e-05 1.08762633e-03\n",
      " 9.17220035e-04 1.65110692e-03 2.59841770e-03 2.29410830e-05\n",
      " 5.08202109e-03 0.00000000e+00 0.00000000e+00 8.54226314e-03\n",
      " 8.41536984e-04 1.39935264e-03 0.00000000e+00 2.48231548e-04\n",
      " 0.00000000e+00 4.73848801e-04 8.31746880e-03 2.28126951e-02\n",
      " 1.10113427e-02 1.93770596e-02 1.47886990e-02 2.93560353e-03\n",
      " 0.00000000e+00 0.00000000e+00 5.72927759e-04 9.70834411e-04\n",
      " 8.29182981e-03 2.92352124e-03 2.15746546e-03 3.61652166e-04\n",
      " 2.12797037e-05 1.35293263e-02 3.41546388e-04 7.78224617e-03\n",
      " 2.68221942e-02 1.28753912e-05 5.32698291e-03 8.85031111e-03\n",
      " 3.18874232e-03 0.00000000e+00 3.60919345e-06 1.95010476e-03\n",
      " 1.25222947e-03 0.00000000e+00 2.86075131e-03 7.38888063e-05\n",
      " 2.40176014e-02 2.82418573e-02 0.00000000e+00 1.85800721e-04\n",
      " 1.04900434e-03 0.00000000e+00 1.54076975e-03 2.58633702e-03\n",
      " 1.33182576e-02 1.98158235e-02 5.14406851e-04 0.00000000e+00\n",
      " 0.00000000e+00 7.10434584e-03 4.63421969e-04 2.13331545e-02\n",
      " 1.97216432e-03 2.26118327e-02 4.94445785e-04 3.95149877e-04\n",
      " 1.86905461e-03 0.00000000e+00 2.19213503e-03 0.00000000e+00\n",
      " 4.07074021e-04 2.24435549e-05 0.00000000e+00 0.00000000e+00\n",
      " 0.00000000e+00 5.47130502e-03 5.78499564e-03 0.00000000e+00\n",
      " 1.43402752e-02 1.48274095e-02 0.00000000e+00 5.38586482e-03\n",
      " 7.95196611e-03 7.44006101e-03 0.00000000e+00 1.23032294e-05\n",
      " 1.97549960e-02 1.89735781e-02 0.00000000e+00 0.00000000e+00\n",
      " 3.33959866e-02 2.95480290e-02 3.95183759e-04 1.21526035e-02\n",
      " 1.22989131e-02 1.38585023e-06 0.00000000e+00 9.70339460e-04\n",
      " 8.33214979e-03 7.89216614e-03 3.19425275e-03 2.97958280e-05\n",
      " 0.00000000e+00 0.00000000e+00 0.00000000e+00 1.57828452e-03\n",
      " 1.24726706e-03 0.00000000e+00 5.75303035e-03 5.37848871e-04\n",
      " 2.01898886e-02 2.18878567e-02 6.56569261e-04 5.35032816e-05\n",
      " 0.00000000e+00 0.00000000e+00 0.00000000e+00 2.06339973e-04\n",
      " 2.83735952e-03 8.08603513e-03 6.80437541e-03 5.11477339e-03\n",
      " 2.38255837e-03 1.96829737e-03 1.83688735e-02 1.18354962e-02\n",
      " 2.96517426e-03 0.00000000e+00 2.97066057e-04 1.33889730e-04\n",
      " 6.30852505e-03 1.80461435e-02 5.88843414e-05 7.63113662e-03\n",
      " 0.00000000e+00 1.94527922e-02 1.77320631e-05 1.31918262e-03\n",
      " 0.00000000e+00 1.62446383e-02 5.37136208e-03 8.68888379e-03\n",
      " 5.63274235e-03 9.64155963e-03 2.14266917e-02 4.93074631e-03\n",
      " 2.24467121e-02 2.60381064e-02 1.33904563e-02 0.00000000e+00\n",
      " 0.00000000e+00 9.39766282e-04 0.00000000e+00 5.40033745e-03\n",
      " 0.00000000e+00 8.44886307e-03 0.00000000e+00 5.53297823e-04\n",
      " 0.00000000e+00 5.10802298e-03 0.00000000e+00 7.28702174e-03\n",
      " 2.35610742e-03 1.33540208e-04 3.16746892e-03 6.06277708e-06\n",
      " 1.43865251e-03 1.46200352e-03 0.00000000e+00 5.92566625e-04\n",
      " 2.98792813e-04 2.06554895e-03 0.00000000e+00 3.75645537e-03\n",
      " 0.00000000e+00 1.96866114e-04 0.00000000e+00 1.36938722e-04\n",
      " 0.00000000e+00 0.00000000e+00 0.00000000e+00 0.00000000e+00\n",
      " 1.66326668e-04 3.69419919e-04 3.67803262e-04 3.20284107e-04\n",
      " 1.28866556e-04 7.77019847e-04 9.96615394e-04 1.75772323e-03\n",
      " 2.14416615e-03 1.51665105e-03 9.06324719e-04 2.40632296e-04\n",
      " 2.26891354e-03 2.42547875e-03 2.06787377e-03 2.61346005e-03\n",
      " 1.52342349e-03]\n",
      " There are 245 features in total\n"
     ]
    }
   ],
   "source": [
    "print(rf_classifier.feature_importances_)\n",
    "print(f\" There are {len(rf_classifier.feature_importances_)} features in total\")"
   ]
  },
  {
   "cell_type": "code",
   "execution_count": 34,
   "metadata": {
    "ExecuteTime": {
     "end_time": "2020-12-03T02:31:19.261341Z",
     "start_time": "2020-12-03T02:31:19.257577Z"
    }
   },
   "outputs": [
    {
     "data": {
      "text/plain": [
       "<bound method BaseForest.decision_path of RandomForestClassifier(max_features=5, min_samples_leaf=10, n_estimators=5000,\n",
       "                       n_jobs=-1, oob_score=True, random_state=22)>"
      ]
     },
     "execution_count": 34,
     "metadata": {},
     "output_type": "execute_result"
    }
   ],
   "source": [
    "rf_classifier.decision_path"
   ]
  },
  {
   "cell_type": "code",
   "execution_count": null,
   "metadata": {
    "ExecuteTime": {
     "end_time": "2020-12-03T01:22:03.527241Z",
     "start_time": "2020-12-03T01:22:03.520915Z"
    }
   },
   "outputs": [],
   "source": [
    "train_y.append(test_y, ignore_index=True)"
   ]
  },
  {
   "cell_type": "code",
   "execution_count": null,
   "metadata": {
    "ExecuteTime": {
     "end_time": "2020-12-03T01:19:31.964418Z",
     "start_time": "2020-12-03T01:19:31.961248Z"
    }
   },
   "outputs": [],
   "source": [
    "type(test_y)\n",
    "\n"
   ]
  },
  {
   "cell_type": "markdown",
   "metadata": {},
   "source": [
    "starting from the top! way too many categories to make sense of the data...\n",
    "eliminate some items that aren't relevent to our needs. Decrease the number data into smaller groups."
   ]
  },
  {
   "cell_type": "markdown",
   "metadata": {
    "ExecuteTime": {
     "end_time": "2020-12-04T17:14:39.259743Z",
     "start_time": "2020-12-04T17:14:39.254092Z"
    }
   },
   "source": [
    "def unique_counts (df):\n",
    "    ret = []\n",
    "    ret = pd.DataFrame.from_records([(col, df[col].nunique(), df[col].dtype) for col in df.columns],\n",
    "                          columns=['Column', 'Num_Unique', 'type']).sort_values(by=['Num_Unique'])\n",
    "    return ret\n",
    "\n",
    "def convert_to_cat(df, type_):\n",
    "    unique_ = unique_counts(df)\n",
    "    for col in unique_['Column'].loc[unique_['Num_Unique']<20]:\n",
    "        if df[col].dtype == type_:\n",
    "            #if unique_[col].loc[unique_['Num_Unique']<20]:\n",
    "        #train_x[col] = pd.cut(train_x[col], bins=4, labels=[col+'_low', col+'_mid', col+'_high', col+'_very_high'])\n",
    "            df[col] = df[col].astype('str').astype('category')\n",
    "    for col in unique_['Column'].loc[unique_['Num_Unique']>=20]:\n",
    "        if df[col].dtype == type_:\n",
    "            df[col] = pd.qcut(df[col], 4)#bins=4, labels=['_low', '_mid', '_high', '_very_high'])\n",
    "            df[col] = df[col].astype('str').astype('category')\n",
    "    return df\n",
    "        \n",
    "\n"
   ]
  },
  {
   "cell_type": "code",
   "execution_count": null,
   "metadata": {},
   "outputs": [],
   "source": []
  },
  {
   "cell_type": "code",
   "execution_count": 2,
   "metadata": {
    "ExecuteTime": {
     "end_time": "2020-12-04T17:19:11.407507Z",
     "start_time": "2020-12-04T17:19:11.390801Z"
    }
   },
   "outputs": [],
   "source": [
    "# create a setup function that gets the data in the structure I need\n",
    "replace_na_col = ['PoolQC', 'MiscFeature', 'Alley', 'Fence', 'FireplaceQu', 'LotFrontage',\n",
    "                  'GarageQual', 'GarageCond', 'GarageType', 'GarageFinish', 'GarageYrBlt',\n",
    "                  'GarageQual', 'BsmtExposure', 'BsmtQual', 'BsmtCond', 'BsmtFinType1',\n",
    "                  'BsmtFinType2'\n",
    "                 ]\n",
    "\n",
    "def unique_counts (df):\n",
    "    ret = []\n",
    "    ret = pd.DataFrame.from_records([(col, df[col].nunique(), df[col].dtype) for col in df.columns],\n",
    "                          columns=['Column', 'Num_Unique', 'type']).sort_values(by=['Num_Unique'])\n",
    "    return ret\n",
    "\n",
    "def convert_to_cat(df, type_):\n",
    "    unique_ = unique_counts(df)\n",
    "    for col in unique_['Column'].loc[unique_['Num_Unique']<20]:\n",
    "        if df[col].dtype == type_:\n",
    "            #if unique_[col].loc[unique_['Num_Unique']<20]:\n",
    "        #train_x[col] = pd.cut(train_x[col], bins=4, labels=[col+'_low', col+'_mid', col+'_high', col+'_very_high'])\n",
    "            df[col] = df[col].astype('str').astype('category')\n",
    "    for col in unique_['Column'].loc[unique_['Num_Unique']>=20]:\n",
    "        if df[col].dtype == type_:\n",
    "            df[col] = pd.qcut(df[col], 4)#bins=4, labels=['_low', '_mid', '_high', '_very_high'])\n",
    "            df[col] = df[col].astype('str').astype('category')\n",
    "    return df\n",
    "\n",
    "\n",
    "def change_missing(df, col_=replace_na_col, val='NA'):\n",
    "    df[col_] = df[col_].replace({np.nan: val})\n",
    "    return df\n",
    "\n",
    "\n",
    "def data_load():\n",
    "    \n",
    "    train=pd.read_csv('train.csv')\n",
    "    test = pd.read_csv('test.csv')\n",
    "    sample = pd.read_csv('sample_submission.csv')\n",
    "    test.loc[1358, 'MSSubClass'] = '160'\n",
    "    train_x = train.iloc[:,:-1].drop('Id', axis=1)\n",
    "    test_x = test.drop('Id', axis=1)\n",
    "    \n",
    "  #\n",
    "    fields_ = ['MasVnrArea', 'Electrical', 'MSZoning', 'Functional', 'Utilities']\n",
    "    for col_ in test_x.columns:\n",
    "        test_x.loc[test_x[col_]=='nan'][col_] = ''#''\n",
    "    val_ = []\n",
    "    for f in (fields_):\n",
    "    #val_.append([train_x[f].mode()[0]])\n",
    "        train_x[f] = train_x[f].fillna(train_x[f].mode()[0])\n",
    "        test_x[f] = test_x[f].fillna(test_x[f].mode()[0])\n",
    "    print(f, train_x[f].mode()[0])\n",
    " #\n",
    "    test_y = sample\n",
    "    train_y = train.iloc[:,-1]\n",
    "    train_x = change_missing(train_x)\n",
    "    test_x = change_missing(test_x)\n",
    "    #\n",
    "     \n",
    "    # bin y\n",
    "    bin_ = np.concatenate((np.linspace(25000, 450000, 18),np.array([500000, 550000, 600000, 800000]) ) )\n",
    "    train_y = pd.cut(train_y, bins=bin_).astype('str').astype('category')\n",
    "    test_y = pd.cut(test_y['SalePrice'], bins=bin_).astype('str').astype('category')\n",
    "    # change object type to str category\n",
    "    for col in train_x:\n",
    "        if train_x[col].dtype == 'object':\n",
    "            train_x[col] = train_x[col].astype('str').astype('category')\n",
    "    for col in test_x:\n",
    "        if test_x[col].dtype == 'object':\n",
    "            test_x[col] = test_x[col].astype('str').astype('category')\n",
    "    # bin the bigger types\n",
    "    train_x = convert_to_cat(train_x, 'int64')\n",
    "    test_x = convert_to_cat(test_x, 'int64')\n",
    "    train_x = convert_to_cat(train_x, 'float64')\n",
    "    test_x = convert_to_cat(test_x, 'float64')\n",
    "    #dropping fields that aren't adding value\n",
    "    fields_to_drop = ['LotFrontage', 'GarageYrBlt', 'Utilities', 'Street', 'GarageArea',\n",
    "                      'YearRemodAdd', 'BsmtFinSF1', 'ScreenPorch', 'EnclosedPorch', 'Alley',\n",
    "                      'Utilities', 'SaleType', '3SsnPorch', 'Exterior1st', 'Exterior2nd',\n",
    "                      'Condition1', 'Condition2', 'PoolArea', 'Functional', 'RoofMatl',\n",
    "                      'RoofStyle', 'Electrical', 'BsmtFinSF2', 'BsmtFinType1', 'BsmtFinType2',\n",
    "                      'PoolQC', 'HeatingQC', 'BsmtExposure', 'PoolQC', 'BsmtUnfSF', \n",
    "                      'SaleCondition', 'LotConfig', 'TotalBsmtSF', 'MSSubClass', 'LowQualFinSF',\n",
    "                      'LowQualFinSF', 'BsmtFullBath', 'BsmtHalfBath', 'WoodDeckSF', 'WoodDeckSF'\n",
    "                     ]\n",
    "    #test_x = test_x.drop('LotFrontage', axis=1)\n",
    "    #train_x = train_x.drop('LotFrontage', axis=1)\n",
    "    test_x = test_x.drop(fields_to_drop, axis=1)\n",
    "    train_x = train_x.drop(fields_to_drop, axis=1)\n",
    "    \n",
    "    return train_x, test_x, train_y, test_y\n"
   ]
  },
  {
   "cell_type": "code",
   "execution_count": 42,
   "metadata": {
    "ExecuteTime": {
     "end_time": "2020-12-04T17:11:10.319409Z",
     "start_time": "2020-12-04T17:11:10.023530Z"
    }
   },
   "outputs": [
    {
     "name": "stderr",
     "output_type": "stream",
     "text": [
      "/Users/paulsprouse/opt/anaconda3/lib/python3.7/site-packages/pandas/core/computation/expressions.py:68: FutureWarning: elementwise comparison failed; returning scalar instead, but in the future will perform elementwise comparison\n",
      "  return op(a, b)\n",
      "/Users/paulsprouse/opt/anaconda3/lib/python3.7/site-packages/pandas/core/computation/expressions.py:68: FutureWarning: elementwise comparison failed; returning scalar instead, but in the future will perform elementwise comparison\n",
      "  return op(a, b)\n",
      "/Users/paulsprouse/opt/anaconda3/lib/python3.7/site-packages/pandas/core/computation/expressions.py:68: FutureWarning: elementwise comparison failed; returning scalar instead, but in the future will perform elementwise comparison\n",
      "  return op(a, b)\n",
      "/Users/paulsprouse/opt/anaconda3/lib/python3.7/site-packages/pandas/core/computation/expressions.py:68: FutureWarning: elementwise comparison failed; returning scalar instead, but in the future will perform elementwise comparison\n",
      "  return op(a, b)\n",
      "/Users/paulsprouse/opt/anaconda3/lib/python3.7/site-packages/pandas/core/computation/expressions.py:68: FutureWarning: elementwise comparison failed; returning scalar instead, but in the future will perform elementwise comparison\n",
      "  return op(a, b)\n",
      "/Users/paulsprouse/opt/anaconda3/lib/python3.7/site-packages/pandas/core/computation/expressions.py:68: FutureWarning: elementwise comparison failed; returning scalar instead, but in the future will perform elementwise comparison\n",
      "  return op(a, b)\n",
      "/Users/paulsprouse/opt/anaconda3/lib/python3.7/site-packages/pandas/core/computation/expressions.py:68: FutureWarning: elementwise comparison failed; returning scalar instead, but in the future will perform elementwise comparison\n",
      "  return op(a, b)\n",
      "/Users/paulsprouse/opt/anaconda3/lib/python3.7/site-packages/pandas/core/computation/expressions.py:68: FutureWarning: elementwise comparison failed; returning scalar instead, but in the future will perform elementwise comparison\n",
      "  return op(a, b)\n",
      "/Users/paulsprouse/opt/anaconda3/lib/python3.7/site-packages/pandas/core/computation/expressions.py:68: FutureWarning: elementwise comparison failed; returning scalar instead, but in the future will perform elementwise comparison\n",
      "  return op(a, b)\n",
      "/Users/paulsprouse/opt/anaconda3/lib/python3.7/site-packages/pandas/core/computation/expressions.py:68: FutureWarning: elementwise comparison failed; returning scalar instead, but in the future will perform elementwise comparison\n",
      "  return op(a, b)\n",
      "/Users/paulsprouse/opt/anaconda3/lib/python3.7/site-packages/pandas/core/computation/expressions.py:68: FutureWarning: elementwise comparison failed; returning scalar instead, but in the future will perform elementwise comparison\n",
      "  return op(a, b)\n",
      "/Users/paulsprouse/opt/anaconda3/lib/python3.7/site-packages/pandas/core/computation/expressions.py:68: FutureWarning: elementwise comparison failed; returning scalar instead, but in the future will perform elementwise comparison\n",
      "  return op(a, b)\n",
      "/Users/paulsprouse/opt/anaconda3/lib/python3.7/site-packages/pandas/core/computation/expressions.py:68: FutureWarning: elementwise comparison failed; returning scalar instead, but in the future will perform elementwise comparison\n",
      "  return op(a, b)\n",
      "/Users/paulsprouse/opt/anaconda3/lib/python3.7/site-packages/pandas/core/computation/expressions.py:68: FutureWarning: elementwise comparison failed; returning scalar instead, but in the future will perform elementwise comparison\n",
      "  return op(a, b)\n",
      "/Users/paulsprouse/opt/anaconda3/lib/python3.7/site-packages/pandas/core/computation/expressions.py:68: FutureWarning: elementwise comparison failed; returning scalar instead, but in the future will perform elementwise comparison\n",
      "  return op(a, b)\n",
      "/Users/paulsprouse/opt/anaconda3/lib/python3.7/site-packages/pandas/core/computation/expressions.py:68: FutureWarning: elementwise comparison failed; returning scalar instead, but in the future will perform elementwise comparison\n",
      "  return op(a, b)\n",
      "/Users/paulsprouse/opt/anaconda3/lib/python3.7/site-packages/pandas/core/computation/expressions.py:68: FutureWarning: elementwise comparison failed; returning scalar instead, but in the future will perform elementwise comparison\n",
      "  return op(a, b)\n",
      "/Users/paulsprouse/opt/anaconda3/lib/python3.7/site-packages/pandas/core/computation/expressions.py:68: FutureWarning: elementwise comparison failed; returning scalar instead, but in the future will perform elementwise comparison\n",
      "  return op(a, b)\n",
      "/Users/paulsprouse/opt/anaconda3/lib/python3.7/site-packages/pandas/core/computation/expressions.py:68: FutureWarning: elementwise comparison failed; returning scalar instead, but in the future will perform elementwise comparison\n",
      "  return op(a, b)\n",
      "/Users/paulsprouse/opt/anaconda3/lib/python3.7/site-packages/pandas/core/computation/expressions.py:68: FutureWarning: elementwise comparison failed; returning scalar instead, but in the future will perform elementwise comparison\n",
      "  return op(a, b)\n",
      "/Users/paulsprouse/opt/anaconda3/lib/python3.7/site-packages/pandas/core/computation/expressions.py:68: FutureWarning: elementwise comparison failed; returning scalar instead, but in the future will perform elementwise comparison\n",
      "  return op(a, b)\n",
      "/Users/paulsprouse/opt/anaconda3/lib/python3.7/site-packages/pandas/core/computation/expressions.py:68: FutureWarning: elementwise comparison failed; returning scalar instead, but in the future will perform elementwise comparison\n",
      "  return op(a, b)\n",
      "/Users/paulsprouse/opt/anaconda3/lib/python3.7/site-packages/pandas/core/computation/expressions.py:68: FutureWarning: elementwise comparison failed; returning scalar instead, but in the future will perform elementwise comparison\n",
      "  return op(a, b)\n",
      "/Users/paulsprouse/opt/anaconda3/lib/python3.7/site-packages/pandas/core/computation/expressions.py:68: FutureWarning: elementwise comparison failed; returning scalar instead, but in the future will perform elementwise comparison\n",
      "  return op(a, b)\n",
      "/Users/paulsprouse/opt/anaconda3/lib/python3.7/site-packages/pandas/core/computation/expressions.py:68: FutureWarning: elementwise comparison failed; returning scalar instead, but in the future will perform elementwise comparison\n",
      "  return op(a, b)\n",
      "/Users/paulsprouse/opt/anaconda3/lib/python3.7/site-packages/pandas/core/computation/expressions.py:68: FutureWarning: elementwise comparison failed; returning scalar instead, but in the future will perform elementwise comparison\n",
      "  return op(a, b)\n",
      "/Users/paulsprouse/opt/anaconda3/lib/python3.7/site-packages/pandas/core/computation/expressions.py:68: FutureWarning: elementwise comparison failed; returning scalar instead, but in the future will perform elementwise comparison\n",
      "  return op(a, b)\n",
      "/Users/paulsprouse/opt/anaconda3/lib/python3.7/site-packages/pandas/core/computation/expressions.py:68: FutureWarning: elementwise comparison failed; returning scalar instead, but in the future will perform elementwise comparison\n",
      "  return op(a, b)\n",
      "/Users/paulsprouse/opt/anaconda3/lib/python3.7/site-packages/pandas/core/computation/expressions.py:68: FutureWarning: elementwise comparison failed; returning scalar instead, but in the future will perform elementwise comparison\n",
      "  return op(a, b)\n",
      "/Users/paulsprouse/opt/anaconda3/lib/python3.7/site-packages/pandas/core/computation/expressions.py:68: FutureWarning: elementwise comparison failed; returning scalar instead, but in the future will perform elementwise comparison\n",
      "  return op(a, b)\n",
      "/Users/paulsprouse/opt/anaconda3/lib/python3.7/site-packages/pandas/core/computation/expressions.py:68: FutureWarning: elementwise comparison failed; returning scalar instead, but in the future will perform elementwise comparison\n",
      "  return op(a, b)\n",
      "/Users/paulsprouse/opt/anaconda3/lib/python3.7/site-packages/pandas/core/computation/expressions.py:68: FutureWarning: elementwise comparison failed; returning scalar instead, but in the future will perform elementwise comparison\n",
      "  return op(a, b)\n",
      "/Users/paulsprouse/opt/anaconda3/lib/python3.7/site-packages/pandas/core/computation/expressions.py:68: FutureWarning: elementwise comparison failed; returning scalar instead, but in the future will perform elementwise comparison\n",
      "  return op(a, b)\n",
      "/Users/paulsprouse/opt/anaconda3/lib/python3.7/site-packages/pandas/core/computation/expressions.py:68: FutureWarning: elementwise comparison failed; returning scalar instead, but in the future will perform elementwise comparison\n",
      "  return op(a, b)\n",
      "/Users/paulsprouse/opt/anaconda3/lib/python3.7/site-packages/pandas/core/computation/expressions.py:68: FutureWarning: elementwise comparison failed; returning scalar instead, but in the future will perform elementwise comparison\n",
      "  return op(a, b)\n"
     ]
    },
    {
     "name": "stdout",
     "output_type": "stream",
     "text": [
      "Utilities AllPub\n"
     ]
    },
    {
     "ename": "TypeError",
     "evalue": "qcut() got an unexpected keyword argument 'bins'",
     "output_type": "error",
     "traceback": [
      "\u001b[0;31m---------------------------------------------------------------------------\u001b[0m",
      "\u001b[0;31mTypeError\u001b[0m                                 Traceback (most recent call last)",
      "\u001b[0;32m<ipython-input-42-e7fc9ed67a42>\u001b[0m in \u001b[0;36m<module>\u001b[0;34m\u001b[0m\n\u001b[0;32m----> 1\u001b[0;31m \u001b[0ma\u001b[0m\u001b[0;34m,\u001b[0m\u001b[0mb\u001b[0m\u001b[0;34m,\u001b[0m\u001b[0mc\u001b[0m\u001b[0;34m,\u001b[0m\u001b[0md\u001b[0m \u001b[0;34m=\u001b[0m \u001b[0mdata_load\u001b[0m\u001b[0;34m(\u001b[0m\u001b[0;34m)\u001b[0m\u001b[0;34m\u001b[0m\u001b[0;34m\u001b[0m\u001b[0m\n\u001b[0m",
      "\u001b[0;32m<ipython-input-10-ea2e222dc037>\u001b[0m in \u001b[0;36mdata_load\u001b[0;34m()\u001b[0m\n\u001b[1;32m     48\u001b[0m             \u001b[0mtest_x\u001b[0m\u001b[0;34m[\u001b[0m\u001b[0mcol\u001b[0m\u001b[0;34m]\u001b[0m \u001b[0;34m=\u001b[0m \u001b[0mtest_x\u001b[0m\u001b[0;34m[\u001b[0m\u001b[0mcol\u001b[0m\u001b[0;34m]\u001b[0m\u001b[0;34m.\u001b[0m\u001b[0mastype\u001b[0m\u001b[0;34m(\u001b[0m\u001b[0;34m'str'\u001b[0m\u001b[0;34m)\u001b[0m\u001b[0;34m.\u001b[0m\u001b[0mastype\u001b[0m\u001b[0;34m(\u001b[0m\u001b[0;34m'category'\u001b[0m\u001b[0;34m)\u001b[0m\u001b[0;34m\u001b[0m\u001b[0;34m\u001b[0m\u001b[0m\n\u001b[1;32m     49\u001b[0m     \u001b[0;31m# bin the bigger types\u001b[0m\u001b[0;34m\u001b[0m\u001b[0;34m\u001b[0m\u001b[0;34m\u001b[0m\u001b[0m\n\u001b[0;32m---> 50\u001b[0;31m     \u001b[0mtrain_x\u001b[0m \u001b[0;34m=\u001b[0m \u001b[0mconvert_to_cat\u001b[0m\u001b[0;34m(\u001b[0m\u001b[0mtrain_x\u001b[0m\u001b[0;34m,\u001b[0m \u001b[0;34m'int64'\u001b[0m\u001b[0;34m)\u001b[0m\u001b[0;34m\u001b[0m\u001b[0;34m\u001b[0m\u001b[0m\n\u001b[0m\u001b[1;32m     51\u001b[0m     \u001b[0mtest_x\u001b[0m \u001b[0;34m=\u001b[0m \u001b[0mconvert_to_cat\u001b[0m\u001b[0;34m(\u001b[0m\u001b[0mtest_x\u001b[0m\u001b[0;34m,\u001b[0m \u001b[0;34m'int64'\u001b[0m\u001b[0;34m)\u001b[0m\u001b[0;34m\u001b[0m\u001b[0;34m\u001b[0m\u001b[0m\n\u001b[1;32m     52\u001b[0m     \u001b[0mtrain_x\u001b[0m \u001b[0;34m=\u001b[0m \u001b[0mconvert_to_cat\u001b[0m\u001b[0;34m(\u001b[0m\u001b[0mtrain_x\u001b[0m\u001b[0;34m,\u001b[0m \u001b[0;34m'float64'\u001b[0m\u001b[0;34m)\u001b[0m\u001b[0;34m\u001b[0m\u001b[0;34m\u001b[0m\u001b[0m\n",
      "\u001b[0;32m<ipython-input-41-cf8f339ba245>\u001b[0m in \u001b[0;36mconvert_to_cat\u001b[0;34m(df, type_)\u001b[0m\n\u001b[1;32m     14\u001b[0m     \u001b[0;32mfor\u001b[0m \u001b[0mcol\u001b[0m \u001b[0;32min\u001b[0m \u001b[0munique_\u001b[0m\u001b[0;34m[\u001b[0m\u001b[0;34m'Column'\u001b[0m\u001b[0;34m]\u001b[0m\u001b[0;34m.\u001b[0m\u001b[0mloc\u001b[0m\u001b[0;34m[\u001b[0m\u001b[0munique_\u001b[0m\u001b[0;34m[\u001b[0m\u001b[0;34m'Num_Unique'\u001b[0m\u001b[0;34m]\u001b[0m\u001b[0;34m>=\u001b[0m\u001b[0;36m20\u001b[0m\u001b[0;34m]\u001b[0m\u001b[0;34m:\u001b[0m\u001b[0;34m\u001b[0m\u001b[0;34m\u001b[0m\u001b[0m\n\u001b[1;32m     15\u001b[0m         \u001b[0;32mif\u001b[0m \u001b[0mdf\u001b[0m\u001b[0;34m[\u001b[0m\u001b[0mcol\u001b[0m\u001b[0;34m]\u001b[0m\u001b[0;34m.\u001b[0m\u001b[0mdtype\u001b[0m \u001b[0;34m==\u001b[0m \u001b[0mtype_\u001b[0m\u001b[0;34m:\u001b[0m\u001b[0;34m\u001b[0m\u001b[0;34m\u001b[0m\u001b[0m\n\u001b[0;32m---> 16\u001b[0;31m             \u001b[0mdf\u001b[0m\u001b[0;34m[\u001b[0m\u001b[0mcol\u001b[0m\u001b[0;34m]\u001b[0m \u001b[0;34m=\u001b[0m \u001b[0mpd\u001b[0m\u001b[0;34m.\u001b[0m\u001b[0mqcut\u001b[0m\u001b[0;34m(\u001b[0m\u001b[0mdf\u001b[0m\u001b[0;34m[\u001b[0m\u001b[0mcol\u001b[0m\u001b[0;34m]\u001b[0m\u001b[0;34m,\u001b[0m \u001b[0mbins\u001b[0m\u001b[0;34m=\u001b[0m\u001b[0;36m4\u001b[0m\u001b[0;34m,\u001b[0m \u001b[0mlabels\u001b[0m\u001b[0;34m=\u001b[0m\u001b[0;34m[\u001b[0m\u001b[0;34m'_low'\u001b[0m\u001b[0;34m,\u001b[0m \u001b[0;34m'_mid'\u001b[0m\u001b[0;34m,\u001b[0m \u001b[0;34m'_high'\u001b[0m\u001b[0;34m,\u001b[0m \u001b[0;34m'_very_high'\u001b[0m\u001b[0;34m]\u001b[0m\u001b[0;34m)\u001b[0m\u001b[0;34m\u001b[0m\u001b[0;34m\u001b[0m\u001b[0m\n\u001b[0m\u001b[1;32m     17\u001b[0m             \u001b[0mdf\u001b[0m\u001b[0;34m[\u001b[0m\u001b[0mcol\u001b[0m\u001b[0;34m]\u001b[0m \u001b[0;34m=\u001b[0m \u001b[0mdf\u001b[0m\u001b[0;34m[\u001b[0m\u001b[0mcol\u001b[0m\u001b[0;34m]\u001b[0m\u001b[0;34m.\u001b[0m\u001b[0mastype\u001b[0m\u001b[0;34m(\u001b[0m\u001b[0;34m'str'\u001b[0m\u001b[0;34m)\u001b[0m\u001b[0;34m.\u001b[0m\u001b[0mastype\u001b[0m\u001b[0;34m(\u001b[0m\u001b[0;34m'category'\u001b[0m\u001b[0;34m)\u001b[0m\u001b[0;34m\u001b[0m\u001b[0;34m\u001b[0m\u001b[0m\n\u001b[1;32m     18\u001b[0m     \u001b[0;32mreturn\u001b[0m \u001b[0mdf\u001b[0m\u001b[0;34m\u001b[0m\u001b[0;34m\u001b[0m\u001b[0m\n",
      "\u001b[0;31mTypeError\u001b[0m: qcut() got an unexpected keyword argument 'bins'"
     ]
    }
   ],
   "source": [
    "a,b,c,d = data_load()"
   ]
  },
  {
   "cell_type": "code",
   "execution_count": null,
   "metadata": {
    "ExecuteTime": {
     "end_time": "2020-12-03T01:41:37.673252Z",
     "start_time": "2020-12-03T01:41:37.670888Z"
    }
   },
   "outputs": [],
   "source": []
  },
  {
   "cell_type": "code",
   "execution_count": 11,
   "metadata": {
    "ExecuteTime": {
     "end_time": "2020-12-03T02:06:35.875876Z",
     "start_time": "2020-12-03T02:06:35.835273Z"
    }
   },
   "outputs": [
    {
     "name": "stdout",
     "output_type": "stream",
     "text": [
      "          Column  Num_Unique_x  Num_Unique_y\n",
      "0     CentralAir             2             2\n",
      "1       HalfBath             3             3\n",
      "2      LandSlope             3             3\n",
      "3        MiscVal             3             4\n",
      "4     PavedDrive             3             3\n",
      "5       2ndFlrSF             4             4\n",
      "6       1stFlrSF             4             4\n",
      "7   KitchenAbvGr             4             3\n",
      "8    KitchenQual             4             5\n",
      "9     Fireplaces             4             5\n",
      "10  GarageFinish             4             4\n",
      "11     ExterQual             4             4\n",
      "12     GrLivArea             4             4\n",
      "13      FullBath             4             5\n",
      "14     YearBuilt             4             4\n",
      "15   OpenPorchSF             4             4\n",
      "16   LandContour             4             4\n",
      "17      LotShape             4             4\n",
      "18       LotArea             4             4\n",
      "19    MasVnrArea             4             4\n",
      "20         Fence             5             5\n",
      "21   MiscFeature             5             4\n",
      "22    GarageCars             5             7\n",
      "23      MSZoning             5             5\n",
      "24    MasVnrType             5             5\n",
      "25      BldgType             5             5\n",
      "26     ExterCond             5             5\n",
      "27        YrSold             5             5\n",
      "28      BsmtCond             5             5\n",
      "29      BsmtQual             5             5\n",
      "30    Foundation             6             6\n",
      "31   FireplaceQu             6             6\n",
      "32    GarageQual             6             5\n",
      "33    GarageCond             6             6\n",
      "34       Heating             6             4\n",
      "35    GarageType             7             7\n",
      "36    HouseStyle             8             7\n",
      "37  BedroomAbvGr             8             7\n",
      "38   OverallCond             9             9\n",
      "39   OverallQual            10            10\n",
      "40  TotRmsAbvGrd            12            12\n",
      "41        MoSold            12            12\n",
      "42  Neighborhood            25            25\n"
     ]
    }
   ],
   "source": [
    "df = a\n",
    "unique_counts_a = pd.DataFrame.from_records([(col, df[col].nunique()) for col in df.columns],\n",
    "                          columns=['Column', 'Num_Unique']).sort_values(by=['Num_Unique'])\n",
    "df=b\n",
    "unique_counts_b = pd.DataFrame.from_records([(col, df[col].nunique()) for col in df.columns],\n",
    "                          columns=['Column', 'Num_Unique']).sort_values(by=['Num_Unique'])\n",
    "\n",
    "new_ = pd.merge(unique_counts_a, unique_counts_b, on='Column')\n",
    "print(new_)"
   ]
  },
  {
   "cell_type": "code",
   "execution_count": 35,
   "metadata": {
    "ExecuteTime": {
     "end_time": "2020-12-04T16:43:05.808139Z",
     "start_time": "2020-12-04T16:42:55.017043Z"
    }
   },
   "outputs": [
    {
     "name": "stdout",
     "output_type": "stream",
     "text": [
      "[0.00000000e+00 1.35588206e-03 1.26187393e-05 8.95845972e-03\n",
      " 1.14622962e-02 0.00000000e+00 0.00000000e+00 0.00000000e+00\n",
      " 0.00000000e+00 5.72572680e-03 1.98454717e-04 0.00000000e+00\n",
      " 7.12380559e-03 3.99496653e-04 3.34032279e-04 1.22970332e-04\n",
      " 1.34807772e-03 6.68097317e-04 3.78114495e-04 2.07637072e-06\n",
      " 3.16043527e-04 0.00000000e+00 9.13874926e-04 6.34617643e-04\n",
      " 1.25509579e-04 4.49890972e-03 7.55409917e-04 2.42402110e-03\n",
      " 6.20270565e-03 5.65797702e-04 4.51426819e-04 8.12742479e-04\n",
      " 6.96803397e-03 0.00000000e+00 2.79520813e-03 2.42623077e-03\n",
      " 3.49254279e-03 4.61928262e-03 1.35211142e-04 3.17027861e-03\n",
      " 4.57971260e-04 2.29820117e-03 1.99456307e-04 2.97530429e-04\n",
      " 0.00000000e+00 6.08565502e-03 8.27559728e-05 1.08762633e-03\n",
      " 9.17220035e-04 1.65110692e-03 2.59841770e-03 2.29410830e-05\n",
      " 5.08202109e-03 0.00000000e+00 0.00000000e+00 8.54226314e-03\n",
      " 8.41536984e-04 1.39935264e-03 0.00000000e+00 2.48231548e-04\n",
      " 0.00000000e+00 4.73848801e-04 8.31746880e-03 2.28126951e-02\n",
      " 1.10113427e-02 1.93770596e-02 1.47886990e-02 2.93560353e-03\n",
      " 0.00000000e+00 0.00000000e+00 5.72927759e-04 9.70834411e-04\n",
      " 8.29182981e-03 2.92352124e-03 2.15746546e-03 3.61652166e-04\n",
      " 2.12797037e-05 1.35293263e-02 3.41546388e-04 7.78224617e-03\n",
      " 2.68221942e-02 1.28753912e-05 5.32698291e-03 8.85031111e-03\n",
      " 3.18874232e-03 0.00000000e+00 3.60919345e-06 1.95010476e-03\n",
      " 1.25222947e-03 0.00000000e+00 2.86075131e-03 7.38888063e-05\n",
      " 2.40176014e-02 2.82418573e-02 0.00000000e+00 1.85800721e-04\n",
      " 1.04900434e-03 0.00000000e+00 1.54076975e-03 2.58633702e-03\n",
      " 1.33182576e-02 1.98158235e-02 5.14406851e-04 0.00000000e+00\n",
      " 0.00000000e+00 7.10434584e-03 4.63421969e-04 2.13331545e-02\n",
      " 1.97216432e-03 2.26118327e-02 4.94445785e-04 3.95149877e-04\n",
      " 1.86905461e-03 0.00000000e+00 2.19213503e-03 0.00000000e+00\n",
      " 4.07074021e-04 2.24435549e-05 0.00000000e+00 0.00000000e+00\n",
      " 0.00000000e+00 5.47130502e-03 5.78499564e-03 0.00000000e+00\n",
      " 1.43402752e-02 1.48274095e-02 0.00000000e+00 5.38586482e-03\n",
      " 7.95196611e-03 7.44006101e-03 0.00000000e+00 1.23032294e-05\n",
      " 1.97549960e-02 1.89735781e-02 0.00000000e+00 0.00000000e+00\n",
      " 3.33959866e-02 2.95480290e-02 3.95183759e-04 1.21526035e-02\n",
      " 1.22989131e-02 1.38585023e-06 0.00000000e+00 9.70339460e-04\n",
      " 8.33214979e-03 7.89216614e-03 3.19425275e-03 2.97958280e-05\n",
      " 0.00000000e+00 0.00000000e+00 0.00000000e+00 1.57828452e-03\n",
      " 1.24726706e-03 0.00000000e+00 5.75303035e-03 5.37848871e-04\n",
      " 2.01898886e-02 2.18878567e-02 6.56569261e-04 5.35032816e-05\n",
      " 0.00000000e+00 0.00000000e+00 0.00000000e+00 2.06339973e-04\n",
      " 2.83735952e-03 8.08603513e-03 6.80437541e-03 5.11477339e-03\n",
      " 2.38255837e-03 1.96829737e-03 1.83688735e-02 1.18354962e-02\n",
      " 2.96517426e-03 0.00000000e+00 2.97066057e-04 1.33889730e-04\n",
      " 6.30852505e-03 1.80461435e-02 5.88843414e-05 7.63113662e-03\n",
      " 0.00000000e+00 1.94527922e-02 1.77320631e-05 1.31918262e-03\n",
      " 0.00000000e+00 1.62446383e-02 5.37136208e-03 8.68888379e-03\n",
      " 5.63274235e-03 9.64155963e-03 2.14266917e-02 4.93074631e-03\n",
      " 2.24467121e-02 2.60381064e-02 1.33904563e-02 0.00000000e+00\n",
      " 0.00000000e+00 9.39766282e-04 0.00000000e+00 5.40033745e-03\n",
      " 0.00000000e+00 8.44886307e-03 0.00000000e+00 5.53297823e-04\n",
      " 0.00000000e+00 5.10802298e-03 0.00000000e+00 7.28702174e-03\n",
      " 2.35610742e-03 1.33540208e-04 3.16746892e-03 6.06277708e-06\n",
      " 1.43865251e-03 1.46200352e-03 0.00000000e+00 5.92566625e-04\n",
      " 2.98792813e-04 2.06554895e-03 0.00000000e+00 3.75645537e-03\n",
      " 0.00000000e+00 1.96866114e-04 0.00000000e+00 1.36938722e-04\n",
      " 0.00000000e+00 0.00000000e+00 0.00000000e+00 0.00000000e+00\n",
      " 1.66326668e-04 3.69419919e-04 3.67803262e-04 3.20284107e-04\n",
      " 1.28866556e-04 7.77019847e-04 9.96615394e-04 1.75772323e-03\n",
      " 2.14416615e-03 1.51665105e-03 9.06324719e-04 2.40632296e-04\n",
      " 2.26891354e-03 2.42547875e-03 2.06787377e-03 2.61346005e-03\n",
      " 1.52342349e-03]\n",
      " There are 245 features in total\n",
      "Feature: FullBath_1                          Importance: 0.033395986636588444\n",
      "Feature: FullBath_2                          Importance: 0.029548028961826404\n",
      "Feature: ExterQual_TA                        Importance: 0.028241857305453467\n",
      "Feature: YearBuilt_YearBuilt_very_high       Importance: 0.026822194157008677\n",
      "Feature: GarageCars_2                        Importance: 0.026038106362490248\n",
      "Feature: ExterQual_Gd                        Importance: 0.024017601419691746\n",
      "Feature: OverallQual_5                       Importance: 0.022812695119168478\n",
      "Feature: BsmtQual_TA                         Importance: 0.0226118326821602\n",
      "Feature: GarageCars_1                        Importance: 0.02244671210723789\n",
      "Feature: KitchenQual_TA                      Importance: 0.02188785668738948\n",
      "Feature: GarageFinish_Unf                    Importance: 0.021426691658522252\n",
      "Feature: BsmtQual_Gd                         Importance: 0.02133315446676047\n",
      "Feature: KitchenQual_Gd                      Importance: 0.020189888622695093\n",
      "Feature: Foundation_PConc                    Importance: 0.019815823456800333\n",
      "Feature: GrLivArea_GrLivArea_low             Importance: 0.01975499597248423\n",
      "Feature: GarageType_Attchd                   Importance: 0.019452792150432708\n",
      "Feature: OverallQual_7                       Importance: 0.019377059573015873\n",
      "Feature: GrLivArea_GrLivArea_mid             Importance: 0.018973578052690832\n",
      "Feature: Fireplaces_0                        Importance: 0.018368873532194532\n",
      "Feature: FireplaceQu_NA                      Importance: 0.01804614349278845\n",
      "Feature: GarageType_Detchd                   Importance: 0.01624463825615673\n",
      "Feature: 1stFlrSF_1stFlrSF_mid               Importance: 0.014827409528326368\n",
      "Feature: OverallQual_8                       Importance: 0.014788699036534783\n",
      "Feature: 1stFlrSF_1stFlrSF_low               Importance: 0.014340275227072421\n",
      "Feature: YearBuilt_YearBuilt_high            Importance: 0.013529326286531503\n",
      "Feature: GarageCars_3                        Importance: 0.013390456342970678\n",
      "Feature: Foundation_CBlock                   Importance: 0.013318257643673658\n",
      "Feature: HalfBath_1                          Importance: 0.012298913094843546\n",
      "Feature: HalfBath_0                          Importance: 0.012152603473430319\n",
      "Feature: Fireplaces_1                        Importance: 0.011835496193584523\n",
      "Feature: MSZoning_RM                         Importance: 0.01146229617961245\n",
      "Feature: OverallQual_6                       Importance: 0.011011342705275578\n",
      "Feature: GarageFinish_RFn                    Importance: 0.009641559626224398\n",
      "Feature: MSZoning_RL                         Importance: 0.00895845971992831\n",
      "Feature: MasVnrType_None                     Importance: 0.00885031110555245\n",
      "Feature: GarageFinish_Fin                    Importance: 0.00868888378512562\n",
      "Feature: HouseStyle_2Story                   Importance: 0.008542263144475974\n",
      "Feature: GarageQual_TA                       Importance: 0.008448863068754656\n",
      "Feature: BedroomAbvGr_2                      Importance: 0.008332149790771256\n",
      "Feature: OverallQual_4                       Importance: 0.00831746880099536\n",
      "Feature: OverallCond_5                       Importance: 0.008291829805678016\n",
      "Feature: TotRmsAbvGrd_5                      Importance: 0.00808603512610503\n",
      "Feature: 2ndFlrSF_2ndFlrSF_low               Importance: 0.007951966113470354\n",
      "Feature: BedroomAbvGr_3                      Importance: 0.00789216614481309\n",
      "Feature: YearBuilt_YearBuilt_mid             Importance: 0.007782246171626531\n",
      "Feature: FireplaceQu_TA                      Importance: 0.0076311366218661525\n",
      "Feature: 2ndFlrSF_2ndFlrSF_mid               Importance: 0.007440061009021611\n",
      "Feature: GarageCond_TA                       Importance: 0.007287021735293194\n",
      "Feature: LotShape_Reg                        Importance: 0.0071238055943966\n",
      "Feature: BsmtQual_Ex                         Importance: 0.007104345835195799\n",
      "Feature: Neighborhood_NAmes                  Importance: 0.006968033970052701\n",
      "Feature: TotRmsAbvGrd_6                      Importance: 0.0068043754062418445\n",
      "Feature: FireplaceQu_Gd                      Importance: 0.006308525050750309\n",
      "Feature: Neighborhood_Gilbert                Importance: 0.006202705646156329\n",
      "Feature: BldgType_1Fam                       Importance: 0.006085655016544028\n",
      "Feature: CentralAir_Y                        Importance: 0.005784995640683365\n",
      "Feature: KitchenQual_Ex                      Importance: 0.00575303035299515\n",
      "Feature: LotShape_IR1                        Importance: 0.005725726799753011\n",
      "Feature: GarageFinish_NA                     Importance: 0.005632742345305384\n",
      "Feature: CentralAir_N                        Importance: 0.005471305021273585\n",
      "Feature: GarageQual_NA                       Importance: 0.00540033745237892\n",
      "Feature: 2ndFlrSF_2ndFlrSF_high              Importance: 0.005385864817013326\n",
      "Feature: GarageType_NA                       Importance: 0.005371362081651458\n",
      "Feature: MasVnrType_BrkFace                  Importance: 0.00532698290664491\n",
      "Feature: TotRmsAbvGrd_7                      Importance: 0.005114773391558148\n",
      "Feature: GarageCond_NA                       Importance: 0.005108022979121665\n",
      "Feature: HouseStyle_1Story                   Importance: 0.005082021092314569\n",
      "Feature: GarageCars_0                        Importance: 0.004930746314027752\n",
      "Feature: Neighborhood_OldTown                Importance: 0.004619282619049843\n",
      "Feature: Neighborhood_CollgCr                Importance: 0.0044989097162553135\n",
      "Feature: Fence_NA                            Importance: 0.0037564553694904306\n",
      "Feature: Neighborhood_NridgHt                Importance: 0.0034925427859285136\n",
      "Feature: BedroomAbvGr_4                      Importance: 0.0031942527479777555\n",
      "Feature: MasVnrType_Stone                    Importance: 0.003188742324871367\n",
      "Feature: Neighborhood_Sawyer                 Importance: 0.0031702786109017696\n",
      "Feature: PavedDrive_Y                        Importance: 0.0031674689212923303\n",
      "Feature: Fireplaces_2                        Importance: 0.0029651742603208327\n",
      "Feature: OverallQual_9                       Importance: 0.002935603533643265\n",
      "Feature: OverallCond_6                       Importance: 0.002923521243451496\n",
      "Feature: ExterQual_Ex                        Importance: 0.0028607513138023686\n",
      "Feature: TotRmsAbvGrd_4                      Importance: 0.002837359520999585\n",
      "Feature: Neighborhood_NWAmes                 Importance: 0.00279520813242882\n",
      "Feature: YrSold_2009                         Importance: 0.002613460048324107\n",
      "Feature: HouseStyle_1.5Fin                   Importance: 0.0025984176976615973\n",
      "Feature: Foundation_BrkTil                   Importance: 0.002586337023638989\n",
      "Feature: Neighborhood_NoRidge                Importance: 0.002426230772850481\n",
      "Feature: YrSold_2007                         Importance: 0.0024254787479431345\n",
      "Feature: Neighborhood_Edwards                Importance: 0.0024240211015444323\n",
      "Feature: TotRmsAbvGrd_8                      Importance: 0.0023825583683802663\n",
      "Feature: PavedDrive_N                        Importance: 0.002356107416416331\n",
      "Feature: Neighborhood_Somerst                Importance: 0.002298201173859716\n",
      "Feature: YrSold_2006                         Importance: 0.0022689135366905817\n",
      "Feature: BsmtCond_TA                         Importance: 0.0021921350327107738\n",
      "Feature: OverallCond_7                       Importance: 0.002157465460928789\n",
      "Feature: MoSold_6                            Importance: 0.0021441661543765652\n",
      "Feature: YrSold_2008                         Importance: 0.002067873772985243\n",
      "Feature: Fence_MnPrv                         Importance: 0.00206554895193887\n",
      "Feature: BsmtQual_NA                         Importance: 0.0019721643179013448\n",
      "Feature: TotRmsAbvGrd_9                      Importance: 0.0019682973686461895\n",
      "Feature: MasVnrArea_MasVnrArea_low           Importance: 0.0019501047625075775\n",
      "Feature: BsmtCond_NA                         Importance: 0.0018690546095040288\n",
      "Feature: MoSold_5                            Importance: 0.0017577232284273947\n",
      "Feature: BldgType_TwnhsE                     Importance: 0.0016511069202946257\n",
      "Feature: KitchenAbvGr_1                      Importance: 0.0015782845194614\n",
      "Feature: ExterCond_TA                        Importance: 0.0015407697487541284\n",
      "Feature: YrSold_2010                         Importance: 0.0015234234853205373\n",
      "Feature: MoSold_7                            Importance: 0.0015166510549773277\n",
      "Feature: OpenPorchSF_OpenPorchSF_mid         Importance: 0.0014620035181479316\n",
      "Feature: OpenPorchSF_OpenPorchSF_low         Importance: 0.0014386525083570662\n",
      "Feature: HouseStyle_SLvl                     Importance: 0.0013993526384547164\n",
      "Feature: MSZoning_FV                         Importance: 0.0013558820568590668\n",
      "Feature: LandContour_Lvl                     Importance: 0.0013480777212919975\n",
      "Feature: GarageType_BuiltIn                  Importance: 0.0013191826220859957\n",
      "Feature: MasVnrArea_MasVnrArea_mid           Importance: 0.0012522294660901755\n",
      "Feature: KitchenAbvGr_2                      Importance: 0.0012472670605534542\n",
      "Feature: BldgType_Duplex                     Importance: 0.0010876263293183885\n",
      "Feature: ExterCond_Gd                        Importance: 0.001049004341252042\n",
      "Feature: MoSold_4                            Importance: 0.0009966153939309256\n",
      "Feature: OverallCond_4                       Importance: 0.0009708344105398149\n",
      "Feature: BedroomAbvGr_1                      Importance: 0.0009703394604383261\n",
      "Feature: GarageQual_Fa                       Importance: 0.000939766282169936\n",
      "Feature: BldgType_Twnhs                      Importance: 0.0009172200351210867\n",
      "Feature: Neighborhood_BrDale                 Importance: 0.0009138749256510403\n",
      "Feature: MoSold_8                            Importance: 0.0009063247190585763\n",
      "Feature: HouseStyle_SFoyer                   Importance: 0.0008415369839407762\n",
      "Feature: Neighborhood_Mitchel                Importance: 0.0008127424787481084\n",
      "Feature: MoSold_3                            Importance: 0.0007770198474301589\n",
      "Feature: Neighborhood_Crawfor                Importance: 0.0007554099165154842\n",
      "Feature: LandSlope_Gtl                       Importance: 0.0006680973171549812\n",
      "Feature: TotRmsAbvGrd_10                     Importance: 0.0006565692608460718\n",
      "Feature: Neighborhood_BrkSide                Importance: 0.000634617642920815\n",
      "Feature: Fence_GdPrv                         Importance: 0.0005925666254895166\n",
      "Feature: OverallCond_3                       Importance: 0.0005729277591094078\n",
      "Feature: Neighborhood_IDOTRR                 Importance: 0.000565797701652814\n",
      "Feature: GarageCond_Fa                       Importance: 0.0005532978230144258\n",
      "Feature: KitchenQual_Fa                      Importance: 0.0005378488706640235\n",
      "Feature: Foundation_Slab                     Importance: 0.0005144068507537309\n",
      "Feature: BsmtCond_Fa                         Importance: 0.0004944457849248202\n",
      "Feature: OverallQual_3                       Importance: 0.00047384880087483045\n",
      "Feature: BsmtQual_Fa                         Importance: 0.000463421968983014\n",
      "Feature: Neighborhood_SawyerW                Importance: 0.00045797126028381625\n",
      "Feature: Neighborhood_MeadowV                Importance: 0.0004514268187397328\n",
      "Feature: Heating_GasA                        Importance: 0.00040707402149584254\n",
      "Feature: LandContour_Bnk                     Importance: 0.0003994966529699827\n",
      "Feature: FullBath_3                          Importance: 0.0003951837589706651\n",
      "Feature: BsmtCond_Gd                         Importance: 0.00039514987692394244\n",
      "Feature: LandSlope_Mod                       Importance: 0.0003781144951525657\n",
      "Feature: MoSold_10                           Importance: 0.0003694199194404902\n",
      "Feature: MoSold_11                           Importance: 0.00036780326221380616\n",
      "Feature: OverallCond_8                       Importance: 0.0003616521663083449\n",
      "Feature: YearBuilt_YearBuilt_low             Importance: 0.0003415463876988077\n",
      "Feature: LandContour_HLS                     Importance: 0.00033403227860089214\n",
      "Feature: MoSold_12                           Importance: 0.00032028410720887144\n",
      "Feature: Neighborhood_Blmngtn                Importance: 0.00031604352700047853\n",
      "Feature: Fence_GdWo                          Importance: 0.00029879281307694543\n",
      "Feature: Neighborhood_Timber                 Importance: 0.00029753042851386974\n",
      "Feature: FireplaceQu_Ex                      Importance: 0.00029706605742256564\n",
      "Feature: OverallQual_10                      Importance: 0.0002482315481096733\n",
      "Feature: MoSold_9                            Importance: 0.00024063229633249452\n",
      "Feature: TotRmsAbvGrd_3                      Importance: 0.00020633997336065148\n",
      "Feature: Neighborhood_StoneBr                Importance: 0.0001994563067861446\n",
      "Feature: LotShape_IR2                        Importance: 0.00019845471652799097\n",
      "Feature: MiscFeature_NA                      Importance: 0.00019686611374554716\n",
      "Feature: ExterCond_Fa                        Importance: 0.000185800721326559\n",
      "Feature: MoSold_1                            Importance: 0.00016632666807570536\n",
      "Feature: MiscFeature_Shed                    Importance: 0.00013693872199126096\n",
      "Feature: Neighborhood_SWISU                  Importance: 0.00013521114172247332\n",
      "Feature: FireplaceQu_Fa                      Importance: 0.00013388973043368602\n",
      "Feature: PavedDrive_P                        Importance: 0.000133540208467686\n",
      "Feature: MoSold_2                            Importance: 0.00012886655578796537\n",
      "Feature: Neighborhood_ClearCr                Importance: 0.0001255095794961416\n",
      "Feature: LandContour_Low                     Importance: 0.00012297033178942387\n",
      "Feature: BldgType_2fmCon                     Importance: 8.275597277809378e-05\n",
      "Feature: ExterQual_Fa                        Importance: 7.388880630528154e-05\n",
      "Feature: FireplaceQu_Po                      Importance: 5.888434135516512e-05\n",
      "Feature: TotRmsAbvGrd_11                     Importance: 5.3503281567572236e-05\n",
      "Feature: BedroomAbvGr_5                      Importance: 2.9795828024802683e-05\n",
      "Feature: HouseStyle_1.5Unf                   Importance: 2.2941082987969008e-05\n",
      "Feature: Heating_GasW                        Importance: 2.2443554865915643e-05\n",
      "Feature: OverallCond_9                       Importance: 2.127970373996883e-05\n",
      "Feature: GarageType_Basment                  Importance: 1.773206306937857e-05\n",
      "Feature: MasVnrType_BrkCmn                   Importance: 1.2875391198550632e-05\n",
      "Feature: MSZoning_RH                         Importance: 1.2618739311075855e-05\n",
      "Feature: GrLivArea_GrLivArea_high            Importance: 1.2303229357097195e-05\n",
      "Feature: OpenPorchSF_OpenPorchSF_high        Importance: 6.062777080820347e-06\n",
      "Feature: MasVnrArea_MasVnrArea_high          Importance: 3.609193453149575e-06\n",
      "Feature: LandSlope_Sev                       Importance: 2.076370721150406e-06\n",
      "Feature: HalfBath_2                          Importance: 1.3858502341679713e-06\n",
      "Feature: MSZoning_C (all)                    Importance: 0.0\n",
      "Feature: LotArea_LotArea_high                Importance: 0.0\n",
      "Feature: LotArea_LotArea_low                 Importance: 0.0\n",
      "Feature: LotArea_LotArea_mid                 Importance: 0.0\n",
      "Feature: LotArea_LotArea_very_high           Importance: 0.0\n",
      "Feature: LotShape_IR3                        Importance: 0.0\n",
      "Feature: Neighborhood_Blueste                Importance: 0.0\n",
      "Feature: Neighborhood_NPkVill                Importance: 0.0\n",
      "Feature: Neighborhood_Veenker                Importance: 0.0\n",
      "Feature: HouseStyle_2.5Fin                   Importance: 0.0\n",
      "Feature: HouseStyle_2.5Unf                   Importance: 0.0\n",
      "Feature: OverallQual_1                       Importance: 0.0\n",
      "Feature: OverallQual_2                       Importance: 0.0\n",
      "Feature: OverallCond_1                       Importance: 0.0\n",
      "Feature: OverallCond_2                       Importance: 0.0\n",
      "Feature: MasVnrType_nan                      Importance: 0.0\n",
      "Feature: MasVnrArea_MasVnrArea_very_high     Importance: 0.0\n",
      "Feature: ExterCond_Ex                        Importance: 0.0\n",
      "Feature: ExterCond_Po                        Importance: 0.0\n",
      "Feature: Foundation_Stone                    Importance: 0.0\n",
      "Feature: Foundation_Wood                     Importance: 0.0\n",
      "Feature: BsmtCond_Po                         Importance: 0.0\n",
      "Feature: Heating_Floor                       Importance: 0.0\n",
      "Feature: Heating_Grav                        Importance: 0.0\n",
      "Feature: Heating_OthW                        Importance: 0.0\n",
      "Feature: Heating_Wall                        Importance: 0.0\n",
      "Feature: 1stFlrSF_1stFlrSF_high              Importance: 0.0\n",
      "Feature: 1stFlrSF_1stFlrSF_very_high         Importance: 0.0\n",
      "Feature: 2ndFlrSF_2ndFlrSF_very_high         Importance: 0.0\n",
      "Feature: GrLivArea_GrLivArea_very_high       Importance: 0.0\n",
      "Feature: FullBath_0                          Importance: 0.0\n",
      "Feature: BedroomAbvGr_0                      Importance: 0.0\n",
      "Feature: BedroomAbvGr_6                      Importance: 0.0\n",
      "Feature: BedroomAbvGr_8                      Importance: 0.0\n",
      "Feature: KitchenAbvGr_0                      Importance: 0.0\n",
      "Feature: KitchenAbvGr_3                      Importance: 0.0\n",
      "Feature: TotRmsAbvGrd_12                     Importance: 0.0\n",
      "Feature: TotRmsAbvGrd_14                     Importance: 0.0\n",
      "Feature: TotRmsAbvGrd_2                      Importance: 0.0\n",
      "Feature: Fireplaces_3                        Importance: 0.0\n",
      "Feature: GarageType_2Types                   Importance: 0.0\n",
      "Feature: GarageType_CarPort                  Importance: 0.0\n",
      "Feature: GarageCars_4                        Importance: 0.0\n",
      "Feature: GarageQual_Ex                       Importance: 0.0\n",
      "Feature: GarageQual_Gd                       Importance: 0.0\n",
      "Feature: GarageQual_Po                       Importance: 0.0\n",
      "Feature: GarageCond_Ex                       Importance: 0.0\n",
      "Feature: GarageCond_Gd                       Importance: 0.0\n",
      "Feature: GarageCond_Po                       Importance: 0.0\n",
      "Feature: OpenPorchSF_OpenPorchSF_very_high   Importance: 0.0\n",
      "Feature: Fence_MnWw                          Importance: 0.0\n",
      "Feature: MiscFeature_Gar2                    Importance: 0.0\n",
      "Feature: MiscFeature_Othr                    Importance: 0.0\n",
      "Feature: MiscFeature_TenC                    Importance: 0.0\n",
      "Feature: MiscVal_MiscVal_high                Importance: 0.0\n",
      "Feature: MiscVal_MiscVal_low                 Importance: 0.0\n",
      "Feature: MiscVal_MiscVal_very_high           Importance: 0.0\n"
     ]
    }
   ],
   "source": [
    "train_x = a\n",
    "train_y = c\n",
    "test_x = b\n",
    "test_y = d\n",
    "\n",
    "col_trans = make_column_transformer(\n",
    "                        (OneHotEncoder(),train_x.columns.tolist()),\n",
    "                        remainder = \"passthrough\"\n",
    "                        )\n",
    "set(test_x.columns) - set(train_x.columns)\n",
    "\n",
    "\n",
    "rf_classifier = RandomForestClassifier(\n",
    "                      min_samples_leaf=10,\n",
    "                      n_estimators=5000,\n",
    "                      bootstrap=True,\n",
    "                      oob_score=True,\n",
    "                      n_jobs=-1,\n",
    "                      random_state=22,\n",
    "                      max_features=5)\n",
    "\n",
    "\n",
    "pipe = make_pipeline(col_trans, rf_classifier)\n",
    "pipe.fit(train_x, train_y)\n",
    "\n",
    "#y_pred = pipe.predict(test_x)\n",
    "#accuracy_score(test_y['SalePrice'].astype('str'), y_pred)\n",
    "\n",
    "\n",
    "print(rf_classifier.feature_importances_)\n",
    "print(f\" There are {len(rf_classifier.feature_importances_)} features in total\")\n",
    "\n",
    "\n",
    "\n",
    "def encode_and_bind(original_dataframe, features_to_encode):\n",
    "    dummies = pd.get_dummies(original_dataframe[features_to_encode])\n",
    "    res = pd.concat([dummies, original_dataframe], axis=1)\n",
    "    res = res.drop(features_to_encode, axis=1)\n",
    "    return(res)\n",
    "X_train_encoded = encode_and_bind(train_x, train_x.columns.tolist())\n",
    "\n",
    "\n",
    "feature_importances = list(zip(X_train_encoded, rf_classifier.feature_importances_))\n",
    "\n",
    "\n",
    "# Then sort the feature importances by most important first\n",
    "feature_importances_ranked = sorted(feature_importances, key = lambda x: x[1], reverse = True)\n",
    "# Print out the feature and importances\n",
    "[print('Feature: {:35} Importance: {}'.format(*pair)) for pair in feature_importances_ranked];\n",
    "\n",
    "\n",
    "\n"
   ]
  },
  {
   "cell_type": "code",
   "execution_count": 40,
   "metadata": {
    "ExecuteTime": {
     "end_time": "2020-12-04T16:50:18.110763Z",
     "start_time": "2020-12-04T16:50:18.063829Z"
    }
   },
   "outputs": [
    {
     "name": "stdout",
     "output_type": "stream",
     "text": [
      "MSZoning\n",
      "C (all)      10\n",
      "FV           65\n",
      "RH           16\n",
      "RL         1151\n",
      "RM          218\n",
      "Name: YrSold, dtype: int64\n",
      "LotArea\n",
      "LotArea_high            2\n",
      "LotArea_low          1453\n",
      "LotArea_mid             3\n",
      "LotArea_very_high       2\n",
      "Name: YrSold, dtype: int64\n",
      "LotShape\n",
      "IR1    484\n",
      "IR2     41\n",
      "IR3     10\n",
      "Reg    925\n",
      "Name: YrSold, dtype: int64\n",
      "LandContour\n",
      "Bnk      63\n",
      "HLS      50\n",
      "Low      36\n",
      "Lvl    1311\n",
      "Name: YrSold, dtype: int64\n",
      "LandSlope\n",
      "Gtl    1382\n",
      "Mod      65\n",
      "Sev      13\n",
      "Name: YrSold, dtype: int64\n",
      "Neighborhood\n",
      "Blmngtn     17\n",
      "Blueste      2\n",
      "BrDale      16\n",
      "BrkSide     58\n",
      "ClearCr     28\n",
      "CollgCr    150\n",
      "Crawfor     51\n",
      "Edwards    100\n",
      "Gilbert     79\n",
      "IDOTRR      37\n",
      "MeadowV     17\n",
      "Mitchel     49\n",
      "NAmes      225\n",
      "NPkVill      9\n",
      "NWAmes      73\n",
      "NoRidge     41\n",
      "NridgHt     77\n",
      "OldTown    113\n",
      "SWISU       25\n",
      "Sawyer      74\n",
      "SawyerW     59\n",
      "Somerst     86\n",
      "StoneBr     25\n",
      "Timber      38\n",
      "Veenker     11\n",
      "Name: YrSold, dtype: int64\n",
      "BldgType\n",
      "1Fam      1220\n",
      "2fmCon      31\n",
      "Duplex      52\n",
      "Twnhs       43\n",
      "TwnhsE     114\n",
      "Name: YrSold, dtype: int64\n",
      "HouseStyle\n",
      "1.5Fin    154\n",
      "1.5Unf     14\n",
      "1Story    726\n",
      "2.5Fin      8\n",
      "2.5Unf     11\n",
      "2Story    445\n",
      "SFoyer     37\n",
      "SLvl       65\n",
      "Name: YrSold, dtype: int64\n",
      "OverallQual\n",
      "1       2\n",
      "10     18\n",
      "2       3\n",
      "3      20\n",
      "4     116\n",
      "5     397\n",
      "6     374\n",
      "7     319\n",
      "8     168\n",
      "9      43\n",
      "Name: YrSold, dtype: int64\n",
      "OverallCond\n",
      "1      1\n",
      "2      5\n",
      "3     25\n",
      "4     57\n",
      "5    821\n",
      "6    252\n",
      "7    205\n",
      "8     72\n",
      "9     22\n",
      "Name: YrSold, dtype: int64\n",
      "YearBuilt\n",
      "YearBuilt_high         486\n",
      "YearBuilt_low           28\n",
      "YearBuilt_mid          244\n",
      "YearBuilt_very_high    702\n",
      "Name: YrSold, dtype: int64\n",
      "MasVnrType\n",
      "BrkCmn      15\n",
      "BrkFace    445\n",
      "None       864\n",
      "Stone      128\n",
      "nan          8\n",
      "Name: YrSold, dtype: int64\n",
      "MasVnrArea\n",
      "MasVnrArea_high           12\n",
      "MasVnrArea_low          1360\n",
      "MasVnrArea_mid            86\n",
      "MasVnrArea_very_high       2\n",
      "Name: YrSold, dtype: int64\n",
      "ExterQual\n",
      "Ex     52\n",
      "Fa     14\n",
      "Gd    488\n",
      "TA    906\n",
      "Name: YrSold, dtype: int64\n",
      "ExterCond\n",
      "Ex       3\n",
      "Fa      28\n",
      "Gd     146\n",
      "Po       1\n",
      "TA    1282\n",
      "Name: YrSold, dtype: int64\n",
      "Foundation\n",
      "BrkTil    146\n",
      "CBlock    634\n",
      "PConc     647\n",
      "Slab       24\n",
      "Stone       6\n",
      "Wood        3\n",
      "Name: YrSold, dtype: int64\n",
      "BsmtQual\n",
      "Ex    121\n",
      "Fa     35\n",
      "Gd    618\n",
      "NA     37\n",
      "TA    649\n",
      "Name: YrSold, dtype: int64\n",
      "BsmtCond\n",
      "Fa      45\n",
      "Gd      65\n",
      "NA      37\n",
      "Po       2\n",
      "TA    1311\n",
      "Name: YrSold, dtype: int64\n",
      "Heating\n",
      "Floor       1\n",
      "GasA     1428\n",
      "GasW       18\n",
      "Grav        7\n",
      "OthW        2\n",
      "Wall        4\n",
      "Name: YrSold, dtype: int64\n",
      "CentralAir\n",
      "N      95\n",
      "Y    1365\n",
      "Name: YrSold, dtype: int64\n",
      "1stFlrSF\n",
      "1stFlrSF_high            6\n",
      "1stFlrSF_low          1117\n",
      "1stFlrSF_mid           336\n",
      "1stFlrSF_very_high       1\n",
      "Name: YrSold, dtype: int64\n",
      "2ndFlrSF\n",
      "2ndFlrSF_high         109\n",
      "2ndFlrSF_low          902\n",
      "2ndFlrSF_mid          443\n",
      "2ndFlrSF_very_high      6\n",
      "Name: YrSold, dtype: int64\n",
      "GrLivArea\n",
      "GrLivArea_high          14\n",
      "GrLivArea_low          968\n",
      "GrLivArea_mid          474\n",
      "GrLivArea_very_high      4\n",
      "Name: YrSold, dtype: int64\n",
      "FullBath\n",
      "0      9\n",
      "1    650\n",
      "2    768\n",
      "3     33\n",
      "Name: YrSold, dtype: int64\n",
      "HalfBath\n",
      "0    913\n",
      "1    535\n",
      "2     12\n",
      "Name: YrSold, dtype: int64\n",
      "BedroomAbvGr\n",
      "0      6\n",
      "1     50\n",
      "2    358\n",
      "3    804\n",
      "4    213\n",
      "5     21\n",
      "6      7\n",
      "8      1\n",
      "Name: YrSold, dtype: int64\n",
      "KitchenAbvGr\n",
      "0       1\n",
      "1    1392\n",
      "2      65\n",
      "3       2\n",
      "Name: YrSold, dtype: int64\n",
      "KitchenQual\n",
      "Ex    100\n",
      "Fa     39\n",
      "Gd    586\n",
      "TA    735\n",
      "Name: YrSold, dtype: int64\n",
      "TotRmsAbvGrd\n",
      "10     47\n",
      "11     18\n",
      "12     11\n",
      "14      1\n",
      "2       1\n",
      "3      17\n",
      "4      97\n",
      "5     275\n",
      "6     402\n",
      "7     329\n",
      "8     187\n",
      "9      75\n",
      "Name: YrSold, dtype: int64\n",
      "Fireplaces\n",
      "0    690\n",
      "1    650\n",
      "2    115\n",
      "3      5\n",
      "Name: YrSold, dtype: int64\n",
      "FireplaceQu\n",
      "Ex     24\n",
      "Fa     33\n",
      "Gd    380\n",
      "NA    690\n",
      "Po     20\n",
      "TA    313\n",
      "Name: YrSold, dtype: int64\n",
      "GarageType\n",
      "2Types       6\n",
      "Attchd     870\n",
      "Basment     19\n",
      "BuiltIn     88\n",
      "CarPort      9\n",
      "Detchd     387\n",
      "NA          81\n",
      "Name: YrSold, dtype: int64\n",
      "GarageFinish\n",
      "Fin    352\n",
      "NA      81\n",
      "RFn    422\n",
      "Unf    605\n",
      "Name: YrSold, dtype: int64\n",
      "GarageCars\n",
      "0     81\n",
      "1    369\n",
      "2    824\n",
      "3    181\n",
      "4      5\n",
      "Name: YrSold, dtype: int64\n",
      "GarageQual\n",
      "Ex       3\n",
      "Fa      48\n",
      "Gd      14\n",
      "NA      81\n",
      "Po       3\n",
      "TA    1311\n",
      "Name: YrSold, dtype: int64\n",
      "GarageCond\n",
      "Ex       2\n",
      "Fa      35\n",
      "Gd       9\n",
      "NA      81\n",
      "Po       7\n",
      "TA    1326\n",
      "Name: YrSold, dtype: int64\n",
      "PavedDrive\n",
      "N      90\n",
      "P      30\n",
      "Y    1340\n",
      "Name: YrSold, dtype: int64\n",
      "OpenPorchSF\n",
      "OpenPorchSF_high           14\n",
      "OpenPorchSF_low          1326\n",
      "OpenPorchSF_mid           116\n",
      "OpenPorchSF_very_high       4\n",
      "Name: YrSold, dtype: int64\n",
      "Fence\n",
      "GdPrv      59\n",
      "GdWo       54\n",
      "MnPrv     157\n",
      "MnWw       11\n",
      "NA       1179\n",
      "Name: YrSold, dtype: int64\n",
      "MiscFeature\n",
      "Gar2       2\n",
      "NA      1406\n",
      "Othr       2\n",
      "Shed      49\n",
      "TenC       1\n",
      "Name: YrSold, dtype: int64\n",
      "MiscVal\n",
      "MiscVal_high            1\n",
      "MiscVal_low          1458\n",
      "MiscVal_very_high       1\n",
      "Name: YrSold, dtype: int64\n",
      "MoSold\n",
      "1      58\n",
      "10     89\n",
      "11     79\n",
      "12     59\n",
      "2      52\n",
      "3     106\n",
      "4     141\n",
      "5     204\n",
      "6     253\n",
      "7     234\n",
      "8     122\n",
      "9      63\n",
      "Name: YrSold, dtype: int64\n",
      "YrSold\n",
      "2006    314\n",
      "2007    329\n",
      "2008    304\n",
      "2009    338\n",
      "2010    175\n",
      "Name: YrSold, dtype: int64\n"
     ]
    }
   ],
   "source": [
    "for col_ in a.columns:\n",
    "    print(a.groupby(col_)['YrSold'].agg('count'))"
   ]
  },
  {
   "cell_type": "code",
   "execution_count": 13,
   "metadata": {
    "ExecuteTime": {
     "end_time": "2020-12-03T02:07:11.835175Z",
     "start_time": "2020-12-03T02:07:11.540071Z"
    }
   },
   "outputs": [
    {
     "data": {
      "image/png": "[encoded data removed]",
      "text/plain": [
       "<Figure size 720x1008 with 1 Axes>"
      ]
     },
     "metadata": {
      "needs_background": "light"
     },
     "output_type": "display_data"
    }
   ],
   "source": [
    "# Plot the top 25 feature importance\n",
    "feature_names_25 = [i[0] for i in feature_importances_ranked[:25]]\n",
    "y_ticks = np.arange(0, len(feature_names_25))\n",
    "x_axis = [i[1] for i in feature_importances_ranked[:25]]\n",
    "plt.figure(figsize = (10, 14))\n",
    "plt.barh(feature_names_25, x_axis)   #horizontal barplot\n",
    "plt.title('Random Forest Feature Importance (Top 25)',\n",
    "          fontdict= {'fontname':'Comic Sans MS','fontsize' : 20})\n",
    "plt.xlabel('Features',fontdict= {'fontsize' : 16})\n",
    "plt.show()"
   ]
  },
  {
   "cell_type": "code",
   "execution_count": null,
   "metadata": {},
   "outputs": [],
   "source": []
  },
  {
   "cell_type": "code",
   "execution_count": 14,
   "metadata": {
    "ExecuteTime": {
     "end_time": "2020-12-03T02:07:22.415404Z",
     "start_time": "2020-12-03T02:07:22.410011Z"
    }
   },
   "outputs": [],
   "source": [
    "from sklearn.model_selection import RandomizedSearchCV\n",
    "n_estimators = [int(x) for x in np.linspace(start = 2, stop = 1000, num = 200)]\n",
    "max_features = ['auto', 'log2']  # Number of features to consider at every split\n",
    "max_depth = [int(x) for x in np.linspace(2, 10, num = 9)]   # Maximum number of levels in tree\n",
    "max_depth.append(None)\n",
    "min_samples_split = [2, 5, 10]  # Minimum number of samples required to split a node\n",
    "min_samples_leaf = [1, 4, 10]    # Minimum number of samples required at each leaf node\n",
    "bootstrap = [True, False]       # Method of selecting samples for training each tree\n",
    "random_grid = {'n_estimators': n_estimators,\n",
    "               'max_features': max_features,\n",
    "               'max_depth': max_depth,\n",
    "               'min_samples_split': min_samples_split,\n",
    "               'min_samples_leaf': min_samples_leaf,\n",
    "               'max_leaf_nodes': [None] + list(np.linspace(10, 50, 500).astype(int)),\n",
    "               'bootstrap': bootstrap}"
   ]
  },
  {
   "cell_type": "code",
   "execution_count": 15,
   "metadata": {
    "ExecuteTime": {
     "end_time": "2020-12-03T02:08:53.905425Z",
     "start_time": "2020-12-03T02:07:24.681937Z"
    }
   },
   "outputs": [
    {
     "name": "stdout",
     "output_type": "stream",
     "text": [
      "Fitting 3 folds for each of 50 candidates, totalling 150 fits\n"
     ]
    },
    {
     "name": "stderr",
     "output_type": "stream",
     "text": [
      "/Users/paulsprouse/opt/anaconda3/lib/python3.7/site-packages/sklearn/model_selection/_split.py:672: UserWarning: The least populated class in y has only 2 members, which is less than n_splits=3.\n",
      "  % (min_groups, self.n_splits)), UserWarning)\n",
      "[Parallel(n_jobs=1)]: Using backend SequentialBackend with 1 concurrent workers.\n",
      "/Users/paulsprouse/opt/anaconda3/lib/python3.7/site-packages/sklearn/model_selection/_validation.py:552: FitFailedWarning: Estimator fit failed. The score on this train-test partition for these parameters will be set to nan. Details: \n",
      "Traceback (most recent call last):\n",
      "  File \"/Users/paulsprouse/opt/anaconda3/lib/python3.7/site-packages/sklearn/model_selection/_validation.py\", line 531, in _fit_and_score\n",
      "    estimator.fit(X_train, y_train, **fit_params)\n",
      "  File \"/Users/paulsprouse/opt/anaconda3/lib/python3.7/site-packages/sklearn/ensemble/_forest.py\", line 351, in fit\n",
      "    raise ValueError(\"Out of bag estimation only available\"\n",
      "ValueError: Out of bag estimation only available if bootstrap=True\n",
      "\n",
      "  FitFailedWarning)\n",
      "/Users/paulsprouse/opt/anaconda3/lib/python3.7/site-packages/sklearn/model_selection/_validation.py:552: FitFailedWarning: Estimator fit failed. The score on this train-test partition for these parameters will be set to nan. Details: \n",
      "Traceback (most recent call last):\n",
      "  File \"/Users/paulsprouse/opt/anaconda3/lib/python3.7/site-packages/sklearn/model_selection/_validation.py\", line 531, in _fit_and_score\n",
      "    estimator.fit(X_train, y_train, **fit_params)\n",
      "  File \"/Users/paulsprouse/opt/anaconda3/lib/python3.7/site-packages/sklearn/ensemble/_forest.py\", line 351, in fit\n",
      "    raise ValueError(\"Out of bag estimation only available\"\n",
      "ValueError: Out of bag estimation only available if bootstrap=True\n",
      "\n",
      "  FitFailedWarning)\n",
      "/Users/paulsprouse/opt/anaconda3/lib/python3.7/site-packages/sklearn/model_selection/_validation.py:552: FitFailedWarning: Estimator fit failed. The score on this train-test partition for these parameters will be set to nan. Details: \n",
      "Traceback (most recent call last):\n",
      "  File \"/Users/paulsprouse/opt/anaconda3/lib/python3.7/site-packages/sklearn/model_selection/_validation.py\", line 531, in _fit_and_score\n",
      "    estimator.fit(X_train, y_train, **fit_params)\n",
      "  File \"/Users/paulsprouse/opt/anaconda3/lib/python3.7/site-packages/sklearn/ensemble/_forest.py\", line 351, in fit\n",
      "    raise ValueError(\"Out of bag estimation only available\"\n",
      "ValueError: Out of bag estimation only available if bootstrap=True\n",
      "\n",
      "  FitFailedWarning)\n",
      "/Users/paulsprouse/opt/anaconda3/lib/python3.7/site-packages/sklearn/model_selection/_validation.py:552: FitFailedWarning: Estimator fit failed. The score on this train-test partition for these parameters will be set to nan. Details: \n",
      "Traceback (most recent call last):\n",
      "  File \"/Users/paulsprouse/opt/anaconda3/lib/python3.7/site-packages/sklearn/model_selection/_validation.py\", line 531, in _fit_and_score\n",
      "    estimator.fit(X_train, y_train, **fit_params)\n",
      "  File \"/Users/paulsprouse/opt/anaconda3/lib/python3.7/site-packages/sklearn/ensemble/_forest.py\", line 351, in fit\n",
      "    raise ValueError(\"Out of bag estimation only available\"\n",
      "ValueError: Out of bag estimation only available if bootstrap=True\n",
      "\n",
      "  FitFailedWarning)\n",
      "/Users/paulsprouse/opt/anaconda3/lib/python3.7/site-packages/sklearn/model_selection/_validation.py:552: FitFailedWarning: Estimator fit failed. The score on this train-test partition for these parameters will be set to nan. Details: \n",
      "Traceback (most recent call last):\n",
      "  File \"/Users/paulsprouse/opt/anaconda3/lib/python3.7/site-packages/sklearn/model_selection/_validation.py\", line 531, in _fit_and_score\n",
      "    estimator.fit(X_train, y_train, **fit_params)\n",
      "  File \"/Users/paulsprouse/opt/anaconda3/lib/python3.7/site-packages/sklearn/ensemble/_forest.py\", line 351, in fit\n",
      "    raise ValueError(\"Out of bag estimation only available\"\n",
      "ValueError: Out of bag estimation only available if bootstrap=True\n",
      "\n",
      "  FitFailedWarning)\n",
      "/Users/paulsprouse/opt/anaconda3/lib/python3.7/site-packages/sklearn/model_selection/_validation.py:552: FitFailedWarning: Estimator fit failed. The score on this train-test partition for these parameters will be set to nan. Details: \n",
      "Traceback (most recent call last):\n",
      "  File \"/Users/paulsprouse/opt/anaconda3/lib/python3.7/site-packages/sklearn/model_selection/_validation.py\", line 531, in _fit_and_score\n",
      "    estimator.fit(X_train, y_train, **fit_params)\n",
      "  File \"/Users/paulsprouse/opt/anaconda3/lib/python3.7/site-packages/sklearn/ensemble/_forest.py\", line 351, in fit\n",
      "    raise ValueError(\"Out of bag estimation only available\"\n",
      "ValueError: Out of bag estimation only available if bootstrap=True\n",
      "\n",
      "  FitFailedWarning)\n",
      "/Users/paulsprouse/opt/anaconda3/lib/python3.7/site-packages/sklearn/model_selection/_validation.py:552: FitFailedWarning: Estimator fit failed. The score on this train-test partition for these parameters will be set to nan. Details: \n",
      "Traceback (most recent call last):\n",
      "  File \"/Users/paulsprouse/opt/anaconda3/lib/python3.7/site-packages/sklearn/model_selection/_validation.py\", line 531, in _fit_and_score\n",
      "    estimator.fit(X_train, y_train, **fit_params)\n",
      "  File \"/Users/paulsprouse/opt/anaconda3/lib/python3.7/site-packages/sklearn/ensemble/_forest.py\", line 351, in fit\n",
      "    raise ValueError(\"Out of bag estimation only available\"\n",
      "ValueError: Out of bag estimation only available if bootstrap=True\n",
      "\n",
      "  FitFailedWarning)\n",
      "/Users/paulsprouse/opt/anaconda3/lib/python3.7/site-packages/sklearn/model_selection/_validation.py:552: FitFailedWarning: Estimator fit failed. The score on this train-test partition for these parameters will be set to nan. Details: \n",
      "Traceback (most recent call last):\n",
      "  File \"/Users/paulsprouse/opt/anaconda3/lib/python3.7/site-packages/sklearn/model_selection/_validation.py\", line 531, in _fit_and_score\n",
      "    estimator.fit(X_train, y_train, **fit_params)\n",
      "  File \"/Users/paulsprouse/opt/anaconda3/lib/python3.7/site-packages/sklearn/ensemble/_forest.py\", line 351, in fit\n",
      "    raise ValueError(\"Out of bag estimation only available\"\n",
      "ValueError: Out of bag estimation only available if bootstrap=True\n",
      "\n",
      "  FitFailedWarning)\n",
      "/Users/paulsprouse/opt/anaconda3/lib/python3.7/site-packages/sklearn/model_selection/_validation.py:552: FitFailedWarning: Estimator fit failed. The score on this train-test partition for these parameters will be set to nan. Details: \n",
      "Traceback (most recent call last):\n",
      "  File \"/Users/paulsprouse/opt/anaconda3/lib/python3.7/site-packages/sklearn/model_selection/_validation.py\", line 531, in _fit_and_score\n",
      "    estimator.fit(X_train, y_train, **fit_params)\n",
      "  File \"/Users/paulsprouse/opt/anaconda3/lib/python3.7/site-packages/sklearn/ensemble/_forest.py\", line 351, in fit\n",
      "    raise ValueError(\"Out of bag estimation only available\"\n",
      "ValueError: Out of bag estimation only available if bootstrap=True\n",
      "\n",
      "  FitFailedWarning)\n",
      "/Users/paulsprouse/opt/anaconda3/lib/python3.7/site-packages/sklearn/model_selection/_validation.py:552: FitFailedWarning: Estimator fit failed. The score on this train-test partition for these parameters will be set to nan. Details: \n",
      "Traceback (most recent call last):\n",
      "  File \"/Users/paulsprouse/opt/anaconda3/lib/python3.7/site-packages/sklearn/model_selection/_validation.py\", line 531, in _fit_and_score\n",
      "    estimator.fit(X_train, y_train, **fit_params)\n",
      "  File \"/Users/paulsprouse/opt/anaconda3/lib/python3.7/site-packages/sklearn/ensemble/_forest.py\", line 351, in fit\n",
      "    raise ValueError(\"Out of bag estimation only available\"\n",
      "ValueError: Out of bag estimation only available if bootstrap=True\n",
      "\n",
      "  FitFailedWarning)\n",
      "/Users/paulsprouse/opt/anaconda3/lib/python3.7/site-packages/sklearn/model_selection/_validation.py:552: FitFailedWarning: Estimator fit failed. The score on this train-test partition for these parameters will be set to nan. Details: \n",
      "Traceback (most recent call last):\n",
      "  File \"/Users/paulsprouse/opt/anaconda3/lib/python3.7/site-packages/sklearn/model_selection/_validation.py\", line 531, in _fit_and_score\n",
      "    estimator.fit(X_train, y_train, **fit_params)\n",
      "  File \"/Users/paulsprouse/opt/anaconda3/lib/python3.7/site-packages/sklearn/ensemble/_forest.py\", line 351, in fit\n",
      "    raise ValueError(\"Out of bag estimation only available\"\n",
      "ValueError: Out of bag estimation only available if bootstrap=True\n",
      "\n",
      "  FitFailedWarning)\n",
      "/Users/paulsprouse/opt/anaconda3/lib/python3.7/site-packages/sklearn/model_selection/_validation.py:552: FitFailedWarning: Estimator fit failed. The score on this train-test partition for these parameters will be set to nan. Details: \n",
      "Traceback (most recent call last):\n",
      "  File \"/Users/paulsprouse/opt/anaconda3/lib/python3.7/site-packages/sklearn/model_selection/_validation.py\", line 531, in _fit_and_score\n",
      "    estimator.fit(X_train, y_train, **fit_params)\n",
      "  File \"/Users/paulsprouse/opt/anaconda3/lib/python3.7/site-packages/sklearn/ensemble/_forest.py\", line 351, in fit\n",
      "    raise ValueError(\"Out of bag estimation only available\"\n",
      "ValueError: Out of bag estimation only available if bootstrap=True\n",
      "\n",
      "  FitFailedWarning)\n",
      "/Users/paulsprouse/opt/anaconda3/lib/python3.7/site-packages/sklearn/model_selection/_validation.py:552: FitFailedWarning: Estimator fit failed. The score on this train-test partition for these parameters will be set to nan. Details: \n",
      "Traceback (most recent call last):\n",
      "  File \"/Users/paulsprouse/opt/anaconda3/lib/python3.7/site-packages/sklearn/model_selection/_validation.py\", line 531, in _fit_and_score\n",
      "    estimator.fit(X_train, y_train, **fit_params)\n",
      "  File \"/Users/paulsprouse/opt/anaconda3/lib/python3.7/site-packages/sklearn/ensemble/_forest.py\", line 351, in fit\n",
      "    raise ValueError(\"Out of bag estimation only available\"\n",
      "ValueError: Out of bag estimation only available if bootstrap=True\n",
      "\n",
      "  FitFailedWarning)\n",
      "/Users/paulsprouse/opt/anaconda3/lib/python3.7/site-packages/sklearn/model_selection/_validation.py:552: FitFailedWarning: Estimator fit failed. The score on this train-test partition for these parameters will be set to nan. Details: \n",
      "Traceback (most recent call last):\n",
      "  File \"/Users/paulsprouse/opt/anaconda3/lib/python3.7/site-packages/sklearn/model_selection/_validation.py\", line 531, in _fit_and_score\n",
      "    estimator.fit(X_train, y_train, **fit_params)\n",
      "  File \"/Users/paulsprouse/opt/anaconda3/lib/python3.7/site-packages/sklearn/ensemble/_forest.py\", line 351, in fit\n",
      "    raise ValueError(\"Out of bag estimation only available\"\n",
      "ValueError: Out of bag estimation only available if bootstrap=True\n",
      "\n",
      "  FitFailedWarning)\n",
      "/Users/paulsprouse/opt/anaconda3/lib/python3.7/site-packages/sklearn/model_selection/_validation.py:552: FitFailedWarning: Estimator fit failed. The score on this train-test partition for these parameters will be set to nan. Details: \n",
      "Traceback (most recent call last):\n",
      "  File \"/Users/paulsprouse/opt/anaconda3/lib/python3.7/site-packages/sklearn/model_selection/_validation.py\", line 531, in _fit_and_score\n",
      "    estimator.fit(X_train, y_train, **fit_params)\n",
      "  File \"/Users/paulsprouse/opt/anaconda3/lib/python3.7/site-packages/sklearn/ensemble/_forest.py\", line 351, in fit\n",
      "    raise ValueError(\"Out of bag estimation only available\"\n",
      "ValueError: Out of bag estimation only available if bootstrap=True\n",
      "\n",
      "  FitFailedWarning)\n"
     ]
    },
    {
     "name": "stderr",
     "output_type": "stream",
     "text": [
      "/Users/paulsprouse/opt/anaconda3/lib/python3.7/site-packages/sklearn/model_selection/_validation.py:552: FitFailedWarning: Estimator fit failed. The score on this train-test partition for these parameters will be set to nan. Details: \n",
      "Traceback (most recent call last):\n",
      "  File \"/Users/paulsprouse/opt/anaconda3/lib/python3.7/site-packages/sklearn/model_selection/_validation.py\", line 531, in _fit_and_score\n",
      "    estimator.fit(X_train, y_train, **fit_params)\n",
      "  File \"/Users/paulsprouse/opt/anaconda3/lib/python3.7/site-packages/sklearn/ensemble/_forest.py\", line 351, in fit\n",
      "    raise ValueError(\"Out of bag estimation only available\"\n",
      "ValueError: Out of bag estimation only available if bootstrap=True\n",
      "\n",
      "  FitFailedWarning)\n",
      "/Users/paulsprouse/opt/anaconda3/lib/python3.7/site-packages/sklearn/model_selection/_validation.py:552: FitFailedWarning: Estimator fit failed. The score on this train-test partition for these parameters will be set to nan. Details: \n",
      "Traceback (most recent call last):\n",
      "  File \"/Users/paulsprouse/opt/anaconda3/lib/python3.7/site-packages/sklearn/model_selection/_validation.py\", line 531, in _fit_and_score\n",
      "    estimator.fit(X_train, y_train, **fit_params)\n",
      "  File \"/Users/paulsprouse/opt/anaconda3/lib/python3.7/site-packages/sklearn/ensemble/_forest.py\", line 351, in fit\n",
      "    raise ValueError(\"Out of bag estimation only available\"\n",
      "ValueError: Out of bag estimation only available if bootstrap=True\n",
      "\n",
      "  FitFailedWarning)\n",
      "/Users/paulsprouse/opt/anaconda3/lib/python3.7/site-packages/sklearn/model_selection/_validation.py:552: FitFailedWarning: Estimator fit failed. The score on this train-test partition for these parameters will be set to nan. Details: \n",
      "Traceback (most recent call last):\n",
      "  File \"/Users/paulsprouse/opt/anaconda3/lib/python3.7/site-packages/sklearn/model_selection/_validation.py\", line 531, in _fit_and_score\n",
      "    estimator.fit(X_train, y_train, **fit_params)\n",
      "  File \"/Users/paulsprouse/opt/anaconda3/lib/python3.7/site-packages/sklearn/ensemble/_forest.py\", line 351, in fit\n",
      "    raise ValueError(\"Out of bag estimation only available\"\n",
      "ValueError: Out of bag estimation only available if bootstrap=True\n",
      "\n",
      "  FitFailedWarning)\n",
      "/Users/paulsprouse/opt/anaconda3/lib/python3.7/site-packages/sklearn/model_selection/_validation.py:552: FitFailedWarning: Estimator fit failed. The score on this train-test partition for these parameters will be set to nan. Details: \n",
      "Traceback (most recent call last):\n",
      "  File \"/Users/paulsprouse/opt/anaconda3/lib/python3.7/site-packages/sklearn/model_selection/_validation.py\", line 531, in _fit_and_score\n",
      "    estimator.fit(X_train, y_train, **fit_params)\n",
      "  File \"/Users/paulsprouse/opt/anaconda3/lib/python3.7/site-packages/sklearn/ensemble/_forest.py\", line 351, in fit\n",
      "    raise ValueError(\"Out of bag estimation only available\"\n",
      "ValueError: Out of bag estimation only available if bootstrap=True\n",
      "\n",
      "  FitFailedWarning)\n",
      "/Users/paulsprouse/opt/anaconda3/lib/python3.7/site-packages/sklearn/model_selection/_validation.py:552: FitFailedWarning: Estimator fit failed. The score on this train-test partition for these parameters will be set to nan. Details: \n",
      "Traceback (most recent call last):\n",
      "  File \"/Users/paulsprouse/opt/anaconda3/lib/python3.7/site-packages/sklearn/model_selection/_validation.py\", line 531, in _fit_and_score\n",
      "    estimator.fit(X_train, y_train, **fit_params)\n",
      "  File \"/Users/paulsprouse/opt/anaconda3/lib/python3.7/site-packages/sklearn/ensemble/_forest.py\", line 351, in fit\n",
      "    raise ValueError(\"Out of bag estimation only available\"\n",
      "ValueError: Out of bag estimation only available if bootstrap=True\n",
      "\n",
      "  FitFailedWarning)\n",
      "/Users/paulsprouse/opt/anaconda3/lib/python3.7/site-packages/sklearn/model_selection/_validation.py:552: FitFailedWarning: Estimator fit failed. The score on this train-test partition for these parameters will be set to nan. Details: \n",
      "Traceback (most recent call last):\n",
      "  File \"/Users/paulsprouse/opt/anaconda3/lib/python3.7/site-packages/sklearn/model_selection/_validation.py\", line 531, in _fit_and_score\n",
      "    estimator.fit(X_train, y_train, **fit_params)\n",
      "  File \"/Users/paulsprouse/opt/anaconda3/lib/python3.7/site-packages/sklearn/ensemble/_forest.py\", line 351, in fit\n",
      "    raise ValueError(\"Out of bag estimation only available\"\n",
      "ValueError: Out of bag estimation only available if bootstrap=True\n",
      "\n",
      "  FitFailedWarning)\n",
      "/Users/paulsprouse/opt/anaconda3/lib/python3.7/site-packages/sklearn/model_selection/_validation.py:552: FitFailedWarning: Estimator fit failed. The score on this train-test partition for these parameters will be set to nan. Details: \n",
      "Traceback (most recent call last):\n",
      "  File \"/Users/paulsprouse/opt/anaconda3/lib/python3.7/site-packages/sklearn/model_selection/_validation.py\", line 531, in _fit_and_score\n",
      "    estimator.fit(X_train, y_train, **fit_params)\n",
      "  File \"/Users/paulsprouse/opt/anaconda3/lib/python3.7/site-packages/sklearn/ensemble/_forest.py\", line 351, in fit\n",
      "    raise ValueError(\"Out of bag estimation only available\"\n",
      "ValueError: Out of bag estimation only available if bootstrap=True\n",
      "\n",
      "  FitFailedWarning)\n",
      "/Users/paulsprouse/opt/anaconda3/lib/python3.7/site-packages/sklearn/model_selection/_validation.py:552: FitFailedWarning: Estimator fit failed. The score on this train-test partition for these parameters will be set to nan. Details: \n",
      "Traceback (most recent call last):\n",
      "  File \"/Users/paulsprouse/opt/anaconda3/lib/python3.7/site-packages/sklearn/model_selection/_validation.py\", line 531, in _fit_and_score\n",
      "    estimator.fit(X_train, y_train, **fit_params)\n",
      "  File \"/Users/paulsprouse/opt/anaconda3/lib/python3.7/site-packages/sklearn/ensemble/_forest.py\", line 351, in fit\n",
      "    raise ValueError(\"Out of bag estimation only available\"\n",
      "ValueError: Out of bag estimation only available if bootstrap=True\n",
      "\n",
      "  FitFailedWarning)\n",
      "/Users/paulsprouse/opt/anaconda3/lib/python3.7/site-packages/sklearn/model_selection/_validation.py:552: FitFailedWarning: Estimator fit failed. The score on this train-test partition for these parameters will be set to nan. Details: \n",
      "Traceback (most recent call last):\n",
      "  File \"/Users/paulsprouse/opt/anaconda3/lib/python3.7/site-packages/sklearn/model_selection/_validation.py\", line 531, in _fit_and_score\n",
      "    estimator.fit(X_train, y_train, **fit_params)\n",
      "  File \"/Users/paulsprouse/opt/anaconda3/lib/python3.7/site-packages/sklearn/ensemble/_forest.py\", line 351, in fit\n",
      "    raise ValueError(\"Out of bag estimation only available\"\n",
      "ValueError: Out of bag estimation only available if bootstrap=True\n",
      "\n",
      "  FitFailedWarning)\n",
      "/Users/paulsprouse/opt/anaconda3/lib/python3.7/site-packages/sklearn/model_selection/_validation.py:552: FitFailedWarning: Estimator fit failed. The score on this train-test partition for these parameters will be set to nan. Details: \n",
      "Traceback (most recent call last):\n",
      "  File \"/Users/paulsprouse/opt/anaconda3/lib/python3.7/site-packages/sklearn/model_selection/_validation.py\", line 531, in _fit_and_score\n",
      "    estimator.fit(X_train, y_train, **fit_params)\n",
      "  File \"/Users/paulsprouse/opt/anaconda3/lib/python3.7/site-packages/sklearn/ensemble/_forest.py\", line 351, in fit\n",
      "    raise ValueError(\"Out of bag estimation only available\"\n",
      "ValueError: Out of bag estimation only available if bootstrap=True\n",
      "\n",
      "  FitFailedWarning)\n",
      "/Users/paulsprouse/opt/anaconda3/lib/python3.7/site-packages/sklearn/model_selection/_validation.py:552: FitFailedWarning: Estimator fit failed. The score on this train-test partition for these parameters will be set to nan. Details: \n",
      "Traceback (most recent call last):\n",
      "  File \"/Users/paulsprouse/opt/anaconda3/lib/python3.7/site-packages/sklearn/model_selection/_validation.py\", line 531, in _fit_and_score\n",
      "    estimator.fit(X_train, y_train, **fit_params)\n",
      "  File \"/Users/paulsprouse/opt/anaconda3/lib/python3.7/site-packages/sklearn/ensemble/_forest.py\", line 351, in fit\n",
      "    raise ValueError(\"Out of bag estimation only available\"\n",
      "ValueError: Out of bag estimation only available if bootstrap=True\n",
      "\n",
      "  FitFailedWarning)\n",
      "/Users/paulsprouse/opt/anaconda3/lib/python3.7/site-packages/sklearn/model_selection/_validation.py:552: FitFailedWarning: Estimator fit failed. The score on this train-test partition for these parameters will be set to nan. Details: \n",
      "Traceback (most recent call last):\n",
      "  File \"/Users/paulsprouse/opt/anaconda3/lib/python3.7/site-packages/sklearn/model_selection/_validation.py\", line 531, in _fit_and_score\n",
      "    estimator.fit(X_train, y_train, **fit_params)\n",
      "  File \"/Users/paulsprouse/opt/anaconda3/lib/python3.7/site-packages/sklearn/ensemble/_forest.py\", line 351, in fit\n",
      "    raise ValueError(\"Out of bag estimation only available\"\n",
      "ValueError: Out of bag estimation only available if bootstrap=True\n",
      "\n",
      "  FitFailedWarning)\n"
     ]
    },
    {
     "name": "stderr",
     "output_type": "stream",
     "text": [
      "/Users/paulsprouse/opt/anaconda3/lib/python3.7/site-packages/sklearn/model_selection/_validation.py:552: FitFailedWarning: Estimator fit failed. The score on this train-test partition for these parameters will be set to nan. Details: \n",
      "Traceback (most recent call last):\n",
      "  File \"/Users/paulsprouse/opt/anaconda3/lib/python3.7/site-packages/sklearn/model_selection/_validation.py\", line 531, in _fit_and_score\n",
      "    estimator.fit(X_train, y_train, **fit_params)\n",
      "  File \"/Users/paulsprouse/opt/anaconda3/lib/python3.7/site-packages/sklearn/ensemble/_forest.py\", line 351, in fit\n",
      "    raise ValueError(\"Out of bag estimation only available\"\n",
      "ValueError: Out of bag estimation only available if bootstrap=True\n",
      "\n",
      "  FitFailedWarning)\n",
      "/Users/paulsprouse/opt/anaconda3/lib/python3.7/site-packages/sklearn/model_selection/_validation.py:552: FitFailedWarning: Estimator fit failed. The score on this train-test partition for these parameters will be set to nan. Details: \n",
      "Traceback (most recent call last):\n",
      "  File \"/Users/paulsprouse/opt/anaconda3/lib/python3.7/site-packages/sklearn/model_selection/_validation.py\", line 531, in _fit_and_score\n",
      "    estimator.fit(X_train, y_train, **fit_params)\n",
      "  File \"/Users/paulsprouse/opt/anaconda3/lib/python3.7/site-packages/sklearn/ensemble/_forest.py\", line 351, in fit\n",
      "    raise ValueError(\"Out of bag estimation only available\"\n",
      "ValueError: Out of bag estimation only available if bootstrap=True\n",
      "\n",
      "  FitFailedWarning)\n",
      "/Users/paulsprouse/opt/anaconda3/lib/python3.7/site-packages/sklearn/model_selection/_validation.py:552: FitFailedWarning: Estimator fit failed. The score on this train-test partition for these parameters will be set to nan. Details: \n",
      "Traceback (most recent call last):\n",
      "  File \"/Users/paulsprouse/opt/anaconda3/lib/python3.7/site-packages/sklearn/model_selection/_validation.py\", line 531, in _fit_and_score\n",
      "    estimator.fit(X_train, y_train, **fit_params)\n",
      "  File \"/Users/paulsprouse/opt/anaconda3/lib/python3.7/site-packages/sklearn/ensemble/_forest.py\", line 351, in fit\n",
      "    raise ValueError(\"Out of bag estimation only available\"\n",
      "ValueError: Out of bag estimation only available if bootstrap=True\n",
      "\n",
      "  FitFailedWarning)\n",
      "/Users/paulsprouse/opt/anaconda3/lib/python3.7/site-packages/sklearn/model_selection/_validation.py:552: FitFailedWarning: Estimator fit failed. The score on this train-test partition for these parameters will be set to nan. Details: \n",
      "Traceback (most recent call last):\n",
      "  File \"/Users/paulsprouse/opt/anaconda3/lib/python3.7/site-packages/sklearn/model_selection/_validation.py\", line 531, in _fit_and_score\n",
      "    estimator.fit(X_train, y_train, **fit_params)\n",
      "  File \"/Users/paulsprouse/opt/anaconda3/lib/python3.7/site-packages/sklearn/ensemble/_forest.py\", line 351, in fit\n",
      "    raise ValueError(\"Out of bag estimation only available\"\n",
      "ValueError: Out of bag estimation only available if bootstrap=True\n",
      "\n",
      "  FitFailedWarning)\n",
      "/Users/paulsprouse/opt/anaconda3/lib/python3.7/site-packages/sklearn/model_selection/_validation.py:552: FitFailedWarning: Estimator fit failed. The score on this train-test partition for these parameters will be set to nan. Details: \n",
      "Traceback (most recent call last):\n",
      "  File \"/Users/paulsprouse/opt/anaconda3/lib/python3.7/site-packages/sklearn/model_selection/_validation.py\", line 531, in _fit_and_score\n",
      "    estimator.fit(X_train, y_train, **fit_params)\n",
      "  File \"/Users/paulsprouse/opt/anaconda3/lib/python3.7/site-packages/sklearn/ensemble/_forest.py\", line 351, in fit\n",
      "    raise ValueError(\"Out of bag estimation only available\"\n",
      "ValueError: Out of bag estimation only available if bootstrap=True\n",
      "\n",
      "  FitFailedWarning)\n",
      "/Users/paulsprouse/opt/anaconda3/lib/python3.7/site-packages/sklearn/model_selection/_validation.py:552: FitFailedWarning: Estimator fit failed. The score on this train-test partition for these parameters will be set to nan. Details: \n",
      "Traceback (most recent call last):\n",
      "  File \"/Users/paulsprouse/opt/anaconda3/lib/python3.7/site-packages/sklearn/model_selection/_validation.py\", line 531, in _fit_and_score\n",
      "    estimator.fit(X_train, y_train, **fit_params)\n",
      "  File \"/Users/paulsprouse/opt/anaconda3/lib/python3.7/site-packages/sklearn/ensemble/_forest.py\", line 351, in fit\n",
      "    raise ValueError(\"Out of bag estimation only available\"\n",
      "ValueError: Out of bag estimation only available if bootstrap=True\n",
      "\n",
      "  FitFailedWarning)\n",
      "/Users/paulsprouse/opt/anaconda3/lib/python3.7/site-packages/sklearn/model_selection/_validation.py:552: FitFailedWarning: Estimator fit failed. The score on this train-test partition for these parameters will be set to nan. Details: \n",
      "Traceback (most recent call last):\n",
      "  File \"/Users/paulsprouse/opt/anaconda3/lib/python3.7/site-packages/sklearn/model_selection/_validation.py\", line 531, in _fit_and_score\n",
      "    estimator.fit(X_train, y_train, **fit_params)\n",
      "  File \"/Users/paulsprouse/opt/anaconda3/lib/python3.7/site-packages/sklearn/ensemble/_forest.py\", line 351, in fit\n",
      "    raise ValueError(\"Out of bag estimation only available\"\n",
      "ValueError: Out of bag estimation only available if bootstrap=True\n",
      "\n",
      "  FitFailedWarning)\n",
      "/Users/paulsprouse/opt/anaconda3/lib/python3.7/site-packages/sklearn/model_selection/_validation.py:552: FitFailedWarning: Estimator fit failed. The score on this train-test partition for these parameters will be set to nan. Details: \n",
      "Traceback (most recent call last):\n",
      "  File \"/Users/paulsprouse/opt/anaconda3/lib/python3.7/site-packages/sklearn/model_selection/_validation.py\", line 531, in _fit_and_score\n",
      "    estimator.fit(X_train, y_train, **fit_params)\n",
      "  File \"/Users/paulsprouse/opt/anaconda3/lib/python3.7/site-packages/sklearn/ensemble/_forest.py\", line 351, in fit\n",
      "    raise ValueError(\"Out of bag estimation only available\"\n",
      "ValueError: Out of bag estimation only available if bootstrap=True\n",
      "\n",
      "  FitFailedWarning)\n",
      "/Users/paulsprouse/opt/anaconda3/lib/python3.7/site-packages/sklearn/model_selection/_validation.py:552: FitFailedWarning: Estimator fit failed. The score on this train-test partition for these parameters will be set to nan. Details: \n",
      "Traceback (most recent call last):\n",
      "  File \"/Users/paulsprouse/opt/anaconda3/lib/python3.7/site-packages/sklearn/model_selection/_validation.py\", line 531, in _fit_and_score\n",
      "    estimator.fit(X_train, y_train, **fit_params)\n",
      "  File \"/Users/paulsprouse/opt/anaconda3/lib/python3.7/site-packages/sklearn/ensemble/_forest.py\", line 351, in fit\n",
      "    raise ValueError(\"Out of bag estimation only available\"\n",
      "ValueError: Out of bag estimation only available if bootstrap=True\n",
      "\n",
      "  FitFailedWarning)\n",
      "/Users/paulsprouse/opt/anaconda3/lib/python3.7/site-packages/sklearn/model_selection/_validation.py:552: FitFailedWarning: Estimator fit failed. The score on this train-test partition for these parameters will be set to nan. Details: \n",
      "Traceback (most recent call last):\n",
      "  File \"/Users/paulsprouse/opt/anaconda3/lib/python3.7/site-packages/sklearn/model_selection/_validation.py\", line 531, in _fit_and_score\n",
      "    estimator.fit(X_train, y_train, **fit_params)\n",
      "  File \"/Users/paulsprouse/opt/anaconda3/lib/python3.7/site-packages/sklearn/ensemble/_forest.py\", line 351, in fit\n",
      "    raise ValueError(\"Out of bag estimation only available\"\n",
      "ValueError: Out of bag estimation only available if bootstrap=True\n",
      "\n",
      "  FitFailedWarning)\n",
      "/Users/paulsprouse/opt/anaconda3/lib/python3.7/site-packages/sklearn/model_selection/_validation.py:552: FitFailedWarning: Estimator fit failed. The score on this train-test partition for these parameters will be set to nan. Details: \n",
      "Traceback (most recent call last):\n",
      "  File \"/Users/paulsprouse/opt/anaconda3/lib/python3.7/site-packages/sklearn/model_selection/_validation.py\", line 531, in _fit_and_score\n",
      "    estimator.fit(X_train, y_train, **fit_params)\n",
      "  File \"/Users/paulsprouse/opt/anaconda3/lib/python3.7/site-packages/sklearn/ensemble/_forest.py\", line 351, in fit\n",
      "    raise ValueError(\"Out of bag estimation only available\"\n",
      "ValueError: Out of bag estimation only available if bootstrap=True\n",
      "\n",
      "  FitFailedWarning)\n",
      "/Users/paulsprouse/opt/anaconda3/lib/python3.7/site-packages/sklearn/model_selection/_validation.py:552: FitFailedWarning: Estimator fit failed. The score on this train-test partition for these parameters will be set to nan. Details: \n",
      "Traceback (most recent call last):\n",
      "  File \"/Users/paulsprouse/opt/anaconda3/lib/python3.7/site-packages/sklearn/model_selection/_validation.py\", line 531, in _fit_and_score\n",
      "    estimator.fit(X_train, y_train, **fit_params)\n",
      "  File \"/Users/paulsprouse/opt/anaconda3/lib/python3.7/site-packages/sklearn/ensemble/_forest.py\", line 351, in fit\n",
      "    raise ValueError(\"Out of bag estimation only available\"\n",
      "ValueError: Out of bag estimation only available if bootstrap=True\n",
      "\n",
      "  FitFailedWarning)\n"
     ]
    },
    {
     "name": "stderr",
     "output_type": "stream",
     "text": [
      "/Users/paulsprouse/opt/anaconda3/lib/python3.7/site-packages/sklearn/model_selection/_validation.py:552: FitFailedWarning: Estimator fit failed. The score on this train-test partition for these parameters will be set to nan. Details: \n",
      "Traceback (most recent call last):\n",
      "  File \"/Users/paulsprouse/opt/anaconda3/lib/python3.7/site-packages/sklearn/model_selection/_validation.py\", line 531, in _fit_and_score\n",
      "    estimator.fit(X_train, y_train, **fit_params)\n",
      "  File \"/Users/paulsprouse/opt/anaconda3/lib/python3.7/site-packages/sklearn/ensemble/_forest.py\", line 351, in fit\n",
      "    raise ValueError(\"Out of bag estimation only available\"\n",
      "ValueError: Out of bag estimation only available if bootstrap=True\n",
      "\n",
      "  FitFailedWarning)\n",
      "/Users/paulsprouse/opt/anaconda3/lib/python3.7/site-packages/sklearn/model_selection/_validation.py:552: FitFailedWarning: Estimator fit failed. The score on this train-test partition for these parameters will be set to nan. Details: \n",
      "Traceback (most recent call last):\n",
      "  File \"/Users/paulsprouse/opt/anaconda3/lib/python3.7/site-packages/sklearn/model_selection/_validation.py\", line 531, in _fit_and_score\n",
      "    estimator.fit(X_train, y_train, **fit_params)\n",
      "  File \"/Users/paulsprouse/opt/anaconda3/lib/python3.7/site-packages/sklearn/ensemble/_forest.py\", line 351, in fit\n",
      "    raise ValueError(\"Out of bag estimation only available\"\n",
      "ValueError: Out of bag estimation only available if bootstrap=True\n",
      "\n",
      "  FitFailedWarning)\n",
      "/Users/paulsprouse/opt/anaconda3/lib/python3.7/site-packages/sklearn/model_selection/_validation.py:552: FitFailedWarning: Estimator fit failed. The score on this train-test partition for these parameters will be set to nan. Details: \n",
      "Traceback (most recent call last):\n",
      "  File \"/Users/paulsprouse/opt/anaconda3/lib/python3.7/site-packages/sklearn/model_selection/_validation.py\", line 531, in _fit_and_score\n",
      "    estimator.fit(X_train, y_train, **fit_params)\n",
      "  File \"/Users/paulsprouse/opt/anaconda3/lib/python3.7/site-packages/sklearn/ensemble/_forest.py\", line 351, in fit\n",
      "    raise ValueError(\"Out of bag estimation only available\"\n",
      "ValueError: Out of bag estimation only available if bootstrap=True\n",
      "\n",
      "  FitFailedWarning)\n",
      "/Users/paulsprouse/opt/anaconda3/lib/python3.7/site-packages/sklearn/model_selection/_validation.py:552: FitFailedWarning: Estimator fit failed. The score on this train-test partition for these parameters will be set to nan. Details: \n",
      "Traceback (most recent call last):\n",
      "  File \"/Users/paulsprouse/opt/anaconda3/lib/python3.7/site-packages/sklearn/model_selection/_validation.py\", line 531, in _fit_and_score\n",
      "    estimator.fit(X_train, y_train, **fit_params)\n",
      "  File \"/Users/paulsprouse/opt/anaconda3/lib/python3.7/site-packages/sklearn/ensemble/_forest.py\", line 351, in fit\n",
      "    raise ValueError(\"Out of bag estimation only available\"\n",
      "ValueError: Out of bag estimation only available if bootstrap=True\n",
      "\n",
      "  FitFailedWarning)\n",
      "/Users/paulsprouse/opt/anaconda3/lib/python3.7/site-packages/sklearn/model_selection/_validation.py:552: FitFailedWarning: Estimator fit failed. The score on this train-test partition for these parameters will be set to nan. Details: \n",
      "Traceback (most recent call last):\n",
      "  File \"/Users/paulsprouse/opt/anaconda3/lib/python3.7/site-packages/sklearn/model_selection/_validation.py\", line 531, in _fit_and_score\n",
      "    estimator.fit(X_train, y_train, **fit_params)\n",
      "  File \"/Users/paulsprouse/opt/anaconda3/lib/python3.7/site-packages/sklearn/ensemble/_forest.py\", line 351, in fit\n",
      "    raise ValueError(\"Out of bag estimation only available\"\n",
      "ValueError: Out of bag estimation only available if bootstrap=True\n",
      "\n",
      "  FitFailedWarning)\n",
      "/Users/paulsprouse/opt/anaconda3/lib/python3.7/site-packages/sklearn/model_selection/_validation.py:552: FitFailedWarning: Estimator fit failed. The score on this train-test partition for these parameters will be set to nan. Details: \n",
      "Traceback (most recent call last):\n",
      "  File \"/Users/paulsprouse/opt/anaconda3/lib/python3.7/site-packages/sklearn/model_selection/_validation.py\", line 531, in _fit_and_score\n",
      "    estimator.fit(X_train, y_train, **fit_params)\n",
      "  File \"/Users/paulsprouse/opt/anaconda3/lib/python3.7/site-packages/sklearn/ensemble/_forest.py\", line 351, in fit\n",
      "    raise ValueError(\"Out of bag estimation only available\"\n",
      "ValueError: Out of bag estimation only available if bootstrap=True\n",
      "\n",
      "  FitFailedWarning)\n",
      "/Users/paulsprouse/opt/anaconda3/lib/python3.7/site-packages/sklearn/model_selection/_validation.py:552: FitFailedWarning: Estimator fit failed. The score on this train-test partition for these parameters will be set to nan. Details: \n",
      "Traceback (most recent call last):\n",
      "  File \"/Users/paulsprouse/opt/anaconda3/lib/python3.7/site-packages/sklearn/model_selection/_validation.py\", line 531, in _fit_and_score\n",
      "    estimator.fit(X_train, y_train, **fit_params)\n",
      "  File \"/Users/paulsprouse/opt/anaconda3/lib/python3.7/site-packages/sklearn/ensemble/_forest.py\", line 351, in fit\n",
      "    raise ValueError(\"Out of bag estimation only available\"\n",
      "ValueError: Out of bag estimation only available if bootstrap=True\n",
      "\n",
      "  FitFailedWarning)\n",
      "/Users/paulsprouse/opt/anaconda3/lib/python3.7/site-packages/sklearn/model_selection/_validation.py:552: FitFailedWarning: Estimator fit failed. The score on this train-test partition for these parameters will be set to nan. Details: \n",
      "Traceback (most recent call last):\n",
      "  File \"/Users/paulsprouse/opt/anaconda3/lib/python3.7/site-packages/sklearn/model_selection/_validation.py\", line 531, in _fit_and_score\n",
      "    estimator.fit(X_train, y_train, **fit_params)\n",
      "  File \"/Users/paulsprouse/opt/anaconda3/lib/python3.7/site-packages/sklearn/ensemble/_forest.py\", line 351, in fit\n",
      "    raise ValueError(\"Out of bag estimation only available\"\n",
      "ValueError: Out of bag estimation only available if bootstrap=True\n",
      "\n",
      "  FitFailedWarning)\n",
      "/Users/paulsprouse/opt/anaconda3/lib/python3.7/site-packages/sklearn/model_selection/_validation.py:552: FitFailedWarning: Estimator fit failed. The score on this train-test partition for these parameters will be set to nan. Details: \n",
      "Traceback (most recent call last):\n",
      "  File \"/Users/paulsprouse/opt/anaconda3/lib/python3.7/site-packages/sklearn/model_selection/_validation.py\", line 531, in _fit_and_score\n",
      "    estimator.fit(X_train, y_train, **fit_params)\n",
      "  File \"/Users/paulsprouse/opt/anaconda3/lib/python3.7/site-packages/sklearn/ensemble/_forest.py\", line 351, in fit\n",
      "    raise ValueError(\"Out of bag estimation only available\"\n",
      "ValueError: Out of bag estimation only available if bootstrap=True\n",
      "\n",
      "  FitFailedWarning)\n",
      "/Users/paulsprouse/opt/anaconda3/lib/python3.7/site-packages/sklearn/model_selection/_validation.py:552: FitFailedWarning: Estimator fit failed. The score on this train-test partition for these parameters will be set to nan. Details: \n",
      "Traceback (most recent call last):\n",
      "  File \"/Users/paulsprouse/opt/anaconda3/lib/python3.7/site-packages/sklearn/model_selection/_validation.py\", line 531, in _fit_and_score\n",
      "    estimator.fit(X_train, y_train, **fit_params)\n",
      "  File \"/Users/paulsprouse/opt/anaconda3/lib/python3.7/site-packages/sklearn/ensemble/_forest.py\", line 351, in fit\n",
      "    raise ValueError(\"Out of bag estimation only available\"\n",
      "ValueError: Out of bag estimation only available if bootstrap=True\n",
      "\n",
      "  FitFailedWarning)\n",
      "/Users/paulsprouse/opt/anaconda3/lib/python3.7/site-packages/sklearn/model_selection/_validation.py:552: FitFailedWarning: Estimator fit failed. The score on this train-test partition for these parameters will be set to nan. Details: \n",
      "Traceback (most recent call last):\n",
      "  File \"/Users/paulsprouse/opt/anaconda3/lib/python3.7/site-packages/sklearn/model_selection/_validation.py\", line 531, in _fit_and_score\n",
      "    estimator.fit(X_train, y_train, **fit_params)\n",
      "  File \"/Users/paulsprouse/opt/anaconda3/lib/python3.7/site-packages/sklearn/ensemble/_forest.py\", line 351, in fit\n",
      "    raise ValueError(\"Out of bag estimation only available\"\n",
      "ValueError: Out of bag estimation only available if bootstrap=True\n",
      "\n",
      "  FitFailedWarning)\n",
      "/Users/paulsprouse/opt/anaconda3/lib/python3.7/site-packages/sklearn/model_selection/_validation.py:552: FitFailedWarning: Estimator fit failed. The score on this train-test partition for these parameters will be set to nan. Details: \n",
      "Traceback (most recent call last):\n",
      "  File \"/Users/paulsprouse/opt/anaconda3/lib/python3.7/site-packages/sklearn/model_selection/_validation.py\", line 531, in _fit_and_score\n",
      "    estimator.fit(X_train, y_train, **fit_params)\n",
      "  File \"/Users/paulsprouse/opt/anaconda3/lib/python3.7/site-packages/sklearn/ensemble/_forest.py\", line 351, in fit\n",
      "    raise ValueError(\"Out of bag estimation only available\"\n",
      "ValueError: Out of bag estimation only available if bootstrap=True\n",
      "\n",
      "  FitFailedWarning)\n",
      "/Users/paulsprouse/opt/anaconda3/lib/python3.7/site-packages/sklearn/model_selection/_validation.py:552: FitFailedWarning: Estimator fit failed. The score on this train-test partition for these parameters will be set to nan. Details: \n",
      "Traceback (most recent call last):\n",
      "  File \"/Users/paulsprouse/opt/anaconda3/lib/python3.7/site-packages/sklearn/model_selection/_validation.py\", line 531, in _fit_and_score\n",
      "    estimator.fit(X_train, y_train, **fit_params)\n",
      "  File \"/Users/paulsprouse/opt/anaconda3/lib/python3.7/site-packages/sklearn/ensemble/_forest.py\", line 351, in fit\n",
      "    raise ValueError(\"Out of bag estimation only available\"\n",
      "ValueError: Out of bag estimation only available if bootstrap=True\n",
      "\n",
      "  FitFailedWarning)\n",
      "/Users/paulsprouse/opt/anaconda3/lib/python3.7/site-packages/sklearn/model_selection/_validation.py:552: FitFailedWarning: Estimator fit failed. The score on this train-test partition for these parameters will be set to nan. Details: \n",
      "Traceback (most recent call last):\n",
      "  File \"/Users/paulsprouse/opt/anaconda3/lib/python3.7/site-packages/sklearn/model_selection/_validation.py\", line 531, in _fit_and_score\n",
      "    estimator.fit(X_train, y_train, **fit_params)\n",
      "  File \"/Users/paulsprouse/opt/anaconda3/lib/python3.7/site-packages/sklearn/ensemble/_forest.py\", line 351, in fit\n",
      "    raise ValueError(\"Out of bag estimation only available\"\n",
      "ValueError: Out of bag estimation only available if bootstrap=True\n",
      "\n",
      "  FitFailedWarning)\n",
      "/Users/paulsprouse/opt/anaconda3/lib/python3.7/site-packages/sklearn/model_selection/_validation.py:552: FitFailedWarning: Estimator fit failed. The score on this train-test partition for these parameters will be set to nan. Details: \n",
      "Traceback (most recent call last):\n",
      "  File \"/Users/paulsprouse/opt/anaconda3/lib/python3.7/site-packages/sklearn/model_selection/_validation.py\", line 531, in _fit_and_score\n",
      "    estimator.fit(X_train, y_train, **fit_params)\n",
      "  File \"/Users/paulsprouse/opt/anaconda3/lib/python3.7/site-packages/sklearn/ensemble/_forest.py\", line 351, in fit\n",
      "    raise ValueError(\"Out of bag estimation only available\"\n",
      "ValueError: Out of bag estimation only available if bootstrap=True\n",
      "\n",
      "  FitFailedWarning)\n"
     ]
    },
    {
     "name": "stderr",
     "output_type": "stream",
     "text": [
      "/Users/paulsprouse/opt/anaconda3/lib/python3.7/site-packages/sklearn/model_selection/_validation.py:552: FitFailedWarning: Estimator fit failed. The score on this train-test partition for these parameters will be set to nan. Details: \n",
      "Traceback (most recent call last):\n",
      "  File \"/Users/paulsprouse/opt/anaconda3/lib/python3.7/site-packages/sklearn/model_selection/_validation.py\", line 531, in _fit_and_score\n",
      "    estimator.fit(X_train, y_train, **fit_params)\n",
      "  File \"/Users/paulsprouse/opt/anaconda3/lib/python3.7/site-packages/sklearn/ensemble/_forest.py\", line 351, in fit\n",
      "    raise ValueError(\"Out of bag estimation only available\"\n",
      "ValueError: Out of bag estimation only available if bootstrap=True\n",
      "\n",
      "  FitFailedWarning)\n",
      "/Users/paulsprouse/opt/anaconda3/lib/python3.7/site-packages/sklearn/model_selection/_validation.py:552: FitFailedWarning: Estimator fit failed. The score on this train-test partition for these parameters will be set to nan. Details: \n",
      "Traceback (most recent call last):\n",
      "  File \"/Users/paulsprouse/opt/anaconda3/lib/python3.7/site-packages/sklearn/model_selection/_validation.py\", line 531, in _fit_and_score\n",
      "    estimator.fit(X_train, y_train, **fit_params)\n",
      "  File \"/Users/paulsprouse/opt/anaconda3/lib/python3.7/site-packages/sklearn/ensemble/_forest.py\", line 351, in fit\n",
      "    raise ValueError(\"Out of bag estimation only available\"\n",
      "ValueError: Out of bag estimation only available if bootstrap=True\n",
      "\n",
      "  FitFailedWarning)\n",
      "/Users/paulsprouse/opt/anaconda3/lib/python3.7/site-packages/sklearn/model_selection/_validation.py:552: FitFailedWarning: Estimator fit failed. The score on this train-test partition for these parameters will be set to nan. Details: \n",
      "Traceback (most recent call last):\n",
      "  File \"/Users/paulsprouse/opt/anaconda3/lib/python3.7/site-packages/sklearn/model_selection/_validation.py\", line 531, in _fit_and_score\n",
      "    estimator.fit(X_train, y_train, **fit_params)\n",
      "  File \"/Users/paulsprouse/opt/anaconda3/lib/python3.7/site-packages/sklearn/ensemble/_forest.py\", line 351, in fit\n",
      "    raise ValueError(\"Out of bag estimation only available\"\n",
      "ValueError: Out of bag estimation only available if bootstrap=True\n",
      "\n",
      "  FitFailedWarning)\n",
      "/Users/paulsprouse/opt/anaconda3/lib/python3.7/site-packages/sklearn/model_selection/_validation.py:552: FitFailedWarning: Estimator fit failed. The score on this train-test partition for these parameters will be set to nan. Details: \n",
      "Traceback (most recent call last):\n",
      "  File \"/Users/paulsprouse/opt/anaconda3/lib/python3.7/site-packages/sklearn/model_selection/_validation.py\", line 531, in _fit_and_score\n",
      "    estimator.fit(X_train, y_train, **fit_params)\n",
      "  File \"/Users/paulsprouse/opt/anaconda3/lib/python3.7/site-packages/sklearn/ensemble/_forest.py\", line 351, in fit\n",
      "    raise ValueError(\"Out of bag estimation only available\"\n",
      "ValueError: Out of bag estimation only available if bootstrap=True\n",
      "\n",
      "  FitFailedWarning)\n",
      "/Users/paulsprouse/opt/anaconda3/lib/python3.7/site-packages/sklearn/model_selection/_validation.py:552: FitFailedWarning: Estimator fit failed. The score on this train-test partition for these parameters will be set to nan. Details: \n",
      "Traceback (most recent call last):\n",
      "  File \"/Users/paulsprouse/opt/anaconda3/lib/python3.7/site-packages/sklearn/model_selection/_validation.py\", line 531, in _fit_and_score\n",
      "    estimator.fit(X_train, y_train, **fit_params)\n",
      "  File \"/Users/paulsprouse/opt/anaconda3/lib/python3.7/site-packages/sklearn/ensemble/_forest.py\", line 351, in fit\n",
      "    raise ValueError(\"Out of bag estimation only available\"\n",
      "ValueError: Out of bag estimation only available if bootstrap=True\n",
      "\n",
      "  FitFailedWarning)\n",
      "/Users/paulsprouse/opt/anaconda3/lib/python3.7/site-packages/sklearn/model_selection/_validation.py:552: FitFailedWarning: Estimator fit failed. The score on this train-test partition for these parameters will be set to nan. Details: \n",
      "Traceback (most recent call last):\n",
      "  File \"/Users/paulsprouse/opt/anaconda3/lib/python3.7/site-packages/sklearn/model_selection/_validation.py\", line 531, in _fit_and_score\n",
      "    estimator.fit(X_train, y_train, **fit_params)\n",
      "  File \"/Users/paulsprouse/opt/anaconda3/lib/python3.7/site-packages/sklearn/ensemble/_forest.py\", line 351, in fit\n",
      "    raise ValueError(\"Out of bag estimation only available\"\n",
      "ValueError: Out of bag estimation only available if bootstrap=True\n",
      "\n",
      "  FitFailedWarning)\n",
      "/Users/paulsprouse/opt/anaconda3/lib/python3.7/site-packages/sklearn/model_selection/_validation.py:552: FitFailedWarning: Estimator fit failed. The score on this train-test partition for these parameters will be set to nan. Details: \n",
      "Traceback (most recent call last):\n",
      "  File \"/Users/paulsprouse/opt/anaconda3/lib/python3.7/site-packages/sklearn/model_selection/_validation.py\", line 531, in _fit_and_score\n",
      "    estimator.fit(X_train, y_train, **fit_params)\n",
      "  File \"/Users/paulsprouse/opt/anaconda3/lib/python3.7/site-packages/sklearn/ensemble/_forest.py\", line 351, in fit\n",
      "    raise ValueError(\"Out of bag estimation only available\"\n",
      "ValueError: Out of bag estimation only available if bootstrap=True\n",
      "\n",
      "  FitFailedWarning)\n",
      "/Users/paulsprouse/opt/anaconda3/lib/python3.7/site-packages/sklearn/model_selection/_validation.py:552: FitFailedWarning: Estimator fit failed. The score on this train-test partition for these parameters will be set to nan. Details: \n",
      "Traceback (most recent call last):\n",
      "  File \"/Users/paulsprouse/opt/anaconda3/lib/python3.7/site-packages/sklearn/model_selection/_validation.py\", line 531, in _fit_and_score\n",
      "    estimator.fit(X_train, y_train, **fit_params)\n",
      "  File \"/Users/paulsprouse/opt/anaconda3/lib/python3.7/site-packages/sklearn/ensemble/_forest.py\", line 351, in fit\n",
      "    raise ValueError(\"Out of bag estimation only available\"\n",
      "ValueError: Out of bag estimation only available if bootstrap=True\n",
      "\n",
      "  FitFailedWarning)\n",
      "/Users/paulsprouse/opt/anaconda3/lib/python3.7/site-packages/sklearn/model_selection/_validation.py:552: FitFailedWarning: Estimator fit failed. The score on this train-test partition for these parameters will be set to nan. Details: \n",
      "Traceback (most recent call last):\n",
      "  File \"/Users/paulsprouse/opt/anaconda3/lib/python3.7/site-packages/sklearn/model_selection/_validation.py\", line 531, in _fit_and_score\n",
      "    estimator.fit(X_train, y_train, **fit_params)\n",
      "  File \"/Users/paulsprouse/opt/anaconda3/lib/python3.7/site-packages/sklearn/ensemble/_forest.py\", line 351, in fit\n",
      "    raise ValueError(\"Out of bag estimation only available\"\n",
      "ValueError: Out of bag estimation only available if bootstrap=True\n",
      "\n",
      "  FitFailedWarning)\n",
      "/Users/paulsprouse/opt/anaconda3/lib/python3.7/site-packages/sklearn/model_selection/_validation.py:552: FitFailedWarning: Estimator fit failed. The score on this train-test partition for these parameters will be set to nan. Details: \n",
      "Traceback (most recent call last):\n",
      "  File \"/Users/paulsprouse/opt/anaconda3/lib/python3.7/site-packages/sklearn/model_selection/_validation.py\", line 531, in _fit_and_score\n",
      "    estimator.fit(X_train, y_train, **fit_params)\n",
      "  File \"/Users/paulsprouse/opt/anaconda3/lib/python3.7/site-packages/sklearn/ensemble/_forest.py\", line 351, in fit\n",
      "    raise ValueError(\"Out of bag estimation only available\"\n",
      "ValueError: Out of bag estimation only available if bootstrap=True\n",
      "\n",
      "  FitFailedWarning)\n",
      "/Users/paulsprouse/opt/anaconda3/lib/python3.7/site-packages/sklearn/model_selection/_validation.py:552: FitFailedWarning: Estimator fit failed. The score on this train-test partition for these parameters will be set to nan. Details: \n",
      "Traceback (most recent call last):\n",
      "  File \"/Users/paulsprouse/opt/anaconda3/lib/python3.7/site-packages/sklearn/model_selection/_validation.py\", line 531, in _fit_and_score\n",
      "    estimator.fit(X_train, y_train, **fit_params)\n",
      "  File \"/Users/paulsprouse/opt/anaconda3/lib/python3.7/site-packages/sklearn/ensemble/_forest.py\", line 351, in fit\n",
      "    raise ValueError(\"Out of bag estimation only available\"\n",
      "ValueError: Out of bag estimation only available if bootstrap=True\n",
      "\n",
      "  FitFailedWarning)\n",
      "/Users/paulsprouse/opt/anaconda3/lib/python3.7/site-packages/sklearn/model_selection/_validation.py:552: FitFailedWarning: Estimator fit failed. The score on this train-test partition for these parameters will be set to nan. Details: \n",
      "Traceback (most recent call last):\n",
      "  File \"/Users/paulsprouse/opt/anaconda3/lib/python3.7/site-packages/sklearn/model_selection/_validation.py\", line 531, in _fit_and_score\n",
      "    estimator.fit(X_train, y_train, **fit_params)\n",
      "  File \"/Users/paulsprouse/opt/anaconda3/lib/python3.7/site-packages/sklearn/ensemble/_forest.py\", line 351, in fit\n",
      "    raise ValueError(\"Out of bag estimation only available\"\n",
      "ValueError: Out of bag estimation only available if bootstrap=True\n",
      "\n",
      "  FitFailedWarning)\n",
      "[Parallel(n_jobs=1)]: Done 150 out of 150 | elapsed:  1.5min finished\n"
     ]
    },
    {
     "data": {
      "text/plain": [
       "{'n_estimators': 147,\n",
       " 'min_samples_split': 2,\n",
       " 'min_samples_leaf': 4,\n",
       " 'max_leaf_nodes': 37,\n",
       " 'max_features': 'auto',\n",
       " 'max_depth': None,\n",
       " 'bootstrap': True}"
      ]
     },
     "execution_count": 15,
     "metadata": {},
     "output_type": "execute_result"
    }
   ],
   "source": [
    "rf = RandomForestClassifier(oob_score=True, n_jobs=-1)\n",
    "rf_random = RandomizedSearchCV(\n",
    "                estimator = rf,\n",
    "                param_distributions = random_grid,\n",
    "                n_iter = 50, cv = 3,\n",
    "                verbose=1, random_state=22,\n",
    "                scoring='accuracy')\n",
    "pipe_random = make_pipeline(col_trans, rf_random)\n",
    "pipe_random.fit(train_x, train_y)\n",
    "rf_random.best_params_"
   ]
  },
  {
   "cell_type": "code",
   "execution_count": 19,
   "metadata": {
    "ExecuteTime": {
     "end_time": "2020-12-03T02:11:06.480811Z",
     "start_time": "2020-12-03T02:11:06.476864Z"
    }
   },
   "outputs": [
    {
     "name": "stdout",
     "output_type": "stream",
     "text": [
      "Average number of nodes 73\n",
      "Average maximum depth 9\n"
     ]
    }
   ],
   "source": [
    "# To look at nodes and depths of trees use on average\n",
    "n_nodes = []\n",
    "max_depths = []\n",
    "for ind_tree in best_model.estimators_:\n",
    "       n_nodes.append(ind_tree.tree_.node_count)\n",
    "       max_depths.append(ind_tree.tree_.max_depth)\n",
    "print(f'Average number of nodes {int(np.mean(n_nodes))}')   \n",
    "print(f'Average maximum depth {int(np.mean(max_depths))}')  \n"
   ]
  },
  {
   "cell_type": "code",
   "execution_count": 18,
   "metadata": {
    "ExecuteTime": {
     "end_time": "2020-12-03T02:10:58.016034Z",
     "start_time": "2020-12-03T02:10:57.494429Z"
    }
   },
   "outputs": [],
   "source": [
    "best_model = rf_random.best_estimator_\n",
    "pipe_best_model = make_pipeline(col_trans, best_model)\n",
    "pipe_best_model.fit(train_x, train_y)\n",
    "y_pred_best_model = pipe_best_model.predict(train_x)"
   ]
  },
  {
   "cell_type": "code",
   "execution_count": 30,
   "metadata": {
    "ExecuteTime": {
     "end_time": "2020-12-03T02:21:12.810951Z",
     "start_time": "2020-12-03T02:21:12.806280Z"
    }
   },
   "outputs": [
    {
     "name": "stdout",
     "output_type": "stream",
     "text": [
      "0 MSZoning\n",
      "1 LotArea\n",
      "2 LotShape\n",
      "3 LandContour\n",
      "4 LandSlope\n",
      "5 Neighborhood\n",
      "6 BldgType\n",
      "7 HouseStyle\n",
      "8 OverallQual\n",
      "9 OverallCond\n",
      "10 YearBuilt\n",
      "11 MasVnrType\n",
      "12 MasVnrArea\n",
      "13 ExterQual\n",
      "14 ExterCond\n",
      "15 Foundation\n",
      "16 BsmtQual\n",
      "17 BsmtCond\n",
      "18 Heating\n",
      "19 CentralAir\n",
      "20 1stFlrSF\n",
      "21 2ndFlrSF\n",
      "22 GrLivArea\n",
      "23 FullBath\n",
      "24 HalfBath\n",
      "25 BedroomAbvGr\n",
      "26 KitchenAbvGr\n",
      "27 KitchenQual\n",
      "28 TotRmsAbvGrd\n",
      "29 Fireplaces\n",
      "30 FireplaceQu\n",
      "31 GarageType\n",
      "32 GarageFinish\n",
      "33 GarageCars\n",
      "34 GarageQual\n",
      "35 GarageCond\n",
      "36 PavedDrive\n",
      "37 OpenPorchSF\n",
      "38 Fence\n",
      "39 MiscFeature\n",
      "40 MiscVal\n",
      "41 MoSold\n",
      "42 YrSold\n"
     ]
    }
   ],
   "source": [
    "for i, v in enumerate(test_x.columns):\n",
    "    print(i, v)"
   ]
  },
  {
   "cell_type": "code",
   "execution_count": 31,
   "metadata": {
    "ExecuteTime": {
     "end_time": "2020-12-03T02:22:18.897785Z",
     "start_time": "2020-12-03T02:22:18.514618Z"
    }
   },
   "outputs": [
    {
     "name": "stdout",
     "output_type": "stream",
     "text": [
      "['(175000.0, 200000.0]' '(150000.0, 175000.0]' '(175000.0, 200000.0]' ...\n",
      " '(125000.0, 150000.0]' '(125000.0, 150000.0]' '(125000.0, 150000.0]'] [0.02933651 0.18419152 0.01851828 ... 0.16204932 0.47548037 0.46439062] ['(175000.0, 200000.0]' '(150000.0, 175000.0]' '(175000.0, 200000.0]' ...\n",
      " '(125000.0, 150000.0]' '(125000.0, 150000.0]' '(125000.0, 150000.0]'] [0.02933651 0.18419152 0.01851828 ... 0.16204932 0.47548037 0.46439062]\n"
     ]
    }
   ],
   "source": [
    "train_rf_predictions = pipe_best_model.predict(train_x)\n",
    "train_rf_probs = pipe_best_model.predict_proba(train_x)[:, 1]\n",
    "rf_probs = pipe_best_model.predict_proba(train_x)[:, 1]\n",
    "# Plot ROC curve and check scores\n",
    "print(y_pred_best_model, rf_probs, train_rf_predictions, train_rf_probs)"
   ]
  },
  {
   "cell_type": "code",
   "execution_count": null,
   "metadata": {},
   "outputs": [],
   "source": []
  },
  {
   "cell_type": "code",
   "execution_count": 27,
   "metadata": {
    "ExecuteTime": {
     "end_time": "2020-12-03T02:20:05.604089Z",
     "start_time": "2020-12-03T02:20:05.577273Z"
    }
   },
   "outputs": [
    {
     "ename": "ValueError",
     "evalue": "Mix of label input types (string and number)",
     "output_type": "error",
     "traceback": [
      "\u001b[0;31m---------------------------------------------------------------------------\u001b[0m",
      "\u001b[0;31mValueError\u001b[0m                                Traceback (most recent call last)",
      "\u001b[0;32m<ipython-input-27-3eba4f66f560>\u001b[0m in \u001b[0;36m<module>\u001b[0;34m\u001b[0m\n\u001b[1;32m     36\u001b[0m     \u001b[0mplt\u001b[0m\u001b[0;34m.\u001b[0m\u001b[0mylabel\u001b[0m\u001b[0;34m(\u001b[0m\u001b[0;34m'True Positive Rate'\u001b[0m\u001b[0;34m)\u001b[0m\u001b[0;34m;\u001b[0m \u001b[0mplt\u001b[0m\u001b[0;34m.\u001b[0m\u001b[0mtitle\u001b[0m\u001b[0;34m(\u001b[0m\u001b[0;34m'ROC Curves'\u001b[0m\u001b[0;34m)\u001b[0m\u001b[0;34m;\u001b[0m\u001b[0;34m\u001b[0m\u001b[0;34m\u001b[0m\u001b[0m\n\u001b[1;32m     37\u001b[0m     \u001b[0mplt\u001b[0m\u001b[0;34m.\u001b[0m\u001b[0mshow\u001b[0m\u001b[0;34m(\u001b[0m\u001b[0;34m)\u001b[0m\u001b[0;34m;\u001b[0m\u001b[0;34m\u001b[0m\u001b[0;34m\u001b[0m\u001b[0m\n\u001b[0;32m---> 38\u001b[0;31m \u001b[0mevaluate_model\u001b[0m\u001b[0;34m(\u001b[0m\u001b[0my_pred_best_model\u001b[0m\u001b[0;34m,\u001b[0m\u001b[0mrf_probs\u001b[0m\u001b[0;34m,\u001b[0m\u001b[0mtrain_rf_predictions\u001b[0m\u001b[0;34m,\u001b[0m\u001b[0mtrain_rf_probs\u001b[0m\u001b[0;34m)\u001b[0m\u001b[0;34m\u001b[0m\u001b[0;34m\u001b[0m\u001b[0m\n\u001b[0m",
      "\u001b[0;32m<ipython-input-27-3eba4f66f560>\u001b[0m in \u001b[0;36mevaluate_model\u001b[0;34m(y_pred, probs, train_predictions, train_probs)\u001b[0m\n\u001b[1;32m      7\u001b[0m     \u001b[0mbaseline\u001b[0m \u001b[0;34m=\u001b[0m \u001b[0;34m{\u001b[0m\u001b[0;34m}\u001b[0m\u001b[0;34m\u001b[0m\u001b[0;34m\u001b[0m\u001b[0m\n\u001b[1;32m      8\u001b[0m     baseline['recall']=recall_score(y_test,\n\u001b[0;32m----> 9\u001b[0;31m                     [1 for _ in range(len(y_test))])\n\u001b[0m\u001b[1;32m     10\u001b[0m     baseline['precision'] = precision_score(y_test,\n\u001b[1;32m     11\u001b[0m                     [1 for _ in range(len(y_test))])\n",
      "\u001b[0;32m~/opt/anaconda3/lib/python3.7/site-packages/sklearn/utils/validation.py\u001b[0m in \u001b[0;36minner_f\u001b[0;34m(*args, **kwargs)\u001b[0m\n\u001b[1;32m     70\u001b[0m                           FutureWarning)\n\u001b[1;32m     71\u001b[0m         \u001b[0mkwargs\u001b[0m\u001b[0;34m.\u001b[0m\u001b[0mupdate\u001b[0m\u001b[0;34m(\u001b[0m\u001b[0;34m{\u001b[0m\u001b[0mk\u001b[0m\u001b[0;34m:\u001b[0m \u001b[0marg\u001b[0m \u001b[0;32mfor\u001b[0m \u001b[0mk\u001b[0m\u001b[0;34m,\u001b[0m \u001b[0marg\u001b[0m \u001b[0;32min\u001b[0m \u001b[0mzip\u001b[0m\u001b[0;34m(\u001b[0m\u001b[0msig\u001b[0m\u001b[0;34m.\u001b[0m\u001b[0mparameters\u001b[0m\u001b[0;34m,\u001b[0m \u001b[0margs\u001b[0m\u001b[0;34m)\u001b[0m\u001b[0;34m}\u001b[0m\u001b[0;34m)\u001b[0m\u001b[0;34m\u001b[0m\u001b[0;34m\u001b[0m\u001b[0m\n\u001b[0;32m---> 72\u001b[0;31m         \u001b[0;32mreturn\u001b[0m \u001b[0mf\u001b[0m\u001b[0;34m(\u001b[0m\u001b[0;34m**\u001b[0m\u001b[0mkwargs\u001b[0m\u001b[0;34m)\u001b[0m\u001b[0;34m\u001b[0m\u001b[0;34m\u001b[0m\u001b[0m\n\u001b[0m\u001b[1;32m     73\u001b[0m     \u001b[0;32mreturn\u001b[0m \u001b[0minner_f\u001b[0m\u001b[0;34m\u001b[0m\u001b[0;34m\u001b[0m\u001b[0m\n\u001b[1;32m     74\u001b[0m \u001b[0;34m\u001b[0m\u001b[0m\n",
      "\u001b[0;32m~/opt/anaconda3/lib/python3.7/site-packages/sklearn/metrics/_classification.py\u001b[0m in \u001b[0;36mrecall_score\u001b[0;34m(y_true, y_pred, labels, pos_label, average, sample_weight, zero_division)\u001b[0m\n\u001b[1;32m   1739\u001b[0m                                                  \u001b[0mwarn_for\u001b[0m\u001b[0;34m=\u001b[0m\u001b[0;34m(\u001b[0m\u001b[0;34m'recall'\u001b[0m\u001b[0;34m,\u001b[0m\u001b[0;34m)\u001b[0m\u001b[0;34m,\u001b[0m\u001b[0;34m\u001b[0m\u001b[0;34m\u001b[0m\u001b[0m\n\u001b[1;32m   1740\u001b[0m                                                  \u001b[0msample_weight\u001b[0m\u001b[0;34m=\u001b[0m\u001b[0msample_weight\u001b[0m\u001b[0;34m,\u001b[0m\u001b[0;34m\u001b[0m\u001b[0;34m\u001b[0m\u001b[0m\n\u001b[0;32m-> 1741\u001b[0;31m                                                  zero_division=zero_division)\n\u001b[0m\u001b[1;32m   1742\u001b[0m     \u001b[0;32mreturn\u001b[0m \u001b[0mr\u001b[0m\u001b[0;34m\u001b[0m\u001b[0;34m\u001b[0m\u001b[0m\n\u001b[1;32m   1743\u001b[0m \u001b[0;34m\u001b[0m\u001b[0m\n",
      "\u001b[0;32m~/opt/anaconda3/lib/python3.7/site-packages/sklearn/utils/validation.py\u001b[0m in \u001b[0;36minner_f\u001b[0;34m(*args, **kwargs)\u001b[0m\n\u001b[1;32m     70\u001b[0m                           FutureWarning)\n\u001b[1;32m     71\u001b[0m         \u001b[0mkwargs\u001b[0m\u001b[0;34m.\u001b[0m\u001b[0mupdate\u001b[0m\u001b[0;34m(\u001b[0m\u001b[0;34m{\u001b[0m\u001b[0mk\u001b[0m\u001b[0;34m:\u001b[0m \u001b[0marg\u001b[0m \u001b[0;32mfor\u001b[0m \u001b[0mk\u001b[0m\u001b[0;34m,\u001b[0m \u001b[0marg\u001b[0m \u001b[0;32min\u001b[0m \u001b[0mzip\u001b[0m\u001b[0;34m(\u001b[0m\u001b[0msig\u001b[0m\u001b[0;34m.\u001b[0m\u001b[0mparameters\u001b[0m\u001b[0;34m,\u001b[0m \u001b[0margs\u001b[0m\u001b[0;34m)\u001b[0m\u001b[0;34m}\u001b[0m\u001b[0;34m)\u001b[0m\u001b[0;34m\u001b[0m\u001b[0;34m\u001b[0m\u001b[0m\n\u001b[0;32m---> 72\u001b[0;31m         \u001b[0;32mreturn\u001b[0m \u001b[0mf\u001b[0m\u001b[0;34m(\u001b[0m\u001b[0;34m**\u001b[0m\u001b[0mkwargs\u001b[0m\u001b[0;34m)\u001b[0m\u001b[0;34m\u001b[0m\u001b[0;34m\u001b[0m\u001b[0m\n\u001b[0m\u001b[1;32m     73\u001b[0m     \u001b[0;32mreturn\u001b[0m \u001b[0minner_f\u001b[0m\u001b[0;34m\u001b[0m\u001b[0;34m\u001b[0m\u001b[0m\n\u001b[1;32m     74\u001b[0m \u001b[0;34m\u001b[0m\u001b[0m\n",
      "\u001b[0;32m~/opt/anaconda3/lib/python3.7/site-packages/sklearn/metrics/_classification.py\u001b[0m in \u001b[0;36mprecision_recall_fscore_support\u001b[0;34m(y_true, y_pred, beta, labels, pos_label, average, warn_for, sample_weight, zero_division)\u001b[0m\n\u001b[1;32m   1432\u001b[0m         \u001b[0;32mraise\u001b[0m \u001b[0mValueError\u001b[0m\u001b[0;34m(\u001b[0m\u001b[0;34m\"beta should be >=0 in the F-beta score\"\u001b[0m\u001b[0;34m)\u001b[0m\u001b[0;34m\u001b[0m\u001b[0;34m\u001b[0m\u001b[0m\n\u001b[1;32m   1433\u001b[0m     labels = _check_set_wise_labels(y_true, y_pred, average, labels,\n\u001b[0;32m-> 1434\u001b[0;31m                                     pos_label)\n\u001b[0m\u001b[1;32m   1435\u001b[0m \u001b[0;34m\u001b[0m\u001b[0m\n\u001b[1;32m   1436\u001b[0m     \u001b[0;31m# Calculate tp_sum, pred_sum, true_sum ###\u001b[0m\u001b[0;34m\u001b[0m\u001b[0;34m\u001b[0m\u001b[0;34m\u001b[0m\u001b[0m\n",
      "\u001b[0;32m~/opt/anaconda3/lib/python3.7/site-packages/sklearn/metrics/_classification.py\u001b[0m in \u001b[0;36m_check_set_wise_labels\u001b[0;34m(y_true, y_pred, average, labels, pos_label)\u001b[0m\n\u001b[1;32m   1249\u001b[0m \u001b[0;34m\u001b[0m\u001b[0m\n\u001b[1;32m   1250\u001b[0m     \u001b[0my_type\u001b[0m\u001b[0;34m,\u001b[0m \u001b[0my_true\u001b[0m\u001b[0;34m,\u001b[0m \u001b[0my_pred\u001b[0m \u001b[0;34m=\u001b[0m \u001b[0m_check_targets\u001b[0m\u001b[0;34m(\u001b[0m\u001b[0my_true\u001b[0m\u001b[0;34m,\u001b[0m \u001b[0my_pred\u001b[0m\u001b[0;34m)\u001b[0m\u001b[0;34m\u001b[0m\u001b[0;34m\u001b[0m\u001b[0m\n\u001b[0;32m-> 1251\u001b[0;31m     \u001b[0mpresent_labels\u001b[0m \u001b[0;34m=\u001b[0m \u001b[0munique_labels\u001b[0m\u001b[0;34m(\u001b[0m\u001b[0my_true\u001b[0m\u001b[0;34m,\u001b[0m \u001b[0my_pred\u001b[0m\u001b[0;34m)\u001b[0m\u001b[0;34m\u001b[0m\u001b[0;34m\u001b[0m\u001b[0m\n\u001b[0m\u001b[1;32m   1252\u001b[0m     \u001b[0;32mif\u001b[0m \u001b[0maverage\u001b[0m \u001b[0;34m==\u001b[0m \u001b[0;34m'binary'\u001b[0m\u001b[0;34m:\u001b[0m\u001b[0;34m\u001b[0m\u001b[0;34m\u001b[0m\u001b[0m\n\u001b[1;32m   1253\u001b[0m         \u001b[0;32mif\u001b[0m \u001b[0my_type\u001b[0m \u001b[0;34m==\u001b[0m \u001b[0;34m'binary'\u001b[0m\u001b[0;34m:\u001b[0m\u001b[0;34m\u001b[0m\u001b[0;34m\u001b[0m\u001b[0m\n",
      "\u001b[0;32m~/opt/anaconda3/lib/python3.7/site-packages/sklearn/utils/multiclass.py\u001b[0m in \u001b[0;36munique_labels\u001b[0;34m(*ys)\u001b[0m\n\u001b[1;32m    101\u001b[0m     \u001b[0;31m# Check that we don't mix string type with number type\u001b[0m\u001b[0;34m\u001b[0m\u001b[0;34m\u001b[0m\u001b[0;34m\u001b[0m\u001b[0m\n\u001b[1;32m    102\u001b[0m     \u001b[0;32mif\u001b[0m \u001b[0;34m(\u001b[0m\u001b[0mlen\u001b[0m\u001b[0;34m(\u001b[0m\u001b[0mset\u001b[0m\u001b[0;34m(\u001b[0m\u001b[0misinstance\u001b[0m\u001b[0;34m(\u001b[0m\u001b[0mlabel\u001b[0m\u001b[0;34m,\u001b[0m \u001b[0mstr\u001b[0m\u001b[0;34m)\u001b[0m \u001b[0;32mfor\u001b[0m \u001b[0mlabel\u001b[0m \u001b[0;32min\u001b[0m \u001b[0mys_labels\u001b[0m\u001b[0;34m)\u001b[0m\u001b[0;34m)\u001b[0m \u001b[0;34m>\u001b[0m \u001b[0;36m1\u001b[0m\u001b[0;34m)\u001b[0m\u001b[0;34m:\u001b[0m\u001b[0;34m\u001b[0m\u001b[0;34m\u001b[0m\u001b[0m\n\u001b[0;32m--> 103\u001b[0;31m         \u001b[0;32mraise\u001b[0m \u001b[0mValueError\u001b[0m\u001b[0;34m(\u001b[0m\u001b[0;34m\"Mix of label input types (string and number)\"\u001b[0m\u001b[0;34m)\u001b[0m\u001b[0;34m\u001b[0m\u001b[0;34m\u001b[0m\u001b[0m\n\u001b[0m\u001b[1;32m    104\u001b[0m \u001b[0;34m\u001b[0m\u001b[0m\n\u001b[1;32m    105\u001b[0m     \u001b[0;32mreturn\u001b[0m \u001b[0mnp\u001b[0m\u001b[0;34m.\u001b[0m\u001b[0marray\u001b[0m\u001b[0;34m(\u001b[0m\u001b[0msorted\u001b[0m\u001b[0;34m(\u001b[0m\u001b[0mys_labels\u001b[0m\u001b[0;34m)\u001b[0m\u001b[0;34m)\u001b[0m\u001b[0;34m\u001b[0m\u001b[0;34m\u001b[0m\u001b[0m\n",
      "\u001b[0;31mValueError\u001b[0m: Mix of label input types (string and number)"
     ]
    }
   ],
   "source": [
    "x_train = train_x\n",
    "y_train = train_y\n",
    "x_test = train_x\n",
    "y_test = train_y\n",
    "\n",
    "def evaluate_model(y_pred, probs,train_predictions, train_probs):\n",
    "    baseline = {}\n",
    "    baseline['recall']=recall_score(y_test,\n",
    "                    [1 for _ in range(len(y_test))])\n",
    "    baseline['precision'] = precision_score(y_test,\n",
    "                    [1 for _ in range(len(y_test))])\n",
    "    baseline['roc'] = 0.5\n",
    "    results = {}\n",
    "    results['recall'] = recall_score(y_test, y_pred)\n",
    "    results['precision'] = precision_score(y_test, y_pred)\n",
    "    results['roc'] = roc_auc_score(y_test, probs)\n",
    "    train_results = {}\n",
    "    train_results['recall'] = recall_score(y_train,       train_predictions)\n",
    "    train_results['precision'] = precision_score(y_train, train_predictions)\n",
    "    train_results['roc'] = roc_auc_score(y_train, train_probs)\n",
    "    for metric in ['recall', 'precision', 'roc']:  \n",
    "          print(f'{metric.capitalize()} \\\n",
    "                 Baseline: {round(baseline[metric], 2)} \\\n",
    "                 Test: {round(results[metric], 2)} \\\n",
    "                 Train: {round(train_results[metric], 2)}')\n",
    "     # Calculate false positive rates and true positive rates\n",
    "    base_fpr, base_tpr, _ = roc_curve(y_test, [1 for _ in range(len(y_test))])\n",
    "    model_fpr, model_tpr, _ = roc_curve(y_test, probs)\n",
    "    plt.figure(figsize = (8, 6))\n",
    "    plt.rcParams['font.size'] = 16\n",
    "    # Plot both curves\n",
    "    plt.plot(base_fpr, base_tpr, 'b', label = 'baseline')\n",
    "    plt.plot(model_fpr, model_tpr, 'r', label = 'model')\n",
    "    plt.legend();\n",
    "    plt.xlabel('False Positive Rate');\n",
    "    plt.ylabel('True Positive Rate'); plt.title('ROC Curves');\n",
    "    plt.show();\n",
    "evaluate_model(y_pred_best_model,rf_probs,train_rf_predictions,train_rf_probs)"
   ]
  },
  {
   "cell_type": "code",
   "execution_count": null,
   "metadata": {},
   "outputs": [],
   "source": []
  },
  {
   "cell_type": "code",
   "execution_count": null,
   "metadata": {},
   "outputs": [],
   "source": []
  },
  {
   "cell_type": "code",
   "execution_count": null,
   "metadata": {},
   "outputs": [],
   "source": []
  },
  {
   "cell_type": "code",
   "execution_count": null,
   "metadata": {},
   "outputs": [],
   "source": []
  },
  {
   "cell_type": "code",
   "execution_count": null,
   "metadata": {},
   "outputs": [],
   "source": []
  },
  {
   "cell_type": "code",
   "execution_count": null,
   "metadata": {},
   "outputs": [],
   "source": []
  },
  {
   "cell_type": "code",
   "execution_count": null,
   "metadata": {},
   "outputs": [],
   "source": []
  },
  {
   "cell_type": "code",
   "execution_count": null,
   "metadata": {},
   "outputs": [],
   "source": []
  },
  {
   "cell_type": "code",
   "execution_count": null,
   "metadata": {},
   "outputs": [],
   "source": []
  },
  {
   "cell_type": "code",
   "execution_count": null,
   "metadata": {},
   "outputs": [],
   "source": []
  },
  {
   "cell_type": "code",
   "execution_count": null,
   "metadata": {},
   "outputs": [],
   "source": []
  },
  {
   "cell_type": "code",
   "execution_count": null,
   "metadata": {},
   "outputs": [],
   "source": []
  },
  {
   "cell_type": "code",
   "execution_count": null,
   "metadata": {},
   "outputs": [],
   "source": []
  },
  {
   "cell_type": "code",
   "execution_count": null,
   "metadata": {},
   "outputs": [],
   "source": []
  }
 ],
 "metadata": {
  "kernelspec": {
   "display_name": "Python 3",
   "language": "python",
   "name": "python3"
  },
  "language_info": {
   "codemirror_mode": {
    "name": "ipython",
    "version": 3
   },
   "file_extension": ".py",
   "mimetype": "text/x-python",
   "name": "python",
   "nbconvert_exporter": "python",
   "pygments_lexer": "ipython3",
   "version": "3.7.7"
  },
  "toc": {
   "base_numbering": 1,
   "nav_menu": {},
   "number_sections": true,
   "sideBar": true,
   "skip_h1_title": false,
   "title_cell": "Table of Contents",
   "title_sidebar": "Contents",
   "toc_cell": false,
   "toc_position": {},
   "toc_section_display": true,
   "toc_window_display": false
  },
  "varInspector": {
   "cols": {
    "lenName": 16,
    "lenType": 16,
    "lenVar": 40
   },
   "kernels_config": {
    "python": {
     "delete_cmd_postfix": "",
     "delete_cmd_prefix": "del ",
     "library": "var_list.py",
     "varRefreshCmd": "print(var_dic_list())"
    },
    "r": {
     "delete_cmd_postfix": ") ",
     "delete_cmd_prefix": "rm(",
     "library": "var_list.r",
     "varRefreshCmd": "cat(var_dic_list()) "
    }
   },
   "types_to_exclude": [
    "module",
    "function",
    "builtin_function_or_method",
    "instance",
    "_Feature"
   ],
   "window_display": false
  }
 },
 "nbformat": 4,
 "nbformat_minor": 4
}
