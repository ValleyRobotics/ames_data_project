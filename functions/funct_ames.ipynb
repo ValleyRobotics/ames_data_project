{
 "cells": [
  {
   "cell_type": "markdown",
   "metadata": {},
   "source": [
    "## This is a place to save common functions specific to this project"
   ]
  },
  {
   "cell_type": "code",
   "execution_count": 4,
   "metadata": {
    "ExecuteTime": {
     "end_time": "2020-12-09T19:48:14.846994Z",
     "start_time": "2020-12-09T19:48:14.829810Z"
    }
   },
   "outputs": [],
   "source": [
    "# Test Function\n",
    "def hello_world():\n",
    "    return 'Hello World'\n",
    "\n",
    "# variables used to setup the data gathering and prep functions \n",
    "replace_na_col = ['PoolQC', 'MiscFeature', 'Alley', 'Fence', 'FireplaceQu', 'LotFrontage',\n",
    "                  'GarageQual', 'GarageCond', 'GarageType', 'GarageFinish', 'GarageYrBlt',\n",
    "                  'GarageQual', 'BsmtExposure', 'BsmtQual', 'BsmtCond', 'BsmtFinType1',\n",
    "                  'BsmtFinType2'\n",
    "                 ]\n",
    "fields_to_drop = ['LotFrontage', 'GarageYrBlt', 'Utilities', 'Street', 'GarageArea',\n",
    "                      'YearRemodAdd', 'BsmtFinSF1', 'ScreenPorch', 'EnclosedPorch', 'Alley',\n",
    "                      'Utilities', 'SaleType', '3SsnPorch', 'Exterior1st', 'Exterior2nd',\n",
    "                      'Condition1', 'Condition2', 'PoolArea', 'Functional', 'RoofMatl',\n",
    "                      'RoofStyle', 'Electrical', 'BsmtFinSF2', 'BsmtFinType1', 'BsmtFinType2',\n",
    "                      'PoolQC', 'HeatingQC', 'BsmtExposure', 'PoolQC', 'BsmtUnfSF', \n",
    "                      'SaleCondition', 'LotConfig', 'TotalBsmtSF', 'MSSubClass', 'LowQualFinSF',\n",
    "                      'LowQualFinSF', 'BsmtFullBath', 'BsmtHalfBath', 'WoodDeckSF', 'LandSlope',\n",
    "                      'WoodDeckSF'\n",
    "                     ]\n",
    "fields_to_drop_sm = ['LotFrontage', 'GarageYrBlt']\n",
    "\n",
    "# functions used for data collection and reporting\n",
    "def unique_counts (df):\n",
    "    ret = []\n",
    "    ret = pd.DataFrame.from_records([(col, df[col].nunique(), df[col].dtype) for col in df.columns],\n",
    "                          columns=['Column', 'Num_Unique', 'type']).sort_values(by=['Num_Unique'])\n",
    "    return ret\n",
    "\n",
    "def convert_to_cat(df, type_):\n",
    "    unique_ = unique_counts(df)\n",
    "    for col in unique_['Column'].loc[unique_['Num_Unique']<20]:\n",
    "        if df[col].dtype == type_:\n",
    "            #if unique_[col].loc[unique_['Num_Unique']<20]:\n",
    "        #train_x[col] = pd.cut(train_x[col], bins=4, labels=[col+'_low', col+'_mid', col+'_high', col+'_very_high'])\n",
    "            df[col] = df[col].astype('str').astype('category')\n",
    "    for col in unique_['Column'].loc[unique_['Num_Unique']>=20]:\n",
    "        if df[col].dtype == type_:\n",
    "            df[col] = pd.qcut(df[col], 4, duplicates='drop')#bins=4, labels=['_low', '_mid', '_high', '_very_high'])\n",
    "            df[col] = df[col].astype('str').astype('category')\n",
    "    return df\n",
    "\n",
    "\n",
    "def change_missing(df, col_=replace_na_col, val='NA'):\n",
    "    df[col_] = df[col_].replace({np.nan: val})\n",
    "    return df\n",
    "\n",
    "def cond_condense_rooms(cond_):\n",
    "        cond_ = int(cond_)\n",
    "        if cond_ < 3:\n",
    "            return 1\n",
    "        if cond_ < 5:\n",
    "            return 2\n",
    "        if cond_ < 10:\n",
    "            return 3\n",
    "        else:\n",
    "            return 0\n",
    "        \n",
    "def cond_tot_rooms(cond_):\n",
    "    cond_ = int(cond_)\n",
    "    if cond_ < 5:\n",
    "        return 1\n",
    "    if cond_ < 7:\n",
    "        return 2\n",
    "    if cond_ < 10:\n",
    "        return 3\n",
    "    else:\n",
    "        return 4    \n",
    "\n",
    "def qu_condense(cond_):\n",
    "    if cond_ in ['Ex', 'Gd']:\n",
    "        return 3\n",
    "    if cond_ == 'TA':\n",
    "        return 2\n",
    "    if cond_ in ['Fa', 'Po']:\n",
    "        return 1\n",
    "    else:\n",
    "        return 0\n",
    "\n",
    "def cond_condenser(cond_):\n",
    "    cond_ = int(cond_)\n",
    "    if cond_ < 3:\n",
    "        return 1\n",
    "    elif cond_ < 6:\n",
    "        return 2\n",
    "    elif cond_ < 7:\n",
    "        return 3\n",
    "    elif cond_ <9:\n",
    "        return 4\n",
    "    elif cond_ < 11:\n",
    "        return 5\n",
    "    else:\n",
    "        return 0\n",
    "\n",
    "# create a setup function that gets the data in the structure I need\n",
    "def data_load():\n",
    "    ''' Basic data load and setup. Just loading one of the files - train.csv, splitting\n",
    "    into a train_x and train_y. Bin some of the data and delete a bunch of the columns\n",
    "    that after many iterations, didn't need to be included. All data becomes category data\n",
    "    '''\n",
    "    train=pd.read_csv('data/train.csv')\n",
    "    train_x = train.iloc[:,:-1].drop('Id', axis=1)\n",
    "    fields_ = ['MasVnrArea', 'Electrical', 'MSZoning', 'Functional', 'Utilities']\n",
    "    \n",
    "    val_ = []\n",
    "    for f in (fields_):\n",
    "        train_x[f] = train_x[f].fillna(train_x[f].mode()[0])\n",
    "        \n",
    "    train_y = train.iloc[:,-1]\n",
    "    train_x = change_missing(train_x)\n",
    "     \n",
    "    # bin y\n",
    "    bin_ = np.concatenate((np.linspace(25000, 500000, 7),np.array([600000, 800000]) ) )\n",
    "    #bin_ = np.concatenate((np.linspace(25000, 450000, 9),np.array([500000, 550000, 600000, 800000]) ) )\n",
    "    train_y = pd.cut(train_y, bins=bin_).astype('str').astype('category')\n",
    "       \n",
    "    for col_ in ['FireplaceQu', 'KitchenQual', 'BsmtCond', 'ExterCond', 'ExterCond',\n",
    "                 'BsmtQual', 'GarageCond', 'GarageQual']:\n",
    "        train_x[col_] = train_x[col_].apply(lambda x: qu_condense(x))  \n",
    "    train_x['OverallCond'] = train_x['OverallCond'].apply(lambda x: cond_condenser(x))\n",
    "    train_x['OverallQual'] = train_x['OverallQual'].apply(lambda x: cond_condenser(x))\n",
    "    train_x['BedroomAbvGr'] = train_x['BedroomAbvGr'].apply(lambda x: cond_condense_rooms(x))\n",
    "    train_x['TotRmsAbvGrd'] = train_x['TotRmsAbvGrd'].apply(lambda x: cond_tot_rooms(x))   \n",
    "    for col in train_x:\n",
    "        if train_x[col].dtype == 'object':\n",
    "            train_x[col] = train_x[col].astype('str').astype('category')\n",
    "#     for col in test_x:\n",
    "#         if test_x[col].dtype == 'object':\n",
    "#             test_x[col] = test_x[col].astype('str').astype('category')\n",
    "    # bin the data\n",
    "    train_x['LotShape'] = train_x['LotShape'].apply(lambda x: '1' if x == 'Reg' else '0')\n",
    "    train_x = convert_to_cat(train_x, 'int64')\n",
    "    train_x = convert_to_cat(train_x, 'float64')\n",
    "    train_x = train_x.drop(fields_to_drop, axis=1)\n",
    "    return train_x, train_y\n",
    "\n",
    "def encode_and_bind(original_dataframe, features_to_encode):\n",
    "    dummies = pd.get_dummies(original_dataframe[features_to_encode])\n",
    "    res = pd.concat([dummies, original_dataframe], axis=1)\n",
    "    res = res.drop(features_to_encode, axis=1)\n",
    "    return(res)\n",
    "\n",
    "def by_cat_dist_plot(data_column, name_):\n",
    "    ax=data_column.value_counts().sort_index().plot(kind = 'bar',  \n",
    "                                                  figsize=(9,6))\n",
    "    ax.set_title(name_, fontname='Comic Sans MS', fontsize=20)"
   ]
  },
  {
   "cell_type": "code",
   "execution_count": 5,
   "metadata": {
    "ExecuteTime": {
     "end_time": "2020-12-09T19:49:16.913612Z",
     "start_time": "2020-12-09T19:49:16.910386Z"
    }
   },
   "outputs": [
    {
     "data": {
      "text/plain": [
       "'Hello World'"
      ]
     },
     "execution_count": 5,
     "metadata": {},
     "output_type": "execute_result"
    }
   ],
   "source": [
    "hello_world()"
   ]
  },
  {
   "cell_type": "code",
   "execution_count": null,
   "metadata": {},
   "outputs": [],
   "source": []
  }
 ],
 "metadata": {
  "kernelspec": {
   "display_name": "Python 3",
   "language": "python",
   "name": "python3"
  },
  "language_info": {
   "codemirror_mode": {
    "name": "ipython",
    "version": 3
   },
   "file_extension": ".py",
   "mimetype": "text/x-python",
   "name": "python",
   "nbconvert_exporter": "python",
   "pygments_lexer": "ipython3",
   "version": "3.7.7"
  },
  "toc": {
   "base_numbering": 1,
   "nav_menu": {},
   "number_sections": true,
   "sideBar": true,
   "skip_h1_title": false,
   "title_cell": "Table of Contents",
   "title_sidebar": "Contents",
   "toc_cell": false,
   "toc_position": {},
   "toc_section_display": true,
   "toc_window_display": false
  },
  "varInspector": {
   "cols": {
    "lenName": 16,
    "lenType": 16,
    "lenVar": 40
   },
   "kernels_config": {
    "python": {
     "delete_cmd_postfix": "",
     "delete_cmd_prefix": "del ",
     "library": "var_list.py",
     "varRefreshCmd": "print(var_dic_list())"
    },
    "r": {
     "delete_cmd_postfix": ") ",
     "delete_cmd_prefix": "rm(",
     "library": "var_list.r",
     "varRefreshCmd": "cat(var_dic_list()) "
    }
   },
   "types_to_exclude": [
    "module",
    "function",
    "builtin_function_or_method",
    "instance",
    "_Feature"
   ],
   "window_display": false
  }
 },
 "nbformat": 4,
 "nbformat_minor": 4
}
