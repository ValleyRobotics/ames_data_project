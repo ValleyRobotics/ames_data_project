{
 "cells": [
  {
   "cell_type": "code",
   "execution_count": null,
   "metadata": {},
   "outputs": [],
   "source": [
    "https://www.investopedia.com/articles/mortgages-real-estate/08/house-flip.asp"
   ]
  },
  {
   "cell_type": "markdown",
   "metadata": {},
   "source": [
    "Items baked into neighborhoods:\n",
    " - schools (always look to see if this is changing or has changed)\n",
    " - is the neighborhood still growing (age of neighborhood)\n",
    " - surrounding area (green belts)\n",
    " - area in general (close to city, businesses ...\n",
    " - utilities are often the same\n",
    " - house types are common\n",
    " - look at price differentials in the neighborhood"
   ]
  },
  {
   "cell_type": "markdown",
   "metadata": {},
   "source": [
    "Items to think about\n",
    " - estimates are not exact, don't show to the penny if you can't estimate to the penny\n",
    " - if you know an exact cost, show it as such, otherwise round it\n",
    " - Know the market you are in down to the neighborhood! \n",
    " - Specialize in a few neighborhoods as opposed to the whole area\n",
    " - "
   ]
  },
  {
   "cell_type": "code",
   "execution_count": null,
   "metadata": {},
   "outputs": [],
   "source": []
  },
  {
   "cell_type": "code",
   "execution_count": null,
   "metadata": {},
   "outputs": [],
   "source": []
  },
  {
   "cell_type": "code",
   "execution_count": null,
   "metadata": {},
   "outputs": [],
   "source": []
  },
  {
   "cell_type": "code",
   "execution_count": null,
   "metadata": {},
   "outputs": [],
   "source": []
  },
  {
   "cell_type": "code",
   "execution_count": null,
   "metadata": {},
   "outputs": [],
   "source": []
  },
  {
   "cell_type": "markdown",
   "metadata": {},
   "source": [
    "## not related need to save elsewhere...\n",
    "\n",
    "Likelihood function:\n",
    "if we know events are independent than we multiply the probability\n",
    "\n",
    "how do we do this in the tree model? Great question...\n",
    "\n",
    "is this the gini index? am I jumping the gun here?\n",
    "\n",
    "I think \n",
    "\n",
    "need to think of overall prediction\n",
    "\n",
    "# good video - how strong is your machine learning - Luke\n",
    "need a way we can rate videos as they happen\n",
    "live learning sessions are great for coming back and reienforcing different concepts\n",
    "\n",
    "# other notes\n",
    "Grading for the two projects have been spot on and I've agreed with both grades and the feedback, very helpful.  maybe have a homework review sessions each week.\n",
    "\n",
    "# know watching the model selection video... - Thomas\n",
    "lol, how much time to select model - this is exactly where I'm at right now... struggling with my model and aimlessly throwing darts....\n",
    "paralesses of perfection (my term), can't do it perfect we stop ourselves from going foward - how to break this ? I need to research this for tips\n",
    "\n",
    "Always look at balance in classification problem!\n",
    "how to conterbalance the an in balance\n",
    "\n",
    "#### use this\n",
    "ytrain.value_counts().sort_index().plot(kind = 'bar')\n",
    "plt.show()\n",
    "\n",
    "##### removing columns create a class - example below is removing 0 value columns:\n",
    "\n",
    "class Remove0VarCols(object):\n",
    "    \n",
    "    def init(self):\n",
    "        self.keep_cols = None\n",
    "        self.been_fit = False\n",
    "    \n",
    "    def fit(self, X):\n",
    "        self.keep_cols = ~((X**2).sum(axis = 0) == 0)\n",
    "        self.been_fit = True\n",
    "        return self\n",
    "        \n",
    "    def transform(self, X):\n",
    "        if not self.been_fit:\n",
    "            raise Exception(\"Need to fit on training before transforming.\")\n",
    "        return np.array(X)[:, self.keep_cols]\n",
    "        \n",
    "##### using it\n",
    "rm0var = Remove0VarCols()\n",
    "Xtrain_cl = rm0var.fit(Xtrain).transform(Xtrain)\n",
    "Xtrain_cl.shape\n",
    "##### doing same to test set\n",
    "rm0var.transform(Xtest).shape\n",
    "##### down sample - if needed\n",
    "from sklearn.utils import resample\n",
    "\n",
    "X10,y10 = resample(Xtrain_cl, ytrain, \n",
    "                   n_samples = Xtrain.shape[0]//10,\n",
    "                   replace = False)\n",
    "X5,y5 = resample(Xtrain_cl, ytrain,\n",
    "                 n_samples = Xtrain.shape[0]//5,\n",
    "                 replace = False)\n",
    "\n",
    "\n",
    "\n",
    "\n"
   ]
  }
 ],
 "metadata": {
  "kernelspec": {
   "display_name": "Python 3",
   "language": "python",
   "name": "python3"
  },
  "language_info": {
   "codemirror_mode": {
    "name": "ipython",
    "version": 3
   },
   "file_extension": ".py",
   "mimetype": "text/x-python",
   "name": "python",
   "nbconvert_exporter": "python",
   "pygments_lexer": "ipython3",
   "version": "3.7.7"
  },
  "toc": {
   "base_numbering": 1,
   "nav_menu": {},
   "number_sections": true,
   "sideBar": true,
   "skip_h1_title": false,
   "title_cell": "Table of Contents",
   "title_sidebar": "Contents",
   "toc_cell": false,
   "toc_position": {},
   "toc_section_display": true,
   "toc_window_display": false
  },
  "varInspector": {
   "cols": {
    "lenName": 16,
    "lenType": 16,
    "lenVar": 40
   },
   "kernels_config": {
    "python": {
     "delete_cmd_postfix": "",
     "delete_cmd_prefix": "del ",
     "library": "var_list.py",
     "varRefreshCmd": "print(var_dic_list())"
    },
    "r": {
     "delete_cmd_postfix": ") ",
     "delete_cmd_prefix": "rm(",
     "library": "var_list.r",
     "varRefreshCmd": "cat(var_dic_list()) "
    }
   },
   "types_to_exclude": [
    "module",
    "function",
    "builtin_function_or_method",
    "instance",
    "_Feature"
   ],
   "window_display": false
  }
 },
 "nbformat": 4,
 "nbformat_minor": 4
}
